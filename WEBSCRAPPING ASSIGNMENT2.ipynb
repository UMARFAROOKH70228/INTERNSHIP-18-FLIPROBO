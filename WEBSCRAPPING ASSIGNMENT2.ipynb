{
 "cells": [
  {
   "cell_type": "code",
   "execution_count": 1,
   "metadata": {},
   "outputs": [
    {
     "name": "stdout",
     "output_type": "stream",
     "text": [
      "Requirement already satisfied: selenium in c:\\users\\umarfarooque\\anaconda3\\lib\\site-packages (3.141.0)\n",
      "Requirement already satisfied: urllib3 in c:\\users\\umarfarooque\\anaconda3\\lib\\site-packages (from selenium) (1.25.11)\n"
     ]
    }
   ],
   "source": [
    "!pip install selenium"
   ]
  },
  {
   "cell_type": "markdown",
   "metadata": {},
   "source": [
    "##Q1: Write a python program to scrape data for “Data Analyst” Job position in“Bangalore” location. You have to scrape the job-title, job-location, company_name,experience_required. You have to scrape first 10 jobs data."
   ]
  },
  {
   "cell_type": "code",
   "execution_count": 2,
   "metadata": {},
   "outputs": [],
   "source": [
    "#importiong neccessary libraries\n",
    "import selenium\n",
    "import pandas as pd\n",
    "from selenium import webdriver"
   ]
  },
  {
   "cell_type": "code",
   "execution_count": 3,
   "metadata": {},
   "outputs": [],
   "source": [
    "driver = webdriver.Chrome(r\"C:\\Users\\UmarFarooque\\Downloads\\chromedriver_win32\\chromedriver.exe\")"
   ]
  },
  {
   "cell_type": "code",
   "execution_count": 4,
   "metadata": {},
   "outputs": [],
   "source": [
    "url = 'https://www.naukri.com/ '\n",
    "driver.get(url)"
   ]
  },
  {
   "cell_type": "code",
   "execution_count": 5,
   "metadata": {},
   "outputs": [],
   "source": [
    "#entering \"Data Analyst\" in job search bar using selenium driver\n",
    "search_job = driver.find_element_by_class_name('sugInp')\n",
    "search_job.send_keys(\"Data Analyst\")"
   ]
  },
  {
   "cell_type": "code",
   "execution_count": 6,
   "metadata": {},
   "outputs": [],
   "source": [
    "#entering \"Bangalore\" in location search bar using selenium deriver\n",
    "location = driver.find_element_by_name('location')\n",
    "location.send_keys(\"Bangalore\")"
   ]
  },
  {
   "cell_type": "code",
   "execution_count": 7,
   "metadata": {},
   "outputs": [],
   "source": [
    "#clicking submit button using selenium deriver\n",
    "submit_button = driver.find_element_by_xpath('//button[@class=\"btn\"]')\n",
    "submit_button.click()"
   ]
  },
  {
   "cell_type": "code",
   "execution_count": 8,
   "metadata": {},
   "outputs": [
    {
     "data": {
      "text/plain": [
       "[<selenium.webdriver.remote.webelement.WebElement (session=\"97154262b47560e650ab3fd283fe88b5\", element=\"faac0d26-93bb-4efb-b2cf-8f5a041a9c6c\")>,\n",
       " <selenium.webdriver.remote.webelement.WebElement (session=\"97154262b47560e650ab3fd283fe88b5\", element=\"ea975997-ae11-4c0d-a84e-dec8057df9c7\")>,\n",
       " <selenium.webdriver.remote.webelement.WebElement (session=\"97154262b47560e650ab3fd283fe88b5\", element=\"6cad94bb-04c2-4ce9-aa86-955dfb486ac0\")>,\n",
       " <selenium.webdriver.remote.webelement.WebElement (session=\"97154262b47560e650ab3fd283fe88b5\", element=\"732471aa-9c2e-4678-a915-6fdd42073494\")>,\n",
       " <selenium.webdriver.remote.webelement.WebElement (session=\"97154262b47560e650ab3fd283fe88b5\", element=\"69ad0bb6-5907-43ae-be1a-4400c8933c8f\")>,\n",
       " <selenium.webdriver.remote.webelement.WebElement (session=\"97154262b47560e650ab3fd283fe88b5\", element=\"22617339-aaaa-44ab-8a29-c67af4f2a64d\")>,\n",
       " <selenium.webdriver.remote.webelement.WebElement (session=\"97154262b47560e650ab3fd283fe88b5\", element=\"019502bb-cb0b-43d5-a544-7a7cc641f1da\")>,\n",
       " <selenium.webdriver.remote.webelement.WebElement (session=\"97154262b47560e650ab3fd283fe88b5\", element=\"2c58721f-a203-402a-8035-d6ee0b206c60\")>,\n",
       " <selenium.webdriver.remote.webelement.WebElement (session=\"97154262b47560e650ab3fd283fe88b5\", element=\"959d180c-e4d5-4290-9c51-c0946e527216\")>,\n",
       " <selenium.webdriver.remote.webelement.WebElement (session=\"97154262b47560e650ab3fd283fe88b5\", element=\"b7e24d7e-4111-412f-87f6-74e105b7d57b\")>,\n",
       " <selenium.webdriver.remote.webelement.WebElement (session=\"97154262b47560e650ab3fd283fe88b5\", element=\"3d50625c-5d82-460b-8b35-ff19f6b9055b\")>,\n",
       " <selenium.webdriver.remote.webelement.WebElement (session=\"97154262b47560e650ab3fd283fe88b5\", element=\"c4ac32b4-4d1d-423c-90cd-2d7496ff1681\")>,\n",
       " <selenium.webdriver.remote.webelement.WebElement (session=\"97154262b47560e650ab3fd283fe88b5\", element=\"00e1de99-b97d-46eb-aa46-c5540d7c4c35\")>,\n",
       " <selenium.webdriver.remote.webelement.WebElement (session=\"97154262b47560e650ab3fd283fe88b5\", element=\"48948b62-6ea2-4f8e-91f3-37b44717c28c\")>,\n",
       " <selenium.webdriver.remote.webelement.WebElement (session=\"97154262b47560e650ab3fd283fe88b5\", element=\"47d47b71-67a1-4b27-a714-f37534a86f20\")>,\n",
       " <selenium.webdriver.remote.webelement.WebElement (session=\"97154262b47560e650ab3fd283fe88b5\", element=\"13411bdd-64bc-48f1-ab50-f83f75d9a786\")>,\n",
       " <selenium.webdriver.remote.webelement.WebElement (session=\"97154262b47560e650ab3fd283fe88b5\", element=\"5b5e8255-025d-4a65-b62c-4cd678d28220\")>,\n",
       " <selenium.webdriver.remote.webelement.WebElement (session=\"97154262b47560e650ab3fd283fe88b5\", element=\"39557648-a7de-4a47-9e81-a409b0a63e3e\")>,\n",
       " <selenium.webdriver.remote.webelement.WebElement (session=\"97154262b47560e650ab3fd283fe88b5\", element=\"7e3f8dd1-5793-44b6-ba4c-f89ce649da38\")>,\n",
       " <selenium.webdriver.remote.webelement.WebElement (session=\"97154262b47560e650ab3fd283fe88b5\", element=\"11801018-c900-48ba-8f60-83c91ea5f3c8\")>]"
      ]
     },
     "execution_count": 8,
     "metadata": {},
     "output_type": "execute_result"
    }
   ],
   "source": [
    "#finding job title element using xpath\n",
    "title_tags= driver.find_elements_by_xpath(\"//a[@class='title fw500 ellipsis']\")\n",
    "title_tags\n"
   ]
  },
  {
   "cell_type": "code",
   "execution_count": 9,
   "metadata": {},
   "outputs": [],
   "source": [
    "#getting all the available text in the title_tags element\n",
    "job_title =[]\n",
    "\n",
    "for i in title_tags:\n",
    "    job_title.append(i.text)"
   ]
  },
  {
   "cell_type": "code",
   "execution_count": 10,
   "metadata": {},
   "outputs": [
    {
     "data": {
      "text/plain": [
       "['Data Analyst',\n",
       " 'Systems and Data Analyst, Safety and Provisioning',\n",
       " 'Data Annotator | Data Entry | Work From Home | Data analyst | Data QC',\n",
       " 'Senior CDP (Customer Data Platform) Analyst',\n",
       " 'Senior Analyst - Data & Analytics',\n",
       " 'Senior Data Analyst - SQL/Tableau/Redshift',\n",
       " 'Lead Data Analyst',\n",
       " 'Business Data Analyst - Alteryx/Hadoop',\n",
       " 'Senior Data Analyst',\n",
       " 'Senior Data Analyst',\n",
       " 'Immediate Opening For Senior Data Analyst (PLSQ) For Pune location',\n",
       " 'Data Analyst - Work from Home',\n",
       " 'Data Analyst',\n",
       " 'Data Analyst',\n",
       " 'Medical Operations Data Analyst',\n",
       " 'ID&A - Data Analyst - Informatica MDM',\n",
       " 'Data analysts',\n",
       " 'Data Analyst',\n",
       " 'Data Scientist / Data Analyst -Business Analyst',\n",
       " 'Business Data Analyst || Girikon Solutions']"
      ]
     },
     "execution_count": 10,
     "metadata": {},
     "output_type": "execute_result"
    }
   ],
   "source": [
    "#printing job_title\n",
    "job_title"
   ]
  },
  {
   "cell_type": "code",
   "execution_count": 70,
   "metadata": {},
   "outputs": [
    {
     "data": {
      "text/plain": [
       "[<selenium.webdriver.remote.webelement.WebElement (session=\"97154262b47560e650ab3fd283fe88b5\", element=\"c28c92d2-79ea-4808-a466-a9ac279dd1f3\")>,\n",
       " <selenium.webdriver.remote.webelement.WebElement (session=\"97154262b47560e650ab3fd283fe88b5\", element=\"f0a05947-efda-4a82-97c2-75c02289e3ec\")>,\n",
       " <selenium.webdriver.remote.webelement.WebElement (session=\"97154262b47560e650ab3fd283fe88b5\", element=\"edf2f2dc-4d69-4c80-a9ee-002e321f3257\")>,\n",
       " <selenium.webdriver.remote.webelement.WebElement (session=\"97154262b47560e650ab3fd283fe88b5\", element=\"feaa9d4d-915e-4249-93e2-298eac7a95ad\")>,\n",
       " <selenium.webdriver.remote.webelement.WebElement (session=\"97154262b47560e650ab3fd283fe88b5\", element=\"f5a59a50-b30f-4db7-b111-fdb5e19515fa\")>,\n",
       " <selenium.webdriver.remote.webelement.WebElement (session=\"97154262b47560e650ab3fd283fe88b5\", element=\"92628006-f5e2-4da4-a918-3d4a46dd2909\")>,\n",
       " <selenium.webdriver.remote.webelement.WebElement (session=\"97154262b47560e650ab3fd283fe88b5\", element=\"0e226913-9756-4d3b-9b56-acdc46ed9894\")>,\n",
       " <selenium.webdriver.remote.webelement.WebElement (session=\"97154262b47560e650ab3fd283fe88b5\", element=\"dd16ac9c-005a-4d2a-aef8-ab502c7967aa\")>,\n",
       " <selenium.webdriver.remote.webelement.WebElement (session=\"97154262b47560e650ab3fd283fe88b5\", element=\"3578efc4-4ec4-4aa8-bb80-9014c2362883\")>,\n",
       " <selenium.webdriver.remote.webelement.WebElement (session=\"97154262b47560e650ab3fd283fe88b5\", element=\"dde4c905-d31d-4bad-932a-9034011b3373\")>,\n",
       " <selenium.webdriver.remote.webelement.WebElement (session=\"97154262b47560e650ab3fd283fe88b5\", element=\"638eb8d8-f31d-48c7-b319-cc5845850696\")>,\n",
       " <selenium.webdriver.remote.webelement.WebElement (session=\"97154262b47560e650ab3fd283fe88b5\", element=\"cb82f827-b6e1-4520-8a5b-eba9037a2334\")>,\n",
       " <selenium.webdriver.remote.webelement.WebElement (session=\"97154262b47560e650ab3fd283fe88b5\", element=\"abb55fd1-5684-4b86-9420-c3739ad9d4eb\")>,\n",
       " <selenium.webdriver.remote.webelement.WebElement (session=\"97154262b47560e650ab3fd283fe88b5\", element=\"216b6a23-bacc-4461-8acf-ab6837ec586b\")>,\n",
       " <selenium.webdriver.remote.webelement.WebElement (session=\"97154262b47560e650ab3fd283fe88b5\", element=\"e1578ca0-1e46-43bf-8a57-b52374ec94c0\")>,\n",
       " <selenium.webdriver.remote.webelement.WebElement (session=\"97154262b47560e650ab3fd283fe88b5\", element=\"3442105c-3f1c-447d-9a10-a5ce24af97aa\")>,\n",
       " <selenium.webdriver.remote.webelement.WebElement (session=\"97154262b47560e650ab3fd283fe88b5\", element=\"78d90f7d-390c-48ca-aad7-24debd91b458\")>,\n",
       " <selenium.webdriver.remote.webelement.WebElement (session=\"97154262b47560e650ab3fd283fe88b5\", element=\"1e303817-d5d2-47ea-a991-982ecbd32c62\")>,\n",
       " <selenium.webdriver.remote.webelement.WebElement (session=\"97154262b47560e650ab3fd283fe88b5\", element=\"72988450-cacb-49b2-a1b7-3886adb6e981\")>,\n",
       " <selenium.webdriver.remote.webelement.WebElement (session=\"97154262b47560e650ab3fd283fe88b5\", element=\"5dff511f-f955-4525-9fbe-3127d9c7d807\")>]"
      ]
     },
     "execution_count": 70,
     "metadata": {},
     "output_type": "execute_result"
    }
   ],
   "source": [
    "\n",
    "#finding location   element using xpath\n",
    "location_tag = driver.find_elements_by_xpath(\"//li[@class='fleft grey-text br2 placeHolderLi location']\")\n",
    "location_tag"
   ]
  },
  {
   "cell_type": "code",
   "execution_count": 71,
   "metadata": {},
   "outputs": [],
   "source": [
    "#getting all the available text in the location_tag element with slicing to fetch only location \n",
    "location =[]\n",
    "\n",
    "for i in location_tag:\n",
    "    location.append(i.text)"
   ]
  },
  {
   "cell_type": "code",
   "execution_count": 72,
   "metadata": {},
   "outputs": [
    {
     "data": {
      "text/plain": [
       "['Bangalore/Bengaluru',\n",
       " 'Bangalore/Bengaluru',\n",
       " 'Bangalore/Bengaluru',\n",
       " 'Bangalore/Bengaluru',\n",
       " 'Bangalore/Bengaluru',\n",
       " 'Noida, Mumbai, Indore, Hyderabad/Secunderabad, Pune, Chennai, Bangalore/Bengaluru\\n(WFH during Covid)',\n",
       " 'United States (USA), Bangalore/Bengaluru',\n",
       " 'Bangalore/Bengaluru',\n",
       " 'Bangalore/Bengaluru',\n",
       " 'Bangalore/Bengaluru',\n",
       " 'Pune, Bangalore/Bengaluru',\n",
       " 'Pune, Bangalore/Bengaluru, Mumbai (All Areas)',\n",
       " 'Bangalore/Bengaluru',\n",
       " 'Bangalore/Bengaluru',\n",
       " 'Bangalore/Bengaluru(Vyalikaval)',\n",
       " 'Bangalore/Bengaluru',\n",
       " 'Bangalore/Bengaluru',\n",
       " 'Bangalore/Bengaluru',\n",
       " 'Hyderabad/Secunderabad, Chennai, Bangalore/Bengaluru',\n",
       " 'Noida, Bangalore/Bengaluru']"
      ]
     },
     "execution_count": 72,
     "metadata": {},
     "output_type": "execute_result"
    }
   ],
   "source": [
    "#printing location \n",
    "location"
   ]
  },
  {
   "cell_type": "code",
   "execution_count": 46,
   "metadata": {},
   "outputs": [
    {
     "data": {
      "text/plain": [
       "[<selenium.webdriver.remote.webelement.WebElement (session=\"97154262b47560e650ab3fd283fe88b5\", element=\"b911886a-4c83-4494-b37b-409c3dcc8c0b\")>,\n",
       " <selenium.webdriver.remote.webelement.WebElement (session=\"97154262b47560e650ab3fd283fe88b5\", element=\"726f8fb2-7eb5-44a1-8370-ebd7c2130149\")>,\n",
       " <selenium.webdriver.remote.webelement.WebElement (session=\"97154262b47560e650ab3fd283fe88b5\", element=\"adb355d9-144f-4507-a5c3-170c15e78459\")>,\n",
       " <selenium.webdriver.remote.webelement.WebElement (session=\"97154262b47560e650ab3fd283fe88b5\", element=\"60f8f8fe-47e1-455d-ae52-3c98d2eb619d\")>,\n",
       " <selenium.webdriver.remote.webelement.WebElement (session=\"97154262b47560e650ab3fd283fe88b5\", element=\"00920542-f9b0-4800-b003-3eda5964e627\")>,\n",
       " <selenium.webdriver.remote.webelement.WebElement (session=\"97154262b47560e650ab3fd283fe88b5\", element=\"b3cabdb8-9949-44cb-8d9f-86ff490a8e5d\")>,\n",
       " <selenium.webdriver.remote.webelement.WebElement (session=\"97154262b47560e650ab3fd283fe88b5\", element=\"61357d27-afb7-46f6-8d42-adee4dfe7c92\")>,\n",
       " <selenium.webdriver.remote.webelement.WebElement (session=\"97154262b47560e650ab3fd283fe88b5\", element=\"6ad1760d-5612-4f7e-9246-1e2134747787\")>,\n",
       " <selenium.webdriver.remote.webelement.WebElement (session=\"97154262b47560e650ab3fd283fe88b5\", element=\"f8934ca7-bd95-48df-86dc-8ee1d95c1344\")>,\n",
       " <selenium.webdriver.remote.webelement.WebElement (session=\"97154262b47560e650ab3fd283fe88b5\", element=\"fde047d3-fa87-4b22-89f1-61fd189a0152\")>,\n",
       " <selenium.webdriver.remote.webelement.WebElement (session=\"97154262b47560e650ab3fd283fe88b5\", element=\"d220d427-8251-45c6-becc-3577705242f5\")>,\n",
       " <selenium.webdriver.remote.webelement.WebElement (session=\"97154262b47560e650ab3fd283fe88b5\", element=\"113f611f-9324-4574-b111-bc4d5dc028ca\")>,\n",
       " <selenium.webdriver.remote.webelement.WebElement (session=\"97154262b47560e650ab3fd283fe88b5\", element=\"d7ae7fe4-f2fd-43ad-a6e0-9c3977a8f62c\")>,\n",
       " <selenium.webdriver.remote.webelement.WebElement (session=\"97154262b47560e650ab3fd283fe88b5\", element=\"34937935-d869-443e-a750-16e0bac1e422\")>,\n",
       " <selenium.webdriver.remote.webelement.WebElement (session=\"97154262b47560e650ab3fd283fe88b5\", element=\"1d7400a9-26b2-40ab-86f5-131b8632d4eb\")>,\n",
       " <selenium.webdriver.remote.webelement.WebElement (session=\"97154262b47560e650ab3fd283fe88b5\", element=\"e6715e89-06fd-47a9-9b7d-fdc31f89d34d\")>,\n",
       " <selenium.webdriver.remote.webelement.WebElement (session=\"97154262b47560e650ab3fd283fe88b5\", element=\"c73442e2-ef83-458a-b88f-7edb0279e7ae\")>,\n",
       " <selenium.webdriver.remote.webelement.WebElement (session=\"97154262b47560e650ab3fd283fe88b5\", element=\"a639ba13-826b-46d8-8afa-f78fc513e31b\")>,\n",
       " <selenium.webdriver.remote.webelement.WebElement (session=\"97154262b47560e650ab3fd283fe88b5\", element=\"2e1493e8-0ca4-496a-9b37-35eb2ecb5cdc\")>,\n",
       " <selenium.webdriver.remote.webelement.WebElement (session=\"97154262b47560e650ab3fd283fe88b5\", element=\"7800ebd4-9cba-445a-98c0-9048de5d79a2\")>]"
      ]
     },
     "execution_count": 46,
     "metadata": {},
     "output_type": "execute_result"
    }
   ],
   "source": [
    "#finding location   element using xpath\n",
    "exp_tag= driver.find_elements_by_xpath(\"//li[@class='fleft grey-text br2 placeHolderLi experience']//span\")\n",
    "exp_tag"
   ]
  },
  {
   "cell_type": "code",
   "execution_count": 47,
   "metadata": {},
   "outputs": [],
   "source": [
    "#getting all the available text in the location_tag element with slicing to fetch only experience \n",
    "experience = []\n",
    "for i in exp_tag:\n",
    "    experience.append(i.text)"
   ]
  },
  {
   "cell_type": "code",
   "execution_count": 48,
   "metadata": {},
   "outputs": [
    {
     "data": {
      "text/plain": [
       "['6-8 Yrs',\n",
       " '3-5 Yrs',\n",
       " '0-2 Yrs',\n",
       " '4-9 Yrs',\n",
       " '3-8 Yrs',\n",
       " '6-10 Yrs',\n",
       " '5-10 Yrs',\n",
       " '5-8 Yrs',\n",
       " '1-3 Yrs',\n",
       " '1-5 Yrs',\n",
       " '3-6 Yrs',\n",
       " '2-5 Yrs',\n",
       " '1-6 Yrs',\n",
       " '3-7 Yrs',\n",
       " '3-6 Yrs',\n",
       " '6-9 Yrs',\n",
       " '2-7 Yrs',\n",
       " '5-10 Yrs',\n",
       " '0-3 Yrs',\n",
       " '5-10 Yrs']"
      ]
     },
     "execution_count": 48,
     "metadata": {},
     "output_type": "execute_result"
    }
   ],
   "source": [
    "experience"
   ]
  },
  {
   "cell_type": "code",
   "execution_count": 49,
   "metadata": {},
   "outputs": [
    {
     "data": {
      "text/plain": [
       "[<selenium.webdriver.remote.webelement.WebElement (session=\"97154262b47560e650ab3fd283fe88b5\", element=\"bb09c966-5f97-42e0-8d3e-cbc57c5934f1\")>,\n",
       " <selenium.webdriver.remote.webelement.WebElement (session=\"97154262b47560e650ab3fd283fe88b5\", element=\"29f14ca6-82f9-4e2f-958b-cb2f0234fb1c\")>,\n",
       " <selenium.webdriver.remote.webelement.WebElement (session=\"97154262b47560e650ab3fd283fe88b5\", element=\"aeccaf7a-dba2-4894-8b5f-8da0eedc44d2\")>,\n",
       " <selenium.webdriver.remote.webelement.WebElement (session=\"97154262b47560e650ab3fd283fe88b5\", element=\"a58c8f10-e74b-44c9-a282-a6041017a6c9\")>,\n",
       " <selenium.webdriver.remote.webelement.WebElement (session=\"97154262b47560e650ab3fd283fe88b5\", element=\"f758b171-1d12-4d31-841a-fc35161d2155\")>,\n",
       " <selenium.webdriver.remote.webelement.WebElement (session=\"97154262b47560e650ab3fd283fe88b5\", element=\"a0de5b48-fe8b-4876-9064-b586ea449e83\")>,\n",
       " <selenium.webdriver.remote.webelement.WebElement (session=\"97154262b47560e650ab3fd283fe88b5\", element=\"246161bc-c85e-4be1-a446-deab89470ca5\")>,\n",
       " <selenium.webdriver.remote.webelement.WebElement (session=\"97154262b47560e650ab3fd283fe88b5\", element=\"bf2c8073-1dfa-4443-a557-df5b6e792b4b\")>,\n",
       " <selenium.webdriver.remote.webelement.WebElement (session=\"97154262b47560e650ab3fd283fe88b5\", element=\"5d8a1935-1e5c-49cc-8f3e-fe0079dc1ea8\")>,\n",
       " <selenium.webdriver.remote.webelement.WebElement (session=\"97154262b47560e650ab3fd283fe88b5\", element=\"048f3f0d-319f-48ce-8433-5cd69672d2fa\")>,\n",
       " <selenium.webdriver.remote.webelement.WebElement (session=\"97154262b47560e650ab3fd283fe88b5\", element=\"e0ab054e-61af-4f89-b10a-5f5934ed11aa\")>,\n",
       " <selenium.webdriver.remote.webelement.WebElement (session=\"97154262b47560e650ab3fd283fe88b5\", element=\"8746a608-c146-4bc4-a9ef-1a019ffdbff3\")>,\n",
       " <selenium.webdriver.remote.webelement.WebElement (session=\"97154262b47560e650ab3fd283fe88b5\", element=\"2ec13347-ce60-4b83-8b86-4caf8a54dede\")>,\n",
       " <selenium.webdriver.remote.webelement.WebElement (session=\"97154262b47560e650ab3fd283fe88b5\", element=\"8e1f47a8-3c09-4bb6-8227-a8f7a1ff2c19\")>,\n",
       " <selenium.webdriver.remote.webelement.WebElement (session=\"97154262b47560e650ab3fd283fe88b5\", element=\"a35ec77c-8ca0-4e0f-9a15-6e218069a406\")>,\n",
       " <selenium.webdriver.remote.webelement.WebElement (session=\"97154262b47560e650ab3fd283fe88b5\", element=\"0a96dda0-2398-44f8-bcc0-c3e337296545\")>,\n",
       " <selenium.webdriver.remote.webelement.WebElement (session=\"97154262b47560e650ab3fd283fe88b5\", element=\"e64e76d9-bfe9-4519-8797-4b45e50bc0ff\")>,\n",
       " <selenium.webdriver.remote.webelement.WebElement (session=\"97154262b47560e650ab3fd283fe88b5\", element=\"e3eeb0fd-cc83-4dce-a65b-5124e22e1f27\")>,\n",
       " <selenium.webdriver.remote.webelement.WebElement (session=\"97154262b47560e650ab3fd283fe88b5\", element=\"73f737b1-43b1-4eb7-9b9e-d5df9d5143e8\")>,\n",
       " <selenium.webdriver.remote.webelement.WebElement (session=\"97154262b47560e650ab3fd283fe88b5\", element=\"689c41c0-43db-42ad-80f9-9dbf4024d3b3\")>]"
      ]
     },
     "execution_count": 49,
     "metadata": {},
     "output_type": "execute_result"
    }
   ],
   "source": [
    "#finding company name element using xpath\n",
    "company_tag = driver.find_elements_by_xpath(\"//a[@class='subTitle ellipsis fleft']\")\n",
    "company_tag"
   ]
  },
  {
   "cell_type": "code",
   "execution_count": 50,
   "metadata": {},
   "outputs": [],
   "source": [
    "#getting all the available text in the company_tag element to fetch company name and appending the same in for loop\n",
    "company_name = []\n",
    "\n",
    "for i in company_tag:\n",
    "    company_name.append(i.text)"
   ]
  },
  {
   "cell_type": "code",
   "execution_count": 51,
   "metadata": {},
   "outputs": [
    {
     "data": {
      "text/plain": [
       "['Enzen Global Solutions Pvt. Ltd',\n",
       " 'AECOM India Private Limited',\n",
       " 'saarthi.ai',\n",
       " 'Indegene',\n",
       " 'Indegene',\n",
       " 'Pronto Consulting Services',\n",
       " 'Bidgely Technologies Private Limited',\n",
       " 'Talent Placers',\n",
       " 'Publicis Groupe',\n",
       " 'Publicis Groupe',\n",
       " 'Harman Connected Services',\n",
       " 'POWER STORES E COMMERCE PRIVATE LIMITED',\n",
       " 'Innovsource Services Private Limited',\n",
       " 'Enzen Global Solutions',\n",
       " 'Tricog Health India Private Limited',\n",
       " 'Shell India Markets Private Limited',\n",
       " 'Kwalee ltd.',\n",
       " 'IBM India Pvt. Limited',\n",
       " 'Inflexion Analytix Private Limited',\n",
       " 'Girikon Solutions Pvt. Ltd.']"
      ]
     },
     "execution_count": 51,
     "metadata": {},
     "output_type": "execute_result"
    }
   ],
   "source": [
    "#printing company name\n",
    "company_name"
   ]
  },
  {
   "cell_type": "code",
   "execution_count": 75,
   "metadata": {},
   "outputs": [],
   "source": [
    "#slicing all list as we just wanted the forst 10 values from each list\n",
    "job_title =job_title[0:10]\n",
    "experience = experience[0:10]\n",
    "location = location[0:10]\n",
    "company_name =company_name[0:10]"
   ]
  },
  {
   "cell_type": "code",
   "execution_count": 76,
   "metadata": {},
   "outputs": [
    {
     "data": {
      "text/plain": [
       "['6-8 Yrs',\n",
       " '3-5 Yrs',\n",
       " '0-2 Yrs',\n",
       " '4-9 Yrs',\n",
       " '3-8 Yrs',\n",
       " '6-10 Yrs',\n",
       " '5-10 Yrs',\n",
       " '5-8 Yrs',\n",
       " '1-3 Yrs',\n",
       " '1-5 Yrs']"
      ]
     },
     "execution_count": 76,
     "metadata": {},
     "output_type": "execute_result"
    }
   ],
   "source": [
    "experience"
   ]
  },
  {
   "cell_type": "code",
   "execution_count": 77,
   "metadata": {},
   "outputs": [
    {
     "name": "stdout",
     "output_type": "stream",
     "text": [
      "10 10 10 10\n"
     ]
    }
   ],
   "source": [
    "print(len(job_title),len(experience),len(location),len(company_name))"
   ]
  },
  {
   "cell_type": "code",
   "execution_count": 78,
   "metadata": {},
   "outputs": [],
   "source": [
    "# creating dataframe and assigning lists to columns\n",
    "df = pd.DataFrame({})\n",
    "df['Job_title'] = job_title\n",
    "df['Comapany_name'] = company_name\n",
    "df['Experience'] = experience\n",
    "df['Location'] = location"
   ]
  },
  {
   "cell_type": "code",
   "execution_count": 79,
   "metadata": {},
   "outputs": [
    {
     "data": {
      "text/html": [
       "<div>\n",
       "<style scoped>\n",
       "    .dataframe tbody tr th:only-of-type {\n",
       "        vertical-align: middle;\n",
       "    }\n",
       "\n",
       "    .dataframe tbody tr th {\n",
       "        vertical-align: top;\n",
       "    }\n",
       "\n",
       "    .dataframe thead th {\n",
       "        text-align: right;\n",
       "    }\n",
       "</style>\n",
       "<table border=\"1\" class=\"dataframe\">\n",
       "  <thead>\n",
       "    <tr style=\"text-align: right;\">\n",
       "      <th></th>\n",
       "      <th>Job_title</th>\n",
       "      <th>Comapany_name</th>\n",
       "      <th>Experience</th>\n",
       "      <th>Location</th>\n",
       "    </tr>\n",
       "  </thead>\n",
       "  <tbody>\n",
       "    <tr>\n",
       "      <th>0</th>\n",
       "      <td>Data Analyst</td>\n",
       "      <td>Enzen Global Solutions Pvt. Ltd</td>\n",
       "      <td>6-8 Yrs</td>\n",
       "      <td>Bangalore/Bengaluru</td>\n",
       "    </tr>\n",
       "    <tr>\n",
       "      <th>1</th>\n",
       "      <td>Systems and Data Analyst, Safety and Provisioning</td>\n",
       "      <td>AECOM India Private Limited</td>\n",
       "      <td>3-5 Yrs</td>\n",
       "      <td>Bangalore/Bengaluru</td>\n",
       "    </tr>\n",
       "    <tr>\n",
       "      <th>2</th>\n",
       "      <td>Data Annotator | Data Entry | Work From Home |...</td>\n",
       "      <td>saarthi.ai</td>\n",
       "      <td>0-2 Yrs</td>\n",
       "      <td>Bangalore/Bengaluru</td>\n",
       "    </tr>\n",
       "    <tr>\n",
       "      <th>3</th>\n",
       "      <td>Senior CDP (Customer Data Platform) Analyst</td>\n",
       "      <td>Indegene</td>\n",
       "      <td>4-9 Yrs</td>\n",
       "      <td>Bangalore/Bengaluru</td>\n",
       "    </tr>\n",
       "    <tr>\n",
       "      <th>4</th>\n",
       "      <td>Senior Analyst - Data &amp; Analytics</td>\n",
       "      <td>Indegene</td>\n",
       "      <td>3-8 Yrs</td>\n",
       "      <td>Bangalore/Bengaluru</td>\n",
       "    </tr>\n",
       "    <tr>\n",
       "      <th>5</th>\n",
       "      <td>Senior Data Analyst - SQL/Tableau/Redshift</td>\n",
       "      <td>Pronto Consulting Services</td>\n",
       "      <td>6-10 Yrs</td>\n",
       "      <td>Noida, Mumbai, Indore, Hyderabad/Secunderabad,...</td>\n",
       "    </tr>\n",
       "    <tr>\n",
       "      <th>6</th>\n",
       "      <td>Lead Data Analyst</td>\n",
       "      <td>Bidgely Technologies Private Limited</td>\n",
       "      <td>5-10 Yrs</td>\n",
       "      <td>United States (USA), Bangalore/Bengaluru</td>\n",
       "    </tr>\n",
       "    <tr>\n",
       "      <th>7</th>\n",
       "      <td>Business Data Analyst - Alteryx/Hadoop</td>\n",
       "      <td>Talent Placers</td>\n",
       "      <td>5-8 Yrs</td>\n",
       "      <td>Bangalore/Bengaluru</td>\n",
       "    </tr>\n",
       "    <tr>\n",
       "      <th>8</th>\n",
       "      <td>Senior Data Analyst</td>\n",
       "      <td>Publicis Groupe</td>\n",
       "      <td>1-3 Yrs</td>\n",
       "      <td>Bangalore/Bengaluru</td>\n",
       "    </tr>\n",
       "    <tr>\n",
       "      <th>9</th>\n",
       "      <td>Senior Data Analyst</td>\n",
       "      <td>Publicis Groupe</td>\n",
       "      <td>1-5 Yrs</td>\n",
       "      <td>Bangalore/Bengaluru</td>\n",
       "    </tr>\n",
       "  </tbody>\n",
       "</table>\n",
       "</div>"
      ],
      "text/plain": [
       "                                           Job_title  \\\n",
       "0                                       Data Analyst   \n",
       "1  Systems and Data Analyst, Safety and Provisioning   \n",
       "2  Data Annotator | Data Entry | Work From Home |...   \n",
       "3        Senior CDP (Customer Data Platform) Analyst   \n",
       "4                  Senior Analyst - Data & Analytics   \n",
       "5         Senior Data Analyst - SQL/Tableau/Redshift   \n",
       "6                                  Lead Data Analyst   \n",
       "7             Business Data Analyst - Alteryx/Hadoop   \n",
       "8                                Senior Data Analyst   \n",
       "9                                Senior Data Analyst   \n",
       "\n",
       "                          Comapany_name Experience  \\\n",
       "0       Enzen Global Solutions Pvt. Ltd    6-8 Yrs   \n",
       "1           AECOM India Private Limited    3-5 Yrs   \n",
       "2                            saarthi.ai    0-2 Yrs   \n",
       "3                              Indegene    4-9 Yrs   \n",
       "4                              Indegene    3-8 Yrs   \n",
       "5            Pronto Consulting Services   6-10 Yrs   \n",
       "6  Bidgely Technologies Private Limited   5-10 Yrs   \n",
       "7                        Talent Placers    5-8 Yrs   \n",
       "8                       Publicis Groupe    1-3 Yrs   \n",
       "9                       Publicis Groupe    1-5 Yrs   \n",
       "\n",
       "                                            Location  \n",
       "0                                Bangalore/Bengaluru  \n",
       "1                                Bangalore/Bengaluru  \n",
       "2                                Bangalore/Bengaluru  \n",
       "3                                Bangalore/Bengaluru  \n",
       "4                                Bangalore/Bengaluru  \n",
       "5  Noida, Mumbai, Indore, Hyderabad/Secunderabad,...  \n",
       "6           United States (USA), Bangalore/Bengaluru  \n",
       "7                                Bangalore/Bengaluru  \n",
       "8                                Bangalore/Bengaluru  \n",
       "9                                Bangalore/Bengaluru  "
      ]
     },
     "execution_count": 79,
     "metadata": {},
     "output_type": "execute_result"
    }
   ],
   "source": [
    "df"
   ]
  },
  {
   "cell_type": "markdown",
   "metadata": {},
   "source": [
    "#Q2.Write a python program to scrape data for “Data Scientist” Job position in \n",
    "“Bangalore” location. You have to scrape the job-title, job-location, company_name, full job-description. You have to scrape first 10 jobs data. \n"
   ]
  },
  {
   "cell_type": "code",
   "execution_count": 1,
   "metadata": {},
   "outputs": [],
   "source": [
    "#importiong neccessary libraries\n",
    "import selenium\n",
    "import pandas as pd\n",
    "from selenium import webdriver"
   ]
  },
  {
   "cell_type": "code",
   "execution_count": 2,
   "metadata": {},
   "outputs": [],
   "source": [
    "driver = webdriver.Chrome(r\"C:\\Users\\UmarFarooque\\Downloads\\chromedriver_win32\\chromedriver.exe\")"
   ]
  },
  {
   "cell_type": "code",
   "execution_count": 3,
   "metadata": {},
   "outputs": [],
   "source": [
    "url = 'https://www.naukri.com/ '\n",
    "driver.get(url)"
   ]
  },
  {
   "cell_type": "code",
   "execution_count": 4,
   "metadata": {},
   "outputs": [],
   "source": [
    "#entering \"Data Scientist\" in job search bar using selenium driver\n",
    "search_job = driver.find_element_by_class_name('sugInp')\n",
    "search_job.send_keys(\"Data Scientist\")"
   ]
  },
  {
   "cell_type": "code",
   "execution_count": 5,
   "metadata": {},
   "outputs": [],
   "source": [
    "#entering \"Bangalore\" in location search bar using selenium deriver\n",
    "location = driver.find_element_by_name('location')\n",
    "location.send_keys(\"Bangalore\")"
   ]
  },
  {
   "cell_type": "code",
   "execution_count": 6,
   "metadata": {},
   "outputs": [],
   "source": [
    "#clicking submit button using selenium deriver\n",
    "submit_button = driver.find_element_by_xpath('//button[@class=\"btn\"]')\n",
    "submit_button.click()"
   ]
  },
  {
   "cell_type": "code",
   "execution_count": 7,
   "metadata": {},
   "outputs": [
    {
     "data": {
      "text/plain": [
       "[<selenium.webdriver.remote.webelement.WebElement (session=\"eb98e6a9bf47833dae62356199f49be8\", element=\"319799e7-b226-4f9f-bd2a-ca0c6a4cb214\")>,\n",
       " <selenium.webdriver.remote.webelement.WebElement (session=\"eb98e6a9bf47833dae62356199f49be8\", element=\"8dea9a3c-eadb-48a5-9e9c-7db9f6117f3b\")>,\n",
       " <selenium.webdriver.remote.webelement.WebElement (session=\"eb98e6a9bf47833dae62356199f49be8\", element=\"e51bea7c-a5e2-4acd-894c-cf0f7d95c8b2\")>,\n",
       " <selenium.webdriver.remote.webelement.WebElement (session=\"eb98e6a9bf47833dae62356199f49be8\", element=\"fed88e45-840a-42bd-999f-a2a330f890dd\")>,\n",
       " <selenium.webdriver.remote.webelement.WebElement (session=\"eb98e6a9bf47833dae62356199f49be8\", element=\"edd884b7-1f0f-42c0-bc05-07bd81e72e13\")>,\n",
       " <selenium.webdriver.remote.webelement.WebElement (session=\"eb98e6a9bf47833dae62356199f49be8\", element=\"d338ccfa-0cf7-4a1e-b9db-67343152924b\")>,\n",
       " <selenium.webdriver.remote.webelement.WebElement (session=\"eb98e6a9bf47833dae62356199f49be8\", element=\"35dd791b-5e99-4172-9817-a23f359b6f2b\")>,\n",
       " <selenium.webdriver.remote.webelement.WebElement (session=\"eb98e6a9bf47833dae62356199f49be8\", element=\"2cb9a5b6-717f-474a-abbd-16173bff75fc\")>,\n",
       " <selenium.webdriver.remote.webelement.WebElement (session=\"eb98e6a9bf47833dae62356199f49be8\", element=\"916f9969-b0ec-4d90-beb3-2caa689a6a69\")>,\n",
       " <selenium.webdriver.remote.webelement.WebElement (session=\"eb98e6a9bf47833dae62356199f49be8\", element=\"bb51fc8b-8cdc-49e9-83d6-c01cd133a88e\")>,\n",
       " <selenium.webdriver.remote.webelement.WebElement (session=\"eb98e6a9bf47833dae62356199f49be8\", element=\"6d505c93-08c7-4ace-8b0e-547b2a64f70d\")>,\n",
       " <selenium.webdriver.remote.webelement.WebElement (session=\"eb98e6a9bf47833dae62356199f49be8\", element=\"8568751e-a065-49cb-acb2-8f6e57e595db\")>,\n",
       " <selenium.webdriver.remote.webelement.WebElement (session=\"eb98e6a9bf47833dae62356199f49be8\", element=\"520bcb1d-a2e5-4484-a75c-385f1f9cf288\")>,\n",
       " <selenium.webdriver.remote.webelement.WebElement (session=\"eb98e6a9bf47833dae62356199f49be8\", element=\"3923b215-0b0a-448c-855b-e1d931581f6c\")>,\n",
       " <selenium.webdriver.remote.webelement.WebElement (session=\"eb98e6a9bf47833dae62356199f49be8\", element=\"b253d868-bcd0-4483-a556-23adae2442b4\")>,\n",
       " <selenium.webdriver.remote.webelement.WebElement (session=\"eb98e6a9bf47833dae62356199f49be8\", element=\"6cb49f03-03ed-4a1a-bfda-b1306e23c9a7\")>,\n",
       " <selenium.webdriver.remote.webelement.WebElement (session=\"eb98e6a9bf47833dae62356199f49be8\", element=\"e2119fc6-07b8-4048-b6dc-9c6edb6040ee\")>,\n",
       " <selenium.webdriver.remote.webelement.WebElement (session=\"eb98e6a9bf47833dae62356199f49be8\", element=\"de5a9c5a-532f-4392-9cb7-9b6ccb080c5a\")>,\n",
       " <selenium.webdriver.remote.webelement.WebElement (session=\"eb98e6a9bf47833dae62356199f49be8\", element=\"e068bd5d-a394-4a7b-adac-8f4af25fdb94\")>,\n",
       " <selenium.webdriver.remote.webelement.WebElement (session=\"eb98e6a9bf47833dae62356199f49be8\", element=\"314eda2c-4786-4f0a-94aa-9918a5928319\")>]"
      ]
     },
     "execution_count": 7,
     "metadata": {},
     "output_type": "execute_result"
    }
   ],
   "source": [
    "#finding job title element using xpath\n",
    "title_tags= driver.find_elements_by_xpath(\"//a[@class='title fw500 ellipsis']\")\n",
    "title_tags\n"
   ]
  },
  {
   "cell_type": "code",
   "execution_count": 9,
   "metadata": {},
   "outputs": [],
   "source": [
    "#getting all the available text in the title tags element with slicing to fetch only job_title \n",
    "job_title =[]\n",
    "\n",
    "for i in title_tags:\n",
    "    job_title.append(i.text)"
   ]
  },
  {
   "cell_type": "code",
   "execution_count": 10,
   "metadata": {},
   "outputs": [
    {
     "data": {
      "text/plain": [
       "['Senior Data Scientist',\n",
       " 'Senior Data Scientist',\n",
       " 'Senior Data Scientist',\n",
       " 'Senior Data Scientist',\n",
       " 'DATA SCIENTIST',\n",
       " 'Data Scientist - Permanent Role',\n",
       " 'Data Engineers , Data Scientist and SAP',\n",
       " 'Python - Data Scientist',\n",
       " 'Western Digital Data Scientist 3',\n",
       " 'Western Digital Data Scientist',\n",
       " 'Data Scientist 4',\n",
       " 'Data Scientist /Sr.Data Scientist',\n",
       " 'Senior Software Engineer - Data Scientist',\n",
       " 'Senior Associate - Data Scientist',\n",
       " 'Senior Data Scientist',\n",
       " 'Senior Data Scientist',\n",
       " 'Senior Data Scientist',\n",
       " 'Sr Data Scientist',\n",
       " 'Sr . Data Scientist',\n",
       " 'Senior Data Scientist']"
      ]
     },
     "execution_count": 10,
     "metadata": {},
     "output_type": "execute_result"
    }
   ],
   "source": [
    "job_title"
   ]
  },
  {
   "cell_type": "code",
   "execution_count": 11,
   "metadata": {},
   "outputs": [
    {
     "data": {
      "text/plain": [
       "[<selenium.webdriver.remote.webelement.WebElement (session=\"eb98e6a9bf47833dae62356199f49be8\", element=\"9b5090b5-8769-42ee-9c47-617888ef7c57\")>,\n",
       " <selenium.webdriver.remote.webelement.WebElement (session=\"eb98e6a9bf47833dae62356199f49be8\", element=\"5d951b9b-33d1-4ee2-a2a6-03b336b07364\")>,\n",
       " <selenium.webdriver.remote.webelement.WebElement (session=\"eb98e6a9bf47833dae62356199f49be8\", element=\"bb67855a-9385-48fa-a34b-9726f672f240\")>,\n",
       " <selenium.webdriver.remote.webelement.WebElement (session=\"eb98e6a9bf47833dae62356199f49be8\", element=\"6c83ba63-3c29-4cb6-a36c-8ebc328c4f04\")>,\n",
       " <selenium.webdriver.remote.webelement.WebElement (session=\"eb98e6a9bf47833dae62356199f49be8\", element=\"3ab71b0e-6360-41c6-ac9f-4629dbba10aa\")>,\n",
       " <selenium.webdriver.remote.webelement.WebElement (session=\"eb98e6a9bf47833dae62356199f49be8\", element=\"5dbb441f-45f3-4400-8096-7d799de86b52\")>,\n",
       " <selenium.webdriver.remote.webelement.WebElement (session=\"eb98e6a9bf47833dae62356199f49be8\", element=\"8ebe341c-9f89-44fc-bcfa-f42f945c358b\")>,\n",
       " <selenium.webdriver.remote.webelement.WebElement (session=\"eb98e6a9bf47833dae62356199f49be8\", element=\"70f118da-f16b-4a96-b718-c17522cce0d0\")>,\n",
       " <selenium.webdriver.remote.webelement.WebElement (session=\"eb98e6a9bf47833dae62356199f49be8\", element=\"c38871f5-8059-427e-9fe4-3bcb32b0deed\")>,\n",
       " <selenium.webdriver.remote.webelement.WebElement (session=\"eb98e6a9bf47833dae62356199f49be8\", element=\"399a29e8-1d8c-49d5-9efb-d4af0780e72e\")>,\n",
       " <selenium.webdriver.remote.webelement.WebElement (session=\"eb98e6a9bf47833dae62356199f49be8\", element=\"32df02ee-a68b-4528-86d9-e8dd4b1a3df8\")>,\n",
       " <selenium.webdriver.remote.webelement.WebElement (session=\"eb98e6a9bf47833dae62356199f49be8\", element=\"650fd35a-ea42-4f81-bca4-42e0ae130b77\")>,\n",
       " <selenium.webdriver.remote.webelement.WebElement (session=\"eb98e6a9bf47833dae62356199f49be8\", element=\"b946fa43-7118-4382-9685-60cc69edaba2\")>,\n",
       " <selenium.webdriver.remote.webelement.WebElement (session=\"eb98e6a9bf47833dae62356199f49be8\", element=\"f9ad3735-8a12-4934-bace-4b306238bcbc\")>,\n",
       " <selenium.webdriver.remote.webelement.WebElement (session=\"eb98e6a9bf47833dae62356199f49be8\", element=\"df2fb9eb-a191-46a1-942a-30aa532546f5\")>,\n",
       " <selenium.webdriver.remote.webelement.WebElement (session=\"eb98e6a9bf47833dae62356199f49be8\", element=\"1b260266-be31-4aa9-a2c2-fbc2d493fe9e\")>,\n",
       " <selenium.webdriver.remote.webelement.WebElement (session=\"eb98e6a9bf47833dae62356199f49be8\", element=\"db39c10b-78dc-44d0-b2ab-7b715366d2b9\")>,\n",
       " <selenium.webdriver.remote.webelement.WebElement (session=\"eb98e6a9bf47833dae62356199f49be8\", element=\"ade803dd-9992-4742-9015-3759e3d1041c\")>,\n",
       " <selenium.webdriver.remote.webelement.WebElement (session=\"eb98e6a9bf47833dae62356199f49be8\", element=\"83b88b64-80d7-48b5-b162-278f912a8e7b\")>,\n",
       " <selenium.webdriver.remote.webelement.WebElement (session=\"eb98e6a9bf47833dae62356199f49be8\", element=\"5926c57c-0f25-4589-895c-c4507bfa2c41\")>]"
      ]
     },
     "execution_count": 11,
     "metadata": {},
     "output_type": "execute_result"
    }
   ],
   "source": [
    "#finding location   element using xpath\n",
    "location_tag = driver.find_elements_by_xpath(\"//li[@class='fleft grey-text br2 placeHolderLi location']\")\n",
    "location_tag"
   ]
  },
  {
   "cell_type": "code",
   "execution_count": 12,
   "metadata": {},
   "outputs": [],
   "source": [
    "#getting all the available text in the location_tag element with slicing to fetch only location \n",
    "location =[]\n",
    "\n",
    "for i in location_tag:\n",
    "    location.append(i.text)"
   ]
  },
  {
   "cell_type": "code",
   "execution_count": 13,
   "metadata": {},
   "outputs": [
    {
     "data": {
      "text/plain": [
       "['Bangalore/Bengaluru',\n",
       " 'Bangalore/Bengaluru',\n",
       " 'Bangalore/Bengaluru',\n",
       " 'New Delhi, Bangalore/Bengaluru, Delhi / NCR\\n(WFH during Covid)',\n",
       " 'Bangalore/Bengaluru',\n",
       " 'Hyderabad/Secunderabad, Chennai, Bangalore/Bengaluru',\n",
       " 'Bangalore/Bengaluru',\n",
       " 'Bangalore/Bengaluru',\n",
       " 'Bangalore/Bengaluru',\n",
       " 'Bangalore/Bengaluru',\n",
       " 'Bangalore/Bengaluru',\n",
       " 'Bangalore/Bengaluru',\n",
       " 'Bangalore/Bengaluru',\n",
       " 'Bangalore/Bengaluru',\n",
       " 'Bangalore/Bengaluru',\n",
       " 'Bangalore/Bengaluru',\n",
       " 'Bangalore/Bengaluru',\n",
       " 'Bangalore/Bengaluru',\n",
       " 'Bangalore/Bengaluru',\n",
       " 'Chennai, Bangalore/Bengaluru']"
      ]
     },
     "execution_count": 13,
     "metadata": {},
     "output_type": "execute_result"
    }
   ],
   "source": [
    "location"
   ]
  },
  {
   "cell_type": "code",
   "execution_count": 14,
   "metadata": {},
   "outputs": [
    {
     "data": {
      "text/plain": [
       "[<selenium.webdriver.remote.webelement.WebElement (session=\"eb98e6a9bf47833dae62356199f49be8\", element=\"3fbe513d-abe3-4448-a24a-a80d8861567c\")>,\n",
       " <selenium.webdriver.remote.webelement.WebElement (session=\"eb98e6a9bf47833dae62356199f49be8\", element=\"f608cb46-ca5c-48b0-ae8c-973cc9e110d5\")>,\n",
       " <selenium.webdriver.remote.webelement.WebElement (session=\"eb98e6a9bf47833dae62356199f49be8\", element=\"4edd51f6-748e-43c5-93a1-8494806d0044\")>,\n",
       " <selenium.webdriver.remote.webelement.WebElement (session=\"eb98e6a9bf47833dae62356199f49be8\", element=\"efdc1411-0491-4fba-8202-b2ca7cbd9d60\")>,\n",
       " <selenium.webdriver.remote.webelement.WebElement (session=\"eb98e6a9bf47833dae62356199f49be8\", element=\"1a4403fc-8c4a-473d-aee9-d023c2a2d787\")>,\n",
       " <selenium.webdriver.remote.webelement.WebElement (session=\"eb98e6a9bf47833dae62356199f49be8\", element=\"feacb776-c92e-4202-a0bf-2d85ac6b7ccb\")>,\n",
       " <selenium.webdriver.remote.webelement.WebElement (session=\"eb98e6a9bf47833dae62356199f49be8\", element=\"25dd9cba-3b53-4bf9-abe0-1fbb0dc5af24\")>,\n",
       " <selenium.webdriver.remote.webelement.WebElement (session=\"eb98e6a9bf47833dae62356199f49be8\", element=\"1f993fb6-eed6-48aa-a2f7-240328b9fe82\")>,\n",
       " <selenium.webdriver.remote.webelement.WebElement (session=\"eb98e6a9bf47833dae62356199f49be8\", element=\"f1f30f7b-b324-42c2-a08b-e3e7f9d6cb46\")>,\n",
       " <selenium.webdriver.remote.webelement.WebElement (session=\"eb98e6a9bf47833dae62356199f49be8\", element=\"8adb71c6-89de-4cec-84b6-44c42f378ec7\")>,\n",
       " <selenium.webdriver.remote.webelement.WebElement (session=\"eb98e6a9bf47833dae62356199f49be8\", element=\"73e3129c-0729-4126-b610-541e25b4f8e1\")>,\n",
       " <selenium.webdriver.remote.webelement.WebElement (session=\"eb98e6a9bf47833dae62356199f49be8\", element=\"daf6a997-7a26-4b62-932c-d5dcc7d37547\")>,\n",
       " <selenium.webdriver.remote.webelement.WebElement (session=\"eb98e6a9bf47833dae62356199f49be8\", element=\"f918ae9d-44b6-4738-b1ae-b191c6b5abf4\")>,\n",
       " <selenium.webdriver.remote.webelement.WebElement (session=\"eb98e6a9bf47833dae62356199f49be8\", element=\"a0e30023-8fab-4efc-b5e0-45d57aacc790\")>,\n",
       " <selenium.webdriver.remote.webelement.WebElement (session=\"eb98e6a9bf47833dae62356199f49be8\", element=\"f18359eb-eae2-4e14-ab36-fafce3fb23c3\")>,\n",
       " <selenium.webdriver.remote.webelement.WebElement (session=\"eb98e6a9bf47833dae62356199f49be8\", element=\"5b99fd8f-1a33-42b0-8f4f-cc96985b17a6\")>,\n",
       " <selenium.webdriver.remote.webelement.WebElement (session=\"eb98e6a9bf47833dae62356199f49be8\", element=\"561b8d50-10ee-48ed-9a4a-c3612d79a6db\")>,\n",
       " <selenium.webdriver.remote.webelement.WebElement (session=\"eb98e6a9bf47833dae62356199f49be8\", element=\"db44cf1d-612a-4c63-9478-064e075fc5ac\")>,\n",
       " <selenium.webdriver.remote.webelement.WebElement (session=\"eb98e6a9bf47833dae62356199f49be8\", element=\"6b775249-42bd-45f5-8cbd-18ed2afdcf63\")>,\n",
       " <selenium.webdriver.remote.webelement.WebElement (session=\"eb98e6a9bf47833dae62356199f49be8\", element=\"8ce7dc12-be35-476f-8c1d-c6aa5df4faf7\")>]"
      ]
     },
     "execution_count": 14,
     "metadata": {},
     "output_type": "execute_result"
    }
   ],
   "source": [
    "#finding company name element using xpath\n",
    "company_tag = driver.find_elements_by_xpath(\"//a[@class='subTitle ellipsis fleft']\")\n",
    "company_tag"
   ]
  },
  {
   "cell_type": "code",
   "execution_count": 15,
   "metadata": {},
   "outputs": [],
   "source": [
    "#getting all the available text in the company_tag element to fetch company name and appending the same in for loop\n",
    "company_name = []\n",
    "\n",
    "for i in company_tag:\n",
    "    company_name.append(i.text)"
   ]
  },
  {
   "cell_type": "code",
   "execution_count": 16,
   "metadata": {},
   "outputs": [
    {
     "data": {
      "text/plain": [
       "['Datamatics Global Services Ltd',\n",
       " 'Publicis Groupe',\n",
       " 'Bidgely Technologies Private Limited',\n",
       " 'Goals 101 Data Solutions Pvt. Ltd.',\n",
       " 'McAfee Software (India) Pvt. Ltd',\n",
       " 'Onward Technologies Limited',\n",
       " 'Teamware Solutions',\n",
       " 'Mindtree Limited',\n",
       " 'Western Digital',\n",
       " 'Western Digital',\n",
       " 'Western Digital',\n",
       " 'PERSOLKELLY INDIA PRIVATE LIMITED',\n",
       " 'Ara Resources',\n",
       " 'Novotree Minds Consulting Pvt Limited',\n",
       " 'Gojek Tech',\n",
       " 'GO-JEK India',\n",
       " 'IBM India Pvt. Limited',\n",
       " 'IBM India Pvt. Limited',\n",
       " 'Perform Group',\n",
       " 'Kaleidofin']"
      ]
     },
     "execution_count": 16,
     "metadata": {},
     "output_type": "execute_result"
    }
   ],
   "source": [
    "company_name"
   ]
  },
  {
   "cell_type": "code",
   "execution_count": 17,
   "metadata": {},
   "outputs": [],
   "source": [
    "job_desc =[]\n",
    "\n",
    "url = driver.find_elements_by_xpath(\"//a[@class='title fw500 ellipsis']\")\n",
    "for i in url:\n",
    "    job_desc.append(i.get_attribute('href'))"
   ]
  },
  {
   "cell_type": "code",
   "execution_count": 18,
   "metadata": {},
   "outputs": [],
   "source": [
    "job_desc2 = []\n",
    "for i in job_desc:\n",
    "    driver.get(i)\n",
    "    job_desc1 = driver.find_elements_by_class_name(\"job-desc\")\n",
    "    for j in job_desc1:\n",
    "        job_desc2.append(j.text)\n",
    "\n",
    "    "
   ]
  },
  {
   "cell_type": "code",
   "execution_count": 19,
   "metadata": {},
   "outputs": [
    {
     "data": {
      "text/plain": [
       "20"
      ]
     },
     "execution_count": 19,
     "metadata": {},
     "output_type": "execute_result"
    }
   ],
   "source": [
    "len(job_desc2)"
   ]
  },
  {
   "cell_type": "code",
   "execution_count": 20,
   "metadata": {},
   "outputs": [],
   "source": [
    "# creating dataframe and assigning lists to columns\n",
    "df1 = pd.DataFrame({})\n",
    "df1['Job_title'] = job_title\n",
    "df1['Company_name'] = company_name\n",
    "df1['Job_Desc'] = job_desc2\n",
    "df1['Location'] = location"
   ]
  },
  {
   "cell_type": "code",
   "execution_count": 21,
   "metadata": {},
   "outputs": [],
   "source": [
    "df1 = df1[0:10]\n"
   ]
  },
  {
   "cell_type": "code",
   "execution_count": 22,
   "metadata": {},
   "outputs": [
    {
     "data": {
      "text/html": [
       "<div>\n",
       "<style scoped>\n",
       "    .dataframe tbody tr th:only-of-type {\n",
       "        vertical-align: middle;\n",
       "    }\n",
       "\n",
       "    .dataframe tbody tr th {\n",
       "        vertical-align: top;\n",
       "    }\n",
       "\n",
       "    .dataframe thead th {\n",
       "        text-align: right;\n",
       "    }\n",
       "</style>\n",
       "<table border=\"1\" class=\"dataframe\">\n",
       "  <thead>\n",
       "    <tr style=\"text-align: right;\">\n",
       "      <th></th>\n",
       "      <th>Job_title</th>\n",
       "      <th>Company_name</th>\n",
       "      <th>Job_Desc</th>\n",
       "      <th>Location</th>\n",
       "    </tr>\n",
       "  </thead>\n",
       "  <tbody>\n",
       "    <tr>\n",
       "      <th>0</th>\n",
       "      <td>Senior Data Scientist</td>\n",
       "      <td>Datamatics Global Services Ltd</td>\n",
       "      <td>Job description\\nRoles and Responsibilities\\n\\...</td>\n",
       "      <td>Bangalore/Bengaluru</td>\n",
       "    </tr>\n",
       "    <tr>\n",
       "      <th>1</th>\n",
       "      <td>Senior Data Scientist</td>\n",
       "      <td>Publicis Groupe</td>\n",
       "      <td>Job description\\nWork location: Bengaluru (Cur...</td>\n",
       "      <td>Bangalore/Bengaluru</td>\n",
       "    </tr>\n",
       "    <tr>\n",
       "      <th>2</th>\n",
       "      <td>Senior Data Scientist</td>\n",
       "      <td>Bidgely Technologies Private Limited</td>\n",
       "      <td>Job description\\nBidgely is looking for extrao...</td>\n",
       "      <td>Bangalore/Bengaluru</td>\n",
       "    </tr>\n",
       "    <tr>\n",
       "      <th>3</th>\n",
       "      <td>Senior Data Scientist</td>\n",
       "      <td>Goals 101 Data Solutions Pvt. Ltd.</td>\n",
       "      <td>Job description\\nRoles and Responsibilities:\\n...</td>\n",
       "      <td>New Delhi, Bangalore/Bengaluru, Delhi / NCR\\n(...</td>\n",
       "    </tr>\n",
       "    <tr>\n",
       "      <th>4</th>\n",
       "      <td>DATA SCIENTIST</td>\n",
       "      <td>McAfee Software (India) Pvt. Ltd</td>\n",
       "      <td>Job description\\nRole Overview:\\nData scientis...</td>\n",
       "      <td>Bangalore/Bengaluru</td>\n",
       "    </tr>\n",
       "    <tr>\n",
       "      <th>5</th>\n",
       "      <td>Data Scientist - Permanent Role</td>\n",
       "      <td>Onward Technologies Limited</td>\n",
       "      <td>Job description\\nGreetings from Onward Technol...</td>\n",
       "      <td>Hyderabad/Secunderabad, Chennai, Bangalore/Ben...</td>\n",
       "    </tr>\n",
       "    <tr>\n",
       "      <th>6</th>\n",
       "      <td>Data Engineers , Data Scientist and SAP</td>\n",
       "      <td>Teamware Solutions</td>\n",
       "      <td>Job description\\nDynamic recruiting profession...</td>\n",
       "      <td>Bangalore/Bengaluru</td>\n",
       "    </tr>\n",
       "    <tr>\n",
       "      <th>7</th>\n",
       "      <td>Python - Data Scientist</td>\n",
       "      <td>Mindtree Limited</td>\n",
       "      <td>Job description\\nBasic Qualifications\\n3-5 yea...</td>\n",
       "      <td>Bangalore/Bengaluru</td>\n",
       "    </tr>\n",
       "    <tr>\n",
       "      <th>8</th>\n",
       "      <td>Western Digital Data Scientist 3</td>\n",
       "      <td>Western Digital</td>\n",
       "      <td>Job description\\n\\nDesign, develop and maintai...</td>\n",
       "      <td>Bangalore/Bengaluru</td>\n",
       "    </tr>\n",
       "    <tr>\n",
       "      <th>9</th>\n",
       "      <td>Western Digital Data Scientist</td>\n",
       "      <td>Western Digital</td>\n",
       "      <td>Job description\\n\\nDesign, develop and maintai...</td>\n",
       "      <td>Bangalore/Bengaluru</td>\n",
       "    </tr>\n",
       "  </tbody>\n",
       "</table>\n",
       "</div>"
      ],
      "text/plain": [
       "                                 Job_title  \\\n",
       "0                    Senior Data Scientist   \n",
       "1                    Senior Data Scientist   \n",
       "2                    Senior Data Scientist   \n",
       "3                    Senior Data Scientist   \n",
       "4                           DATA SCIENTIST   \n",
       "5          Data Scientist - Permanent Role   \n",
       "6  Data Engineers , Data Scientist and SAP   \n",
       "7                  Python - Data Scientist   \n",
       "8         Western Digital Data Scientist 3   \n",
       "9           Western Digital Data Scientist   \n",
       "\n",
       "                           Company_name  \\\n",
       "0        Datamatics Global Services Ltd   \n",
       "1                       Publicis Groupe   \n",
       "2  Bidgely Technologies Private Limited   \n",
       "3    Goals 101 Data Solutions Pvt. Ltd.   \n",
       "4      McAfee Software (India) Pvt. Ltd   \n",
       "5           Onward Technologies Limited   \n",
       "6                    Teamware Solutions   \n",
       "7                      Mindtree Limited   \n",
       "8                       Western Digital   \n",
       "9                       Western Digital   \n",
       "\n",
       "                                            Job_Desc  \\\n",
       "0  Job description\\nRoles and Responsibilities\\n\\...   \n",
       "1  Job description\\nWork location: Bengaluru (Cur...   \n",
       "2  Job description\\nBidgely is looking for extrao...   \n",
       "3  Job description\\nRoles and Responsibilities:\\n...   \n",
       "4  Job description\\nRole Overview:\\nData scientis...   \n",
       "5  Job description\\nGreetings from Onward Technol...   \n",
       "6  Job description\\nDynamic recruiting profession...   \n",
       "7  Job description\\nBasic Qualifications\\n3-5 yea...   \n",
       "8  Job description\\n\\nDesign, develop and maintai...   \n",
       "9  Job description\\n\\nDesign, develop and maintai...   \n",
       "\n",
       "                                            Location  \n",
       "0                                Bangalore/Bengaluru  \n",
       "1                                Bangalore/Bengaluru  \n",
       "2                                Bangalore/Bengaluru  \n",
       "3  New Delhi, Bangalore/Bengaluru, Delhi / NCR\\n(...  \n",
       "4                                Bangalore/Bengaluru  \n",
       "5  Hyderabad/Secunderabad, Chennai, Bangalore/Ben...  \n",
       "6                                Bangalore/Bengaluru  \n",
       "7                                Bangalore/Bengaluru  \n",
       "8                                Bangalore/Bengaluru  \n",
       "9                                Bangalore/Bengaluru  "
      ]
     },
     "execution_count": 22,
     "metadata": {},
     "output_type": "execute_result"
    }
   ],
   "source": [
    "df1"
   ]
  },
  {
   "cell_type": "markdown",
   "metadata": {},
   "source": [
    "Q3: In this question you have to scrape data using the filters available on thewebpage\n"
   ]
  },
  {
   "cell_type": "code",
   "execution_count": 1,
   "metadata": {},
   "outputs": [],
   "source": [
    "#importiong neccessary libraries\n",
    "import selenium\n",
    "import pandas as pd\n",
    "from selenium import webdriver"
   ]
  },
  {
   "cell_type": "code",
   "execution_count": 2,
   "metadata": {},
   "outputs": [],
   "source": [
    "driver = webdriver.Chrome(r'C:\\Users\\UmarFarooque\\Downloads\\chromedriver_win32\\chromedriver.exe')"
   ]
  },
  {
   "cell_type": "code",
   "execution_count": 3,
   "metadata": {},
   "outputs": [],
   "source": [
    "#chrome driver to initiate url and get web elements for the same using selenium\n",
    "\n",
    "\n",
    "url = \"https://www.naukri.com/browse-jobs\"\n",
    "\n",
    "driver.get(url)\n",
    "\n",
    "\n",
    "\n",
    "#entering \"Data Analyst\" in job search bar using selenium driver\n",
    "search_job = driver.find_element_by_class_name('sugInp')\n",
    "search_job.send_keys(\"Data Scientist\")\n",
    "\n",
    "#clicking submit button using selenium deriver\n",
    "submit_button = driver.find_element_by_id(\"qsbFormBtn\")\n",
    "submit_button.click()\n",
    "\n",
    "\n"
   ]
  },
  {
   "cell_type": "code",
   "execution_count": null,
   "metadata": {},
   "outputs": [],
   "source": [
    "exp"
   ]
  },
  {
   "cell_type": "code",
   "execution_count": null,
   "metadata": {},
   "outputs": [],
   "source": []
  },
  {
   "cell_type": "code",
   "execution_count": 4,
   "metadata": {},
   "outputs": [
    {
     "data": {
      "text/plain": [
       "['Philips India Limited',\n",
       " 'Axis Securities Limited',\n",
       " 'IBM India Pvt. Limited',\n",
       " 'McAfee Software (India) Pvt. Ltd',\n",
       " 'SYMBIOSIS International W.L.L',\n",
       " 'United Phosphorus Limited',\n",
       " 'CBRE South Asia Pvt Ltd',\n",
       " 'Fluid AI',\n",
       " 'Datamatics Global Services Ltd',\n",
       " 'Pitney Bowes India Pvt Ltd',\n",
       " 'Wattmonk Technologies Pvt. Ltd.',\n",
       " 'EinNel Technologies',\n",
       " 'SEKAI',\n",
       " 'SEKAI',\n",
       " 'InnovAccer',\n",
       " 'Bebo Technologies Pvt Ltd.',\n",
       " 'Uber',\n",
       " 'WEGARNER SOLUTIONS PRIVATE LIMITED',\n",
       " 'InnovAccer',\n",
       " 'IBM India Pvt. Limited']"
      ]
     },
     "execution_count": 4,
     "metadata": {},
     "output_type": "execute_result"
    }
   ],
   "source": [
    "#finding job title element using xpath\n",
    "title_tags2= driver.find_elements_by_xpath(\"//a[@class='title fw500 ellipsis']\")\n",
    "title_tags2\n",
    "\n",
    "#getting all the available text in the title_tags element\n",
    "job_title2 =[]\n",
    "\n",
    "for i in title_tags2:\n",
    "    job_title2.append(i.text)\n",
    "\n",
    "#printing job_title\n",
    "job_title2\n",
    "\n",
    "#finding location   element using xpath\n",
    "location_tag2 = driver.find_elements_by_xpath(\"//span[@class='ellipsis fleft fs12 lh16']\")\n",
    "location_tag2\n",
    "\n",
    "#getting all the available text in the location_tag element with slicing to fetch only location \n",
    "location3 =[]\n",
    "\n",
    "for i in location_tag2[2::3]:\n",
    "    location3.append(i.text)\n",
    "\n",
    "#printing location \n",
    "location3\n",
    "#experience\n",
    "experience_2 = driver.find_elements_by_xpath(\"//i[@class='fleft icon-16 lh16 mr-4 naukicon naukicon-experience']//span\")\n",
    "experience_2\n",
    "\n",
    "#getting all the available text in the location_tag element with slicing to fetch only experience \n",
    "experience2 = []\n",
    "for i in location_tag2[0::3]:\n",
    "    experience2.append(i.text)\n",
    "\n",
    "#printing experience\n",
    "experience2\n",
    "\n",
    "#finding company name element using xpath\n",
    "company_tag2 = driver.find_elements_by_xpath(\"//a[@class='subTitle ellipsis fleft']\")\n",
    "company_tag2\n",
    "\n",
    "#getting all the available text in the company_tag element to fetch company name and appending the same in for loop\n",
    "company_name2 = []\n",
    "\n",
    "for i in company_tag2:\n",
    "    company_name2.append(i.text)\n",
    "\n",
    "#printing company name\n",
    "company_name2"
   ]
  },
  {
   "cell_type": "code",
   "execution_count": 5,
   "metadata": {},
   "outputs": [
    {
     "name": "stdout",
     "output_type": "stream",
     "text": [
      "20 20 0 0\n"
     ]
    }
   ],
   "source": [
    "print(len(job_title2),len(company_name2),len(experience2),len( location3))\n"
   ]
  },
  {
   "cell_type": "code",
   "execution_count": 6,
   "metadata": {},
   "outputs": [],
   "source": [
    "# creating dataframe and assigning lists to columns\n",
    "df2 = pd.DataFrame({})\n",
    "df2['Job_title'] = job_title2\n",
    "df2['Company_name'] = company_name2\n"
   ]
  },
  {
   "cell_type": "markdown",
   "metadata": {},
   "source": [
    "df2 "
   ]
  },
  {
   "cell_type": "code",
   "execution_count": 7,
   "metadata": {},
   "outputs": [
    {
     "data": {
      "text/html": [
       "<div>\n",
       "<style scoped>\n",
       "    .dataframe tbody tr th:only-of-type {\n",
       "        vertical-align: middle;\n",
       "    }\n",
       "\n",
       "    .dataframe tbody tr th {\n",
       "        vertical-align: top;\n",
       "    }\n",
       "\n",
       "    .dataframe thead th {\n",
       "        text-align: right;\n",
       "    }\n",
       "</style>\n",
       "<table border=\"1\" class=\"dataframe\">\n",
       "  <thead>\n",
       "    <tr style=\"text-align: right;\">\n",
       "      <th></th>\n",
       "      <th>Job_title</th>\n",
       "      <th>Company_name</th>\n",
       "    </tr>\n",
       "  </thead>\n",
       "  <tbody>\n",
       "    <tr>\n",
       "      <th>0</th>\n",
       "      <td>Senior Data Scientist</td>\n",
       "      <td>Philips India Limited</td>\n",
       "    </tr>\n",
       "    <tr>\n",
       "      <th>1</th>\n",
       "      <td>Internship : Data Scientist</td>\n",
       "      <td>Axis Securities Limited</td>\n",
       "    </tr>\n",
       "    <tr>\n",
       "      <th>2</th>\n",
       "      <td>Data Scientist: Advanced Analytics</td>\n",
       "      <td>IBM India Pvt. Limited</td>\n",
       "    </tr>\n",
       "    <tr>\n",
       "      <th>3</th>\n",
       "      <td>DATA SCIENTIST</td>\n",
       "      <td>McAfee Software (India) Pvt. Ltd</td>\n",
       "    </tr>\n",
       "    <tr>\n",
       "      <th>4</th>\n",
       "      <td>Senior Data Scientist</td>\n",
       "      <td>SYMBIOSIS International W.L.L</td>\n",
       "    </tr>\n",
       "    <tr>\n",
       "      <th>5</th>\n",
       "      <td>Data Scientist</td>\n",
       "      <td>United Phosphorus Limited</td>\n",
       "    </tr>\n",
       "    <tr>\n",
       "      <th>6</th>\n",
       "      <td>Data Scientist</td>\n",
       "      <td>CBRE South Asia Pvt Ltd</td>\n",
       "    </tr>\n",
       "    <tr>\n",
       "      <th>7</th>\n",
       "      <td>Python AI ML Developer and Data Scientist</td>\n",
       "      <td>Fluid AI</td>\n",
       "    </tr>\n",
       "    <tr>\n",
       "      <th>8</th>\n",
       "      <td>Senior Data Scientist</td>\n",
       "      <td>Datamatics Global Services Ltd</td>\n",
       "    </tr>\n",
       "    <tr>\n",
       "      <th>9</th>\n",
       "      <td>Data Scientist</td>\n",
       "      <td>Pitney Bowes India Pvt Ltd</td>\n",
       "    </tr>\n",
       "    <tr>\n",
       "      <th>10</th>\n",
       "      <td>Data Scientist</td>\n",
       "      <td>Wattmonk Technologies Pvt. Ltd.</td>\n",
       "    </tr>\n",
       "    <tr>\n",
       "      <th>11</th>\n",
       "      <td>Trainee Data Scientists</td>\n",
       "      <td>EinNel Technologies</td>\n",
       "    </tr>\n",
       "    <tr>\n",
       "      <th>12</th>\n",
       "      <td>Data Engineer/Data Scientist</td>\n",
       "      <td>SEKAI</td>\n",
       "    </tr>\n",
       "    <tr>\n",
       "      <th>13</th>\n",
       "      <td>Data Engineer/Data Scientist</td>\n",
       "      <td>SEKAI</td>\n",
       "    </tr>\n",
       "    <tr>\n",
       "      <th>14</th>\n",
       "      <td>Senior Data Scientist</td>\n",
       "      <td>InnovAccer</td>\n",
       "    </tr>\n",
       "    <tr>\n",
       "      <th>15</th>\n",
       "      <td>Senior Data Scientist-Work from anywhere(Immed...</td>\n",
       "      <td>Bebo Technologies Pvt Ltd.</td>\n",
       "    </tr>\n",
       "    <tr>\n",
       "      <th>16</th>\n",
       "      <td>Data scientist</td>\n",
       "      <td>Uber</td>\n",
       "    </tr>\n",
       "    <tr>\n",
       "      <th>17</th>\n",
       "      <td>Data Scientist / Sr. Data Scientist</td>\n",
       "      <td>WEGARNER SOLUTIONS PRIVATE LIMITED</td>\n",
       "    </tr>\n",
       "    <tr>\n",
       "      <th>18</th>\n",
       "      <td>Lead Data Scientist</td>\n",
       "      <td>InnovAccer</td>\n",
       "    </tr>\n",
       "    <tr>\n",
       "      <th>19</th>\n",
       "      <td>Senior Data Scientist</td>\n",
       "      <td>IBM India Pvt. Limited</td>\n",
       "    </tr>\n",
       "  </tbody>\n",
       "</table>\n",
       "</div>"
      ],
      "text/plain": [
       "                                            Job_title  \\\n",
       "0                               Senior Data Scientist   \n",
       "1                         Internship : Data Scientist   \n",
       "2                  Data Scientist: Advanced Analytics   \n",
       "3                                      DATA SCIENTIST   \n",
       "4                               Senior Data Scientist   \n",
       "5                                      Data Scientist   \n",
       "6                                      Data Scientist   \n",
       "7           Python AI ML Developer and Data Scientist   \n",
       "8                               Senior Data Scientist   \n",
       "9                                      Data Scientist   \n",
       "10                                     Data Scientist   \n",
       "11                            Trainee Data Scientists   \n",
       "12                       Data Engineer/Data Scientist   \n",
       "13                       Data Engineer/Data Scientist   \n",
       "14                              Senior Data Scientist   \n",
       "15  Senior Data Scientist-Work from anywhere(Immed...   \n",
       "16                                     Data scientist   \n",
       "17                Data Scientist / Sr. Data Scientist   \n",
       "18                                Lead Data Scientist   \n",
       "19                              Senior Data Scientist   \n",
       "\n",
       "                          Company_name  \n",
       "0                Philips India Limited  \n",
       "1              Axis Securities Limited  \n",
       "2               IBM India Pvt. Limited  \n",
       "3     McAfee Software (India) Pvt. Ltd  \n",
       "4        SYMBIOSIS International W.L.L  \n",
       "5            United Phosphorus Limited  \n",
       "6              CBRE South Asia Pvt Ltd  \n",
       "7                             Fluid AI  \n",
       "8       Datamatics Global Services Ltd  \n",
       "9           Pitney Bowes India Pvt Ltd  \n",
       "10     Wattmonk Technologies Pvt. Ltd.  \n",
       "11                 EinNel Technologies  \n",
       "12                               SEKAI  \n",
       "13                               SEKAI  \n",
       "14                          InnovAccer  \n",
       "15          Bebo Technologies Pvt Ltd.  \n",
       "16                                Uber  \n",
       "17  WEGARNER SOLUTIONS PRIVATE LIMITED  \n",
       "18                          InnovAccer  \n",
       "19              IBM India Pvt. Limited  "
      ]
     },
     "execution_count": 7,
     "metadata": {},
     "output_type": "execute_result"
    }
   ],
   "source": [
    "df2\n"
   ]
  },
  {
   "cell_type": "code",
   "execution_count": null,
   "metadata": {},
   "outputs": [],
   "source": []
  },
  {
   "cell_type": "code",
   "execution_count": null,
   "metadata": {},
   "outputs": [],
   "source": []
  },
  {
   "cell_type": "code",
   "execution_count": null,
   "metadata": {},
   "outputs": [],
   "source": []
  },
  {
   "cell_type": "code",
   "execution_count": null,
   "metadata": {},
   "outputs": [],
   "source": []
  },
  {
   "cell_type": "markdown",
   "metadata": {},
   "source": [
    "Q4:Write a python program to scrape data for first 10 job results for Data scientistDesignation in Noida location. You have to scrape company_name, No. of daysago when job was posted, Rating of the company."
   ]
  },
  {
   "cell_type": "code",
   "execution_count": 95,
   "metadata": {},
   "outputs": [],
   "source": [
    "#chrome driver to initiate url and get web elements for the same using selenium\n",
    "driver = webdriver.Chrome(r'C:\\Users\\UmarFarooque\\Downloads\\chromedriver_win32\\chromedriver.exe')\n",
    "\n",
    "url = \"https://www.glassdoor.co.in/member/home/index.htm\"\n",
    "\n",
    "driver.get(url)\n",
    "\n",
    "driver.maximize_window() # to maximise the chrome window\n"
   ]
  },
  {
   "cell_type": "code",
   "execution_count": 96,
   "metadata": {},
   "outputs": [],
   "source": [
    "#entering \"Data Analyst\" in job search bar using selenium driver\n",
    "search_job = driver.find_element_by_id('member-home-jobalert-jobtitle-JobAlertJobTitle')\n",
    "search_job.send_keys(\"Data scientist\")\n",
    "\n"
   ]
  },
  {
   "cell_type": "code",
   "execution_count": 97,
   "metadata": {},
   "outputs": [],
   "source": [
    "#entering \"Bangalore\" in location search bar using selenium deriver\n",
    "location = driver.find_element_by_id('member-home-jobalert-location-JobAlertLocation').send_keys(u'\\ue009' + u'\\ue003')\n",
    "location1 = driver.find_element_by_id('member-home-jobalert-location-JobAlertLocation')\n",
    "location1.send_keys(\"Noida\")\n"
   ]
  },
  {
   "cell_type": "code",
   "execution_count": 99,
   "metadata": {},
   "outputs": [],
   "source": [
    "#clicking submit button using selenium deriver\n",
    "submit_button = driver.find_element_by_xpath(\"//body[@class='main loggedIn lang-en en-IN gdGrid member-home _initOk noTouch']\")\n",
    "submit_button.click()"
   ]
  },
  {
   "cell_type": "code",
   "execution_count": 110,
   "metadata": {},
   "outputs": [
    {
     "data": {
      "text/plain": [
       "['Indeed',\n",
       " '',\n",
       " '',\n",
       " 'Indeed',\n",
       " '',\n",
       " '',\n",
       " 'Indeed',\n",
       " '',\n",
       " '',\n",
       " 'Digicom Healthcare Solutions']"
      ]
     },
     "execution_count": 110,
     "metadata": {},
     "output_type": "execute_result"
    }
   ],
   "source": [
    "\n",
    "company_Name = driver.find_elements_by_xpath(\"//div[@class='d-flex justify-content-between align-items-start']//span\")\n",
    "company_Name\n",
    "\n",
    "company_Name1 = []\n",
    "\n",
    "\n",
    "for i in company_Name:\n",
    "    company_Name1.append(i.text)\n",
    "company_Name1 = company_Name1[0:10]\n",
    "company_Name1 = company_Name1[0:10]\n",
    "\n",
    "company_Name1"
   ]
  },
  {
   "cell_type": "code",
   "execution_count": 107,
   "metadata": {},
   "outputs": [
    {
     "data": {
      "text/plain": [
       "['4.3', '4.3', '4.3', '4.3', '4.0', '2.9', '4.5', '4.1', '3.9', '4.0']"
      ]
     },
     "execution_count": 107,
     "metadata": {},
     "output_type": "execute_result"
    }
   ],
   "source": [
    "company_rating = driver.find_elements_by_xpath(\"//span[@class='css-19pjha7 e1cjmv6j1']\")\n",
    "company_rating\n",
    "\n",
    "company_rating1 = []\n",
    "\n",
    "for i in company_rating:\n",
    "    company_rating1.append(i.text)\n",
    "    \n",
    "company_rating1 = company_rating1[0:10]\n",
    "company_rating1"
   ]
  },
  {
   "cell_type": "code",
   "execution_count": 109,
   "metadata": {},
   "outputs": [
    {
     "data": {
      "text/plain": [
       "['19d', '8d', '30d+', '15d', '30d+', '30d', '2d', '5d', '6d', '17d']"
      ]
     },
     "execution_count": 109,
     "metadata": {},
     "output_type": "execute_result"
    }
   ],
   "source": [
    "posted_on = driver.find_elements_by_xpath(\"//div[@class='d-flex align-items-end pl-std css-mi55ob']\")\n",
    "posted_on\n",
    "\n",
    "posted_on1 = []\n",
    "\n",
    "for i in posted_on:\n",
    "    posted_on1.append(i.text)\n",
    "posted_on1 = posted_on1[0:10]\n",
    "posted_on1"
   ]
  },
  {
   "cell_type": "code",
   "execution_count": 111,
   "metadata": {},
   "outputs": [],
   "source": [
    "# creating dataframe and assigning lists to columns\n",
    "df3 = pd.DataFrame({})\n",
    "df3['company_name'] = company_Name1\n",
    "df3['company_rating'] = company_rating1\n",
    "df3['posted_on'] = posted_on1"
   ]
  },
  {
   "cell_type": "markdown",
   "metadata": {},
   "source": [
    "df3"
   ]
  },
  {
   "cell_type": "code",
   "execution_count": 112,
   "metadata": {},
   "outputs": [
    {
     "data": {
      "text/html": [
       "<div>\n",
       "<style scoped>\n",
       "    .dataframe tbody tr th:only-of-type {\n",
       "        vertical-align: middle;\n",
       "    }\n",
       "\n",
       "    .dataframe tbody tr th {\n",
       "        vertical-align: top;\n",
       "    }\n",
       "\n",
       "    .dataframe thead th {\n",
       "        text-align: right;\n",
       "    }\n",
       "</style>\n",
       "<table border=\"1\" class=\"dataframe\">\n",
       "  <thead>\n",
       "    <tr style=\"text-align: right;\">\n",
       "      <th></th>\n",
       "      <th>company_name</th>\n",
       "      <th>company_rating</th>\n",
       "      <th>posted_on</th>\n",
       "    </tr>\n",
       "  </thead>\n",
       "  <tbody>\n",
       "    <tr>\n",
       "      <th>0</th>\n",
       "      <td>Indeed</td>\n",
       "      <td>4.3</td>\n",
       "      <td>19d</td>\n",
       "    </tr>\n",
       "    <tr>\n",
       "      <th>1</th>\n",
       "      <td></td>\n",
       "      <td>4.3</td>\n",
       "      <td>8d</td>\n",
       "    </tr>\n",
       "    <tr>\n",
       "      <th>2</th>\n",
       "      <td></td>\n",
       "      <td>4.3</td>\n",
       "      <td>30d+</td>\n",
       "    </tr>\n",
       "    <tr>\n",
       "      <th>3</th>\n",
       "      <td>Indeed</td>\n",
       "      <td>4.3</td>\n",
       "      <td>15d</td>\n",
       "    </tr>\n",
       "    <tr>\n",
       "      <th>4</th>\n",
       "      <td></td>\n",
       "      <td>4.0</td>\n",
       "      <td>30d+</td>\n",
       "    </tr>\n",
       "    <tr>\n",
       "      <th>5</th>\n",
       "      <td></td>\n",
       "      <td>2.9</td>\n",
       "      <td>30d</td>\n",
       "    </tr>\n",
       "    <tr>\n",
       "      <th>6</th>\n",
       "      <td>Indeed</td>\n",
       "      <td>4.5</td>\n",
       "      <td>2d</td>\n",
       "    </tr>\n",
       "    <tr>\n",
       "      <th>7</th>\n",
       "      <td></td>\n",
       "      <td>4.1</td>\n",
       "      <td>5d</td>\n",
       "    </tr>\n",
       "    <tr>\n",
       "      <th>8</th>\n",
       "      <td></td>\n",
       "      <td>3.9</td>\n",
       "      <td>6d</td>\n",
       "    </tr>\n",
       "    <tr>\n",
       "      <th>9</th>\n",
       "      <td>Digicom Healthcare Solutions</td>\n",
       "      <td>4.0</td>\n",
       "      <td>17d</td>\n",
       "    </tr>\n",
       "  </tbody>\n",
       "</table>\n",
       "</div>"
      ],
      "text/plain": [
       "                   company_name company_rating posted_on\n",
       "0                        Indeed            4.3       19d\n",
       "1                                          4.3        8d\n",
       "2                                          4.3      30d+\n",
       "3                        Indeed            4.3       15d\n",
       "4                                          4.0      30d+\n",
       "5                                          2.9       30d\n",
       "6                        Indeed            4.5        2d\n",
       "7                                          4.1        5d\n",
       "8                                          3.9        6d\n",
       "9  Digicom Healthcare Solutions            4.0       17d"
      ]
     },
     "execution_count": 112,
     "metadata": {},
     "output_type": "execute_result"
    }
   ],
   "source": [
    "df3"
   ]
  },
  {
   "cell_type": "markdown",
   "metadata": {},
   "source": [
    "Q5: Write a python program to scrape the salary data for Data Scientist designation in Noida location."
   ]
  },
  {
   "cell_type": "code",
   "execution_count": 115,
   "metadata": {},
   "outputs": [],
   "source": [
    "\n",
    "#chrome driver to initiate url and get web elements for the same using selenium\n",
    "driver = webdriver.Chrome(r'C:\\Users\\UmarFarooque\\Downloads\\chromedriver_win32\\chromedriver.exe')\n",
    "\n",
    "url = \"https://www.glassdoor.co.in/Salaries/index.htm\"\n",
    "\n",
    "driver.get(url)\n",
    "\n",
    "driver.maximize_window() # to maximise the chrome window"
   ]
  },
  {
   "cell_type": "code",
   "execution_count": 116,
   "metadata": {},
   "outputs": [],
   "source": [
    "#entering \"Data Analyst\" in job search bar using selenium driver\n",
    "search_job = driver.find_element_by_id('KeywordSearch')\n",
    "search_job.send_keys(\"Data scientist\")\n",
    "\n",
    "#entering \"Bangalore\" in location search bar using selenium deriver\n",
    "location = driver.find_element_by_id('LocationSearch').send_keys(\"Noida\")\n",
    "\n",
    "\n",
    "#clicking submit button using selenium deriver\n",
    "submit_button = driver.find_element_by_id(\"HeroSearchButton\")\n",
    "submit_button.click()"
   ]
  },
  {
   "cell_type": "code",
   "execution_count": 118,
   "metadata": {},
   "outputs": [
    {
     "data": {
      "text/plain": [
       "['Mu Sigma',\n",
       " 'IBM',\n",
       " 'Tata Consultancy Services',\n",
       " 'Impact Analytics',\n",
       " 'Accenture',\n",
       " 'Infosys',\n",
       " 'Capgemini',\n",
       " 'Cognizant Technology Solutions',\n",
       " 'Anheuser-Busch InBev',\n",
       " 'Embibe']"
      ]
     },
     "execution_count": 118,
     "metadata": {},
     "output_type": "execute_result"
    }
   ],
   "source": [
    "company_name = driver.find_elements_by_xpath(\"//a[@class='css-f3vw95 e1aj7ssy3']\")\n",
    "\n",
    "company_name\n",
    "\n",
    "company_name1 = []\n",
    "\n",
    "for i in company_name:\n",
    "    company_name1.append(i.text)\n",
    "company_name1 = company_name1[0:10]\n",
    "company_name1"
   ]
  },
  {
   "cell_type": "code",
   "execution_count": 119,
   "metadata": {},
   "outputs": [
    {
     "data": {
      "text/plain": [
       "['3.3', '3.9', '3.9', '4', '4.1', '3.4', '3.8', '3.8', '3.7', '4.5']"
      ]
     },
     "execution_count": 119,
     "metadata": {},
     "output_type": "execute_result"
    }
   ],
   "source": [
    "rating = driver.find_elements_by_xpath(\"//span[@class='m-0 css-kyx745']\")\n",
    "\n",
    "rating\n",
    "\n",
    "rating1 = []\n",
    "\n",
    "for i in rating:\n",
    "    rating1.append(i.text)\n",
    "rating1 = rating1[0:10]\n",
    "rating1"
   ]
  },
  {
   "cell_type": "code",
   "execution_count": 120,
   "metadata": {},
   "outputs": [
    {
     "data": {
      "text/plain": [
       "['₹6,34,950',\n",
       " '₹11,83,457',\n",
       " '₹8,76,867',\n",
       " '₹6,54,456',\n",
       " '₹9,00,000',\n",
       " '₹9,18,747',\n",
       " '₹9,37,500',\n",
       " '₹9,28,801',\n",
       " '₹16,06,066',\n",
       " '₹13,75,266']"
      ]
     },
     "execution_count": 120,
     "metadata": {},
     "output_type": "execute_result"
    }
   ],
   "source": [
    "avg_salary = driver.find_elements_by_xpath(\"//h3[@class='m-0 css-g261rn']\")\n",
    "\n",
    "avg_salary\n",
    "\n",
    "avg_salary1 = []\n",
    "\n",
    "for i in avg_salary:\n",
    "    avg_salary1.append(i.text)\n",
    "avg_salary1 = avg_salary1[5::2]\n",
    "avg_salary1 = avg_salary1[0:10]\n",
    "avg_salary1\n"
   ]
  },
  {
   "cell_type": "code",
   "execution_count": 133,
   "metadata": {},
   "outputs": [],
   "source": [
    "# creating dataframe and assigning lists to columns\n",
    "df5 = pd.DataFrame({})\n",
    "df5['company_name'] = company_name1\n",
    "df5['Rating'] = rating1\n",
    "df5['Salary per month'] = avg_salary1\n",
    "\n"
   ]
  },
  {
   "cell_type": "code",
   "execution_count": 134,
   "metadata": {},
   "outputs": [
    {
     "data": {
      "text/html": [
       "<div>\n",
       "<style scoped>\n",
       "    .dataframe tbody tr th:only-of-type {\n",
       "        vertical-align: middle;\n",
       "    }\n",
       "\n",
       "    .dataframe tbody tr th {\n",
       "        vertical-align: top;\n",
       "    }\n",
       "\n",
       "    .dataframe thead th {\n",
       "        text-align: right;\n",
       "    }\n",
       "</style>\n",
       "<table border=\"1\" class=\"dataframe\">\n",
       "  <thead>\n",
       "    <tr style=\"text-align: right;\">\n",
       "      <th></th>\n",
       "      <th>company_name</th>\n",
       "      <th>Rating</th>\n",
       "      <th>Salary per month</th>\n",
       "    </tr>\n",
       "  </thead>\n",
       "  <tbody>\n",
       "    <tr>\n",
       "      <th>0</th>\n",
       "      <td>Mu Sigma</td>\n",
       "      <td>3.3</td>\n",
       "      <td>₹6,34,950</td>\n",
       "    </tr>\n",
       "    <tr>\n",
       "      <th>1</th>\n",
       "      <td>IBM</td>\n",
       "      <td>3.9</td>\n",
       "      <td>₹11,83,457</td>\n",
       "    </tr>\n",
       "    <tr>\n",
       "      <th>2</th>\n",
       "      <td>Tata Consultancy Services</td>\n",
       "      <td>3.9</td>\n",
       "      <td>₹8,76,867</td>\n",
       "    </tr>\n",
       "    <tr>\n",
       "      <th>3</th>\n",
       "      <td>Impact Analytics</td>\n",
       "      <td>4</td>\n",
       "      <td>₹6,54,456</td>\n",
       "    </tr>\n",
       "    <tr>\n",
       "      <th>4</th>\n",
       "      <td>Accenture</td>\n",
       "      <td>4.1</td>\n",
       "      <td>₹9,00,000</td>\n",
       "    </tr>\n",
       "    <tr>\n",
       "      <th>5</th>\n",
       "      <td>Infosys</td>\n",
       "      <td>3.4</td>\n",
       "      <td>₹9,18,747</td>\n",
       "    </tr>\n",
       "    <tr>\n",
       "      <th>6</th>\n",
       "      <td>Capgemini</td>\n",
       "      <td>3.8</td>\n",
       "      <td>₹9,37,500</td>\n",
       "    </tr>\n",
       "    <tr>\n",
       "      <th>7</th>\n",
       "      <td>Cognizant Technology Solutions</td>\n",
       "      <td>3.8</td>\n",
       "      <td>₹9,28,801</td>\n",
       "    </tr>\n",
       "    <tr>\n",
       "      <th>8</th>\n",
       "      <td>Anheuser-Busch InBev</td>\n",
       "      <td>3.7</td>\n",
       "      <td>₹16,06,066</td>\n",
       "    </tr>\n",
       "    <tr>\n",
       "      <th>9</th>\n",
       "      <td>Embibe</td>\n",
       "      <td>4.5</td>\n",
       "      <td>₹13,75,266</td>\n",
       "    </tr>\n",
       "  </tbody>\n",
       "</table>\n",
       "</div>"
      ],
      "text/plain": [
       "                     company_name Rating Salary per month\n",
       "0                        Mu Sigma    3.3        ₹6,34,950\n",
       "1                             IBM    3.9       ₹11,83,457\n",
       "2       Tata Consultancy Services    3.9        ₹8,76,867\n",
       "3                Impact Analytics      4        ₹6,54,456\n",
       "4                       Accenture    4.1        ₹9,00,000\n",
       "5                         Infosys    3.4        ₹9,18,747\n",
       "6                       Capgemini    3.8        ₹9,37,500\n",
       "7  Cognizant Technology Solutions    3.8        ₹9,28,801\n",
       "8            Anheuser-Busch InBev    3.7       ₹16,06,066\n",
       "9                          Embibe    4.5       ₹13,75,266"
      ]
     },
     "execution_count": 134,
     "metadata": {},
     "output_type": "execute_result"
    }
   ],
   "source": [
    "df5"
   ]
  },
  {
   "cell_type": "markdown",
   "metadata": {},
   "source": [
    "Q6:Scrape data of first 100 sunglasses listings on flipkart.com."
   ]
  },
  {
   "cell_type": "code",
   "execution_count": 135,
   "metadata": {},
   "outputs": [],
   "source": [
    "#chrome driver to initiate url and get web elements for the same using selenium\n",
    "driver = webdriver.Chrome(r'C:\\Users\\UmarFarooque\\Downloads\\chromedriver_win32\\chromedriver.exe')\n",
    "\n",
    "url = \"https://www.flipkart.com/\"\n",
    "\n",
    "driver.get(url)\n",
    "\n",
    "driver.maximize_window() # to maximise the chrome window\n",
    "\n",
    "#entering \"Data Analyst\" in job search bar using selenium driver\n",
    "search_glass = driver.find_element_by_class_name('_3704LK')\n",
    "search_glass.send_keys(\"Sun Glasses\")\n",
    "#clicking submit button using selenium deriver\n",
    "button_1 = driver.find_element_by_xpath('/html/body/div[2]/div/div/button')\n",
    "button_1.click()\n",
    "driver.implicitly_wait(3)\n",
    "click_button = driver.find_element_by_class_name(\"L0Z3Pu\")\n",
    "click_button.click()\n",
    "\n",
    "brand_name = []\n",
    "prd_desc = []\n",
    "price = []\n",
    "discount = []\n",
    "\n",
    "for k in range(1,4):\n",
    "\n",
    "    \n",
    "    brand = driver.find_elements_by_class_name('_2WkVRV')\n",
    "    \n",
    "\n",
    "    for i in brand:\n",
    "        brand_name.append(i.text)\n",
    "\n",
    "    desc = driver.find_elements_by_class_name('IRpwTa')\n",
    "    \n",
    "\n",
    "    for i in desc:\n",
    "        prd_desc.append(i.text)\n",
    "\n",
    "    cost = driver.find_elements_by_class_name(\"_30jeq3\")\n",
    "    \n",
    "\n",
    "    for i in cost:\n",
    "        price.append(i.text)\n",
    "\n",
    "\n",
    "    dis = driver.find_elements_by_class_name(\"_3Ay6Sb\")\n",
    "    \n",
    "\n",
    "    for i in dis:\n",
    "        discount.append(i.text)\n",
    "    \n",
    "    \n",
    "        nxt_button=driver.find_elements_by_xpath(\"//a[@class='_1LKTO3']\")              #scraping the list of buttons from the page\n",
    "\n",
    "    try:\n",
    "\n",
    "        driver.get(nxt_button[1].get_attribute('href'))#getting the link from the list for next page\n",
    "        \n",
    "\n",
    "    except:\n",
    "\n",
    "        driver.get(nxt_button[0].get_attribute('href'))"
   ]
  },
  {
   "cell_type": "code",
   "execution_count": 136,
   "metadata": {},
   "outputs": [],
   "source": [
    "brand_name = brand_name[0:100]\n",
    "prd_desc = prd_desc[0:100]\n",
    "price = price[0:100]\n",
    "discount = discount[0:100]"
   ]
  },
  {
   "cell_type": "code",
   "execution_count": 137,
   "metadata": {},
   "outputs": [],
   "source": [
    "# creating dataframe and assigning lists to columns\n",
    "df4 = pd.DataFrame({})\n",
    "df4['brand_name'] = brand_name\n",
    "df4['prd_desc'] = prd_desc\n",
    "df4['[price]'] = price\n",
    "df4['discount'] = discount"
   ]
  },
  {
   "cell_type": "code",
   "execution_count": 138,
   "metadata": {},
   "outputs": [
    {
     "data": {
      "text/html": [
       "<div>\n",
       "<style scoped>\n",
       "    .dataframe tbody tr th:only-of-type {\n",
       "        vertical-align: middle;\n",
       "    }\n",
       "\n",
       "    .dataframe tbody tr th {\n",
       "        vertical-align: top;\n",
       "    }\n",
       "\n",
       "    .dataframe thead th {\n",
       "        text-align: right;\n",
       "    }\n",
       "</style>\n",
       "<table border=\"1\" class=\"dataframe\">\n",
       "  <thead>\n",
       "    <tr style=\"text-align: right;\">\n",
       "      <th></th>\n",
       "      <th>brand_name</th>\n",
       "      <th>prd_desc</th>\n",
       "      <th>[price]</th>\n",
       "      <th>discount</th>\n",
       "    </tr>\n",
       "  </thead>\n",
       "  <tbody>\n",
       "    <tr>\n",
       "      <th>0</th>\n",
       "      <td>Wrogn</td>\n",
       "      <td>Mirrored Wayfarer Sunglasses (51)</td>\n",
       "      <td>₹739</td>\n",
       "      <td>71% off</td>\n",
       "    </tr>\n",
       "    <tr>\n",
       "      <th>1</th>\n",
       "      <td>Villain</td>\n",
       "      <td>Others Wayfarer Sunglasses (Free Size)</td>\n",
       "      <td>₹549</td>\n",
       "      <td>45% off</td>\n",
       "    </tr>\n",
       "    <tr>\n",
       "      <th>2</th>\n",
       "      <td>Elligator</td>\n",
       "      <td>UV Protection Round Sunglasses (54)</td>\n",
       "      <td>₹295</td>\n",
       "      <td>88% off</td>\n",
       "    </tr>\n",
       "    <tr>\n",
       "      <th>3</th>\n",
       "      <td>Fastrack</td>\n",
       "      <td>Gradient, UV Protection Wayfarer Sunglasses (F...</td>\n",
       "      <td>₹455</td>\n",
       "      <td>43% off</td>\n",
       "    </tr>\n",
       "    <tr>\n",
       "      <th>4</th>\n",
       "      <td>Fastrack</td>\n",
       "      <td>UV Protection Rectangular Sunglasses (Free Size)</td>\n",
       "      <td>₹509</td>\n",
       "      <td>36% off</td>\n",
       "    </tr>\n",
       "    <tr>\n",
       "      <th>...</th>\n",
       "      <td>...</td>\n",
       "      <td>...</td>\n",
       "      <td>...</td>\n",
       "      <td>...</td>\n",
       "    </tr>\n",
       "    <tr>\n",
       "      <th>95</th>\n",
       "      <td>Villain</td>\n",
       "      <td>Others Retro Square Sunglasses (Free Size)</td>\n",
       "      <td>₹599</td>\n",
       "      <td>25% off</td>\n",
       "    </tr>\n",
       "    <tr>\n",
       "      <th>96</th>\n",
       "      <td>Fastrack</td>\n",
       "      <td>Gradient, UV Protection Wayfarer Sunglasses (F...</td>\n",
       "      <td>₹255</td>\n",
       "      <td>74% off</td>\n",
       "    </tr>\n",
       "    <tr>\n",
       "      <th>97</th>\n",
       "      <td>NuVew</td>\n",
       "      <td>UV Protection Sports Sunglasses (73)</td>\n",
       "      <td>₹549</td>\n",
       "      <td>45% off</td>\n",
       "    </tr>\n",
       "    <tr>\n",
       "      <th>98</th>\n",
       "      <td>Fastrack</td>\n",
       "      <td>UV Protection Aviator Sunglasses (Free Size)</td>\n",
       "      <td>₹293</td>\n",
       "      <td>82% off</td>\n",
       "    </tr>\n",
       "    <tr>\n",
       "      <th>99</th>\n",
       "      <td>ROYAL SON</td>\n",
       "      <td>UV Protection Retro Square Sunglasses (58)</td>\n",
       "      <td>₹559</td>\n",
       "      <td>30% off</td>\n",
       "    </tr>\n",
       "  </tbody>\n",
       "</table>\n",
       "<p>100 rows × 4 columns</p>\n",
       "</div>"
      ],
      "text/plain": [
       "   brand_name                                           prd_desc [price]  \\\n",
       "0       Wrogn                  Mirrored Wayfarer Sunglasses (51)    ₹739   \n",
       "1     Villain             Others Wayfarer Sunglasses (Free Size)    ₹549   \n",
       "2   Elligator                UV Protection Round Sunglasses (54)    ₹295   \n",
       "3    Fastrack  Gradient, UV Protection Wayfarer Sunglasses (F...    ₹455   \n",
       "4    Fastrack   UV Protection Rectangular Sunglasses (Free Size)    ₹509   \n",
       "..        ...                                                ...     ...   \n",
       "95    Villain         Others Retro Square Sunglasses (Free Size)    ₹599   \n",
       "96   Fastrack  Gradient, UV Protection Wayfarer Sunglasses (F...    ₹255   \n",
       "97      NuVew               UV Protection Sports Sunglasses (73)    ₹549   \n",
       "98   Fastrack       UV Protection Aviator Sunglasses (Free Size)    ₹293   \n",
       "99  ROYAL SON         UV Protection Retro Square Sunglasses (58)    ₹559   \n",
       "\n",
       "   discount  \n",
       "0   71% off  \n",
       "1   45% off  \n",
       "2   88% off  \n",
       "3   43% off  \n",
       "4   36% off  \n",
       "..      ...  \n",
       "95  25% off  \n",
       "96  74% off  \n",
       "97  45% off  \n",
       "98  82% off  \n",
       "99  30% off  \n",
       "\n",
       "[100 rows x 4 columns]"
      ]
     },
     "execution_count": 138,
     "metadata": {},
     "output_type": "execute_result"
    }
   ],
   "source": [
    "df4"
   ]
  },
  {
   "cell_type": "markdown",
   "metadata": {},
   "source": [
    "Q7: Scrape 100 reviews data from flipkart.com for iphone11 phone"
   ]
  },
  {
   "cell_type": "code",
   "execution_count": 139,
   "metadata": {},
   "outputs": [],
   "source": [
    "from selenium import webdriver\n",
    "import time\n",
    "from selenium.common.exceptions import StaleElementReferenceException, NoSuchElementException"
   ]
  },
  {
   "cell_type": "code",
   "execution_count": 140,
   "metadata": {},
   "outputs": [],
   "source": [
    "#chrome driver to initiate url and get web elements for the same using selenium\n",
    "driver = webdriver.Chrome(r'C:\\Users\\UmarFarooque\\Downloads\\chromedriver_win32\\chromedriver.exe')\n",
    "time.sleep(3)\n",
    "url = \"https://www.flipkart.com/apple-iphone-11-black-64-gb-includes-earpods-power-adapter/product-reviews/itm0f37c2240b217?pid=MOBFKCTSVZAXUHGR&lid=LSTMOBFKCTSVZAXUHGREPBFGI&marketplace=FLIPKART&page=1\"\n",
    "\n",
    "driver.get(url)\n",
    "time.sleep(3)\n",
    "\n",
    "driver.maximize_window() # to maximise the chrome window\n",
    "\n",
    "# Creating empty list\n",
    "urls=[]\n",
    "short_review=[]\n",
    "Rating1 = []\n",
    "full_review = []\n",
    "\n",
    "time.sleep(2)\n",
    "#Taking 10 pages into consideration using for loop\n",
    "for i in range(10):\n",
    "    url=driver.find_element_by_xpath(\"//a[@class='ge-49M']\").get_attribute('href')\n",
    "    driver.get(url)\n",
    "    #for scrapping the short review\n",
    "    for k in driver.find_elements_by_xpath(\"//p[@class='_2-N8zT']\"):\n",
    "        short_review.append(k.text)\n",
    "    for j in driver.find_elements_by_xpath(\"//div[@class='_3LWZlK _1BLPMq']\"):\n",
    "        Rating1.append(j.text)\n",
    "    for m in driver.find_elements_by_xpath (\"//div[@class='']\"):\n",
    "        full_review.append(m.text)\n"
   ]
  },
  {
   "cell_type": "code",
   "execution_count": 141,
   "metadata": {},
   "outputs": [],
   "source": [
    "# creating dataframe and assigning lists to columns\n",
    "df7 = pd.DataFrame({})\n",
    "df7['Short Desc'] = short_review\n",
    "df7['Full Desc'] = full_review\n",
    "df7['Ratings'] = Rating1"
   ]
  },
  {
   "cell_type": "code",
   "execution_count": 142,
   "metadata": {},
   "outputs": [
    {
     "data": {
      "text/html": [
       "<div>\n",
       "<style scoped>\n",
       "    .dataframe tbody tr th:only-of-type {\n",
       "        vertical-align: middle;\n",
       "    }\n",
       "\n",
       "    .dataframe tbody tr th {\n",
       "        vertical-align: top;\n",
       "    }\n",
       "\n",
       "    .dataframe thead th {\n",
       "        text-align: right;\n",
       "    }\n",
       "</style>\n",
       "<table border=\"1\" class=\"dataframe\">\n",
       "  <thead>\n",
       "    <tr style=\"text-align: right;\">\n",
       "      <th></th>\n",
       "      <th>Short Desc</th>\n",
       "      <th>Full Desc</th>\n",
       "      <th>Ratings</th>\n",
       "    </tr>\n",
       "  </thead>\n",
       "  <tbody>\n",
       "    <tr>\n",
       "      <th>0</th>\n",
       "      <td>Perfect product!</td>\n",
       "      <td>Value for money❤️❤️\\nIts awesome mobile phone ...</td>\n",
       "      <td>5</td>\n",
       "    </tr>\n",
       "    <tr>\n",
       "      <th>1</th>\n",
       "      <td>Best in the market!</td>\n",
       "      <td>Great iPhone very snappy experience as apple k...</td>\n",
       "      <td>5</td>\n",
       "    </tr>\n",
       "    <tr>\n",
       "      <th>2</th>\n",
       "      <td>Highly recommended</td>\n",
       "      <td>What a camera .....just awesome ..you can feel...</td>\n",
       "      <td>5</td>\n",
       "    </tr>\n",
       "    <tr>\n",
       "      <th>3</th>\n",
       "      <td>Classy product</td>\n",
       "      <td>Totally in love with this ❤ the camera quality...</td>\n",
       "      <td>5</td>\n",
       "    </tr>\n",
       "    <tr>\n",
       "      <th>4</th>\n",
       "      <td>Highly recommended</td>\n",
       "      <td>It's my first time to use iOS phone and I am l...</td>\n",
       "      <td>5</td>\n",
       "    </tr>\n",
       "    <tr>\n",
       "      <th>...</th>\n",
       "      <td>...</td>\n",
       "      <td>...</td>\n",
       "      <td>...</td>\n",
       "    </tr>\n",
       "    <tr>\n",
       "      <th>95</th>\n",
       "      <td>Great product</td>\n",
       "      <td>Amazing Powerful and Durable Gadget.\\n\\nI’m am...</td>\n",
       "      <td>5</td>\n",
       "    </tr>\n",
       "    <tr>\n",
       "      <th>96</th>\n",
       "      <td>Worth every penny</td>\n",
       "      <td>i11 is worthy to buy, too much happy with the ...</td>\n",
       "      <td>5</td>\n",
       "    </tr>\n",
       "    <tr>\n",
       "      <th>97</th>\n",
       "      <td>Good choice</td>\n",
       "      <td>So far it’s been an AMAZING experience coming ...</td>\n",
       "      <td>4</td>\n",
       "    </tr>\n",
       "    <tr>\n",
       "      <th>98</th>\n",
       "      <td>Highly recommended</td>\n",
       "      <td>iphone 11 is a very good phone to buy only if ...</td>\n",
       "      <td>5</td>\n",
       "    </tr>\n",
       "    <tr>\n",
       "      <th>99</th>\n",
       "      <td>Perfect product!</td>\n",
       "      <td>It’s a must buy who is looking for an upgrade ...</td>\n",
       "      <td>5</td>\n",
       "    </tr>\n",
       "  </tbody>\n",
       "</table>\n",
       "<p>100 rows × 3 columns</p>\n",
       "</div>"
      ],
      "text/plain": [
       "             Short Desc                                          Full Desc  \\\n",
       "0      Perfect product!  Value for money❤️❤️\\nIts awesome mobile phone ...   \n",
       "1   Best in the market!  Great iPhone very snappy experience as apple k...   \n",
       "2    Highly recommended  What a camera .....just awesome ..you can feel...   \n",
       "3        Classy product  Totally in love with this ❤ the camera quality...   \n",
       "4    Highly recommended  It's my first time to use iOS phone and I am l...   \n",
       "..                  ...                                                ...   \n",
       "95        Great product  Amazing Powerful and Durable Gadget.\\n\\nI’m am...   \n",
       "96    Worth every penny  i11 is worthy to buy, too much happy with the ...   \n",
       "97          Good choice  So far it’s been an AMAZING experience coming ...   \n",
       "98   Highly recommended  iphone 11 is a very good phone to buy only if ...   \n",
       "99     Perfect product!  It’s a must buy who is looking for an upgrade ...   \n",
       "\n",
       "   Ratings  \n",
       "0        5  \n",
       "1        5  \n",
       "2        5  \n",
       "3        5  \n",
       "4        5  \n",
       "..     ...  \n",
       "95       5  \n",
       "96       5  \n",
       "97       4  \n",
       "98       5  \n",
       "99       5  \n",
       "\n",
       "[100 rows x 3 columns]"
      ]
     },
     "execution_count": 142,
     "metadata": {},
     "output_type": "execute_result"
    }
   ],
   "source": [
    "df7"
   ]
  },
  {
   "cell_type": "markdown",
   "metadata": {},
   "source": [
    "Q8: Scrape data for first 100 sneakers you find when you visit flipkart.com and search for “sneakers” in the search field."
   ]
  },
  {
   "cell_type": "code",
   "execution_count": 2,
   "metadata": {},
   "outputs": [],
   "source": [
    "#importiong neccessary libraries\n",
    "import selenium\n",
    "import pandas as pd\n",
    "from selenium import webdriver\n",
    "#chrome driver to initiate url and get web elements for the same using selenium\n",
    "driver = webdriver.Chrome(r'C:\\Users\\UmarFarooque\\Downloads\\chromedriver_win32\\chromedriver.exe')\n",
    "\n",
    "url = \"https://www.flipkart.com/\"\n",
    "\n",
    "driver.get(url)\n",
    "\n",
    "driver.maximize_window() # to maximise the chrome window\n",
    "\n",
    "#entering \"Data Analyst\" in job search bar using selenium driver\n",
    "search_glass = driver.find_element_by_class_name('_3704LK')\n",
    "search_glass.send_keys(\"Sneakers\")\n",
    "#clicking submit button using selenium deriver\n",
    "button_1 = driver.find_element_by_xpath('/html/body/div[2]/div/div/button')\n",
    "button_1.click()\n",
    "driver.implicitly_wait(3)\n",
    "click_button = driver.find_element_by_class_name(\"L0Z3Pu\")\n",
    "click_button.click()\n",
    "\n",
    "brand_name1 = []\n",
    "prd_desc1 = []\n",
    "price1 = []\n",
    "discount1 = []\n",
    "\n",
    "for k in range(1,4):\n",
    "\n",
    "    \n",
    "    brand = driver.find_elements_by_class_name('_2WkVRV')\n",
    "    \n",
    "\n",
    "    for i in brand:\n",
    "        brand_name1.append(i.text)\n",
    "\n",
    "    desc = driver.find_elements_by_class_name('IRpwTa')\n",
    "    \n",
    "\n",
    "    for i in desc:\n",
    "        prd_desc1.append(i.text)\n",
    "\n",
    "    cost = driver.find_elements_by_class_name(\"_30jeq3\")\n",
    "    \n",
    "\n",
    "    for i in cost:\n",
    "        price1.append(i.text)\n",
    "\n",
    "\n",
    "    dis = driver.find_elements_by_class_name(\"_3Ay6Sb\")\n",
    "    \n",
    "\n",
    "    for i in dis:\n",
    "        discount1.append(i.text)\n",
    "    \n",
    "    \n",
    "        nxt_button=driver.find_elements_by_xpath(\"//a[@class='_1LKTO3']\")              #scraping the list of buttons from the page\n",
    "\n",
    "    try:\n",
    "\n",
    "        driver.get(nxt_button[1].get_attribute('href'))#getting the link from the list for next page\n",
    "        \n",
    "\n",
    "    except:\n",
    "\n",
    "        driver.get(nxt_button[0].get_attribute('href'))"
   ]
  },
  {
   "cell_type": "code",
   "execution_count": 3,
   "metadata": {},
   "outputs": [],
   "source": [
    "\n",
    "brand_name1 = brand_name1[0:100]\n",
    "prd_desc1 = prd_desc1[0:100]\n",
    "price1 = price1[0:100]\n",
    "discount1 = discount1[0:100]"
   ]
  },
  {
   "cell_type": "code",
   "execution_count": 4,
   "metadata": {},
   "outputs": [],
   "source": [
    "\n",
    "# creating dataframe and assigning lists to columns\n",
    "df8 = pd.DataFrame({})\n",
    "df8['brand_name'] = brand_name1\n",
    "df8['prd_desc'] = prd_desc1\n",
    "df8['[price]'] = price1\n",
    "df8['discount'] = discount1"
   ]
  },
  {
   "cell_type": "code",
   "execution_count": 5,
   "metadata": {},
   "outputs": [
    {
     "data": {
      "text/html": [
       "<div>\n",
       "<style scoped>\n",
       "    .dataframe tbody tr th:only-of-type {\n",
       "        vertical-align: middle;\n",
       "    }\n",
       "\n",
       "    .dataframe tbody tr th {\n",
       "        vertical-align: top;\n",
       "    }\n",
       "\n",
       "    .dataframe thead th {\n",
       "        text-align: right;\n",
       "    }\n",
       "</style>\n",
       "<table border=\"1\" class=\"dataframe\">\n",
       "  <thead>\n",
       "    <tr style=\"text-align: right;\">\n",
       "      <th></th>\n",
       "      <th>brand_name</th>\n",
       "      <th>prd_desc</th>\n",
       "      <th>[price]</th>\n",
       "      <th>discount</th>\n",
       "    </tr>\n",
       "  </thead>\n",
       "  <tbody>\n",
       "    <tr>\n",
       "      <th>0</th>\n",
       "      <td>DUCATI</td>\n",
       "      <td>Sneakers For Men</td>\n",
       "      <td>₹1,289</td>\n",
       "      <td>65% off</td>\n",
       "    </tr>\n",
       "    <tr>\n",
       "      <th>1</th>\n",
       "      <td>City Soles</td>\n",
       "      <td>Cipramo Canvas Shoes for Men Sneakers For Men</td>\n",
       "      <td>₹630</td>\n",
       "      <td>36% off</td>\n",
       "    </tr>\n",
       "    <tr>\n",
       "      <th>2</th>\n",
       "      <td>Numenzo</td>\n",
       "      <td>Sneakers For Men</td>\n",
       "      <td>₹378</td>\n",
       "      <td>62% off</td>\n",
       "    </tr>\n",
       "    <tr>\n",
       "      <th>3</th>\n",
       "      <td>Chevit</td>\n",
       "      <td>Unique &amp; Perfect Collection Combo Pack of 02 S...</td>\n",
       "      <td>₹420</td>\n",
       "      <td>71% off</td>\n",
       "    </tr>\n",
       "    <tr>\n",
       "      <th>4</th>\n",
       "      <td>ASTEROID</td>\n",
       "      <td>Original Luxury Branded Fashionable Men's Casu...</td>\n",
       "      <td>₹499</td>\n",
       "      <td>75% off</td>\n",
       "    </tr>\n",
       "    <tr>\n",
       "      <th>...</th>\n",
       "      <td>...</td>\n",
       "      <td>...</td>\n",
       "      <td>...</td>\n",
       "      <td>...</td>\n",
       "    </tr>\n",
       "    <tr>\n",
       "      <th>95</th>\n",
       "      <td>BIRDE</td>\n",
       "      <td>Trendy and Stylish Casual Shoes Sneakers For Men</td>\n",
       "      <td>₹474</td>\n",
       "      <td>52% off</td>\n",
       "    </tr>\n",
       "    <tr>\n",
       "      <th>96</th>\n",
       "      <td>Bonexy</td>\n",
       "      <td>Sneakers For Men</td>\n",
       "      <td>₹4,999</td>\n",
       "      <td>36% off</td>\n",
       "    </tr>\n",
       "    <tr>\n",
       "      <th>97</th>\n",
       "      <td>PUMA</td>\n",
       "      <td>Scuderia Ferrari Race IMEVA X-Ray 2 Sneakers F...</td>\n",
       "      <td>₹630</td>\n",
       "      <td>77% off</td>\n",
       "    </tr>\n",
       "    <tr>\n",
       "      <th>98</th>\n",
       "      <td>bluemaker</td>\n",
       "      <td>casual for men Sneakers For Men</td>\n",
       "      <td>₹1,049</td>\n",
       "      <td>55% off</td>\n",
       "    </tr>\n",
       "    <tr>\n",
       "      <th>99</th>\n",
       "      <td>ROCKFIELD</td>\n",
       "      <td>Sneakers For Men</td>\n",
       "      <td>₹449</td>\n",
       "      <td>77% off</td>\n",
       "    </tr>\n",
       "  </tbody>\n",
       "</table>\n",
       "<p>100 rows × 4 columns</p>\n",
       "</div>"
      ],
      "text/plain": [
       "    brand_name                                           prd_desc [price]  \\\n",
       "0       DUCATI                                   Sneakers For Men  ₹1,289   \n",
       "1   City Soles      Cipramo Canvas Shoes for Men Sneakers For Men    ₹630   \n",
       "2      Numenzo                                   Sneakers For Men    ₹378   \n",
       "3       Chevit  Unique & Perfect Collection Combo Pack of 02 S...    ₹420   \n",
       "4     ASTEROID  Original Luxury Branded Fashionable Men's Casu...    ₹499   \n",
       "..         ...                                                ...     ...   \n",
       "95       BIRDE   Trendy and Stylish Casual Shoes Sneakers For Men    ₹474   \n",
       "96      Bonexy                                   Sneakers For Men  ₹4,999   \n",
       "97        PUMA  Scuderia Ferrari Race IMEVA X-Ray 2 Sneakers F...    ₹630   \n",
       "98   bluemaker                    casual for men Sneakers For Men  ₹1,049   \n",
       "99   ROCKFIELD                                   Sneakers For Men    ₹449   \n",
       "\n",
       "   discount  \n",
       "0   65% off  \n",
       "1   36% off  \n",
       "2   62% off  \n",
       "3   71% off  \n",
       "4   75% off  \n",
       "..      ...  \n",
       "95  52% off  \n",
       "96  36% off  \n",
       "97  77% off  \n",
       "98  55% off  \n",
       "99  77% off  \n",
       "\n",
       "[100 rows x 4 columns]"
      ]
     },
     "execution_count": 5,
     "metadata": {},
     "output_type": "execute_result"
    }
   ],
   "source": [
    "df8"
   ]
  },
  {
   "cell_type": "markdown",
   "metadata": {},
   "source": [
    "\n",
    "Q9:Go to the link - https://www.myntra.com/shoesSet Price filter to “Rs. 6649 to Rs. 13099” , Color filter to “Black”, as shown in the below image"
   ]
  },
  {
   "cell_type": "code",
   "execution_count": 7,
   "metadata": {},
   "outputs": [],
   "source": [
    "driver = webdriver.Chrome(r'C:\\Users\\UmarFarooque\\Downloads\\chromedriver_win32\\chromedriver.exe')\n",
    "\n",
    "url = \"https://www.myntra.com/shoes\"\n",
    "\n",
    "driver.get(url)\n",
    "\n",
    "driver.maximize_window() # to maximise the chrome window"
   ]
  },
  {
   "cell_type": "code",
   "execution_count": 8,
   "metadata": {},
   "outputs": [],
   "source": [
    "\n",
    "driver.find_element_by_xpath(\"//*[@id='mountRoot']/div/div[1]/main/div[3]/div[1]/section/div/div[6]/ul/li[1]/label/div\").click()"
   ]
  },
  {
   "cell_type": "code",
   "execution_count": 9,
   "metadata": {},
   "outputs": [],
   "source": [
    "driver.find_element_by_xpath(\"//*[@id='mountRoot']/div/div[1]/main/div[3]/div[1]/section/div/div[5]/ul/li[2]/label/div\").click()"
   ]
  },
  {
   "cell_type": "code",
   "execution_count": 10,
   "metadata": {},
   "outputs": [],
   "source": [
    "brand_name2 = []\n",
    "prd_desc2 = []\n",
    "price2 = []\n",
    "\n",
    "\n",
    "\n",
    "brand = driver.find_elements_by_class_name('product-brand')\n",
    "    \n",
    "\n",
    "for i in brand:\n",
    "    brand_name2.append(i.text)\n",
    "\n",
    "desc = driver.find_elements_by_class_name('product-product')\n",
    "    \n",
    "for i in desc:\n",
    "    prd_desc2.append(i.text)\n",
    "\n",
    "cost = driver.find_elements_by_class_name(\"product-price\")\n",
    "    \n",
    "\n",
    "for i in cost:\n",
    "    price2.append(i.text)"
   ]
  },
  {
   "cell_type": "code",
   "execution_count": 11,
   "metadata": {},
   "outputs": [
    {
     "data": {
      "text/plain": [
       "(50, 50, 50)"
      ]
     },
     "execution_count": 11,
     "metadata": {},
     "output_type": "execute_result"
    }
   ],
   "source": [
    "len(brand_name2),len(prd_desc2),len(price2)"
   ]
  },
  {
   "cell_type": "code",
   "execution_count": 14,
   "metadata": {},
   "outputs": [],
   "source": [
    "driver = webdriver.Chrome(r'C:\\Users\\UmarFarooque\\Downloads\\chromedriver_win32\\chromedriver.exe')\n",
    "\n",
    "url = \"https://www.myntra.com/shoes?f=Color%3ABlack_36454f&p=2&plaEnabled=false&rf=Price%3A6657.0_13105.0_6657.0%20TO%2013105.0\"\n",
    "\n",
    "driver.get(url)\n",
    "\n",
    "driver.maximize_window() # to maximise the chrome window\n"
   ]
  },
  {
   "cell_type": "code",
   "execution_count": 15,
   "metadata": {},
   "outputs": [],
   "source": [
    "brand_name3 = []\n",
    "prd_desc3 = []\n",
    "price3 = []\n",
    "\n",
    "\n",
    "\n",
    "brand = driver.find_elements_by_class_name('product-brand')\n",
    "    \n",
    "\n",
    "for i in brand:\n",
    "    brand_name3.append(i.text)\n",
    "\n",
    "desc = driver.find_elements_by_class_name('product-product')\n",
    "    \n",
    "for i in desc:\n",
    "    prd_desc3.append(i.text)\n",
    "\n",
    "cost = driver.find_elements_by_class_name(\"product-price\")\n",
    "    \n",
    "\n",
    "for i in cost:\n",
    "    price3.append(i.text)"
   ]
  },
  {
   "cell_type": "code",
   "execution_count": 16,
   "metadata": {},
   "outputs": [
    {
     "data": {
      "text/plain": [
       "(50, 50, 50)"
      ]
     },
     "execution_count": 16,
     "metadata": {},
     "output_type": "execute_result"
    }
   ],
   "source": [
    "len(brand_name3),len(prd_desc3),len(price3)"
   ]
  },
  {
   "cell_type": "code",
   "execution_count": 17,
   "metadata": {},
   "outputs": [],
   "source": [
    "# creating dataframe and assigning lists to columns\n",
    "df9 = pd.DataFrame({})\n",
    "df9['brand_name'] = brand_name2+brand_name3\n",
    "df9['prd_desc'] = prd_desc2+prd_desc3\n",
    "df9['[price]'] = price2+prd_desc3\n"
   ]
  },
  {
   "cell_type": "code",
   "execution_count": 18,
   "metadata": {},
   "outputs": [
    {
     "data": {
      "text/html": [
       "<div>\n",
       "<style scoped>\n",
       "    .dataframe tbody tr th:only-of-type {\n",
       "        vertical-align: middle;\n",
       "    }\n",
       "\n",
       "    .dataframe tbody tr th {\n",
       "        vertical-align: top;\n",
       "    }\n",
       "\n",
       "    .dataframe thead th {\n",
       "        text-align: right;\n",
       "    }\n",
       "</style>\n",
       "<table border=\"1\" class=\"dataframe\">\n",
       "  <thead>\n",
       "    <tr style=\"text-align: right;\">\n",
       "      <th></th>\n",
       "      <th>brand_name</th>\n",
       "      <th>prd_desc</th>\n",
       "      <th>[price]</th>\n",
       "    </tr>\n",
       "  </thead>\n",
       "  <tbody>\n",
       "    <tr>\n",
       "      <th>0</th>\n",
       "      <td>Nike</td>\n",
       "      <td>Men ZOOM SPAN 3 Running Shoes</td>\n",
       "      <td>Rs. 5396Rs. 7195(25% OFF)</td>\n",
       "    </tr>\n",
       "    <tr>\n",
       "      <th>1</th>\n",
       "      <td>UNDER ARMOUR</td>\n",
       "      <td>Men Charged Bandit 6 Running</td>\n",
       "      <td>Rs. 8999</td>\n",
       "    </tr>\n",
       "    <tr>\n",
       "      <th>2</th>\n",
       "      <td>UNDER ARMOUR</td>\n",
       "      <td>Men HOVR Sonic STRT Tech Shoes</td>\n",
       "      <td>Rs. 9999</td>\n",
       "    </tr>\n",
       "    <tr>\n",
       "      <th>3</th>\n",
       "      <td>Puma</td>\n",
       "      <td>Axelion Block Running Shoes</td>\n",
       "      <td>Rs. 5999</td>\n",
       "    </tr>\n",
       "    <tr>\n",
       "      <th>4</th>\n",
       "      <td>UNDER ARMOUR</td>\n",
       "      <td>Men Charged Vantage Running</td>\n",
       "      <td>Rs. 7999</td>\n",
       "    </tr>\n",
       "    <tr>\n",
       "      <th>...</th>\n",
       "      <td>...</td>\n",
       "      <td>...</td>\n",
       "      <td>...</td>\n",
       "    </tr>\n",
       "    <tr>\n",
       "      <th>95</th>\n",
       "      <td>Geox</td>\n",
       "      <td>Men Leather Formal Monks</td>\n",
       "      <td>Men Leather Formal Monks</td>\n",
       "    </tr>\n",
       "    <tr>\n",
       "      <th>96</th>\n",
       "      <td>Nike</td>\n",
       "      <td>Men AIR ZOOM PEGASUS 38 Run</td>\n",
       "      <td>Men AIR ZOOM PEGASUS 38 Run</td>\n",
       "    </tr>\n",
       "    <tr>\n",
       "      <th>97</th>\n",
       "      <td>Geox</td>\n",
       "      <td>Women Leather Loafers</td>\n",
       "      <td>Women Leather Loafers</td>\n",
       "    </tr>\n",
       "    <tr>\n",
       "      <th>98</th>\n",
       "      <td>Kenneth Cole</td>\n",
       "      <td>Men Solid Leather Sneakers</td>\n",
       "      <td>Men Solid Leather Sneakers</td>\n",
       "    </tr>\n",
       "    <tr>\n",
       "      <th>99</th>\n",
       "      <td>Geox</td>\n",
       "      <td>Women Solid Leather Pumps</td>\n",
       "      <td>Women Solid Leather Pumps</td>\n",
       "    </tr>\n",
       "  </tbody>\n",
       "</table>\n",
       "<p>100 rows × 3 columns</p>\n",
       "</div>"
      ],
      "text/plain": [
       "      brand_name                        prd_desc                      [price]\n",
       "0           Nike   Men ZOOM SPAN 3 Running Shoes    Rs. 5396Rs. 7195(25% OFF)\n",
       "1   UNDER ARMOUR    Men Charged Bandit 6 Running                     Rs. 8999\n",
       "2   UNDER ARMOUR  Men HOVR Sonic STRT Tech Shoes                     Rs. 9999\n",
       "3           Puma     Axelion Block Running Shoes                     Rs. 5999\n",
       "4   UNDER ARMOUR     Men Charged Vantage Running                     Rs. 7999\n",
       "..           ...                             ...                          ...\n",
       "95          Geox        Men Leather Formal Monks     Men Leather Formal Monks\n",
       "96          Nike     Men AIR ZOOM PEGASUS 38 Run  Men AIR ZOOM PEGASUS 38 Run\n",
       "97          Geox           Women Leather Loafers        Women Leather Loafers\n",
       "98  Kenneth Cole      Men Solid Leather Sneakers   Men Solid Leather Sneakers\n",
       "99          Geox       Women Solid Leather Pumps    Women Solid Leather Pumps\n",
       "\n",
       "[100 rows x 3 columns]"
      ]
     },
     "execution_count": 18,
     "metadata": {},
     "output_type": "execute_result"
    }
   ],
   "source": [
    "df9\n"
   ]
  },
  {
   "cell_type": "markdown",
   "metadata": {},
   "source": [
    "Q10: Go to webpage https://www.amazon.in/"
   ]
  },
  {
   "cell_type": "code",
   "execution_count": 20,
   "metadata": {},
   "outputs": [],
   "source": [
    "driver = webdriver.Chrome(r'C:\\Users\\UmarFarooque\\Downloads\\chromedriver_win32\\chromedriver.exe')\n",
    "\n",
    "url = \"https://www.amazon.in/\"\n",
    "\n",
    "driver.get(url)\n",
    "\n",
    "driver.maximize_window() # to maximise the chrome window\n",
    "\n",
    "#entering \"Data Analyst\" in job search bar using selenium driver\n",
    "search_laptop = driver.find_element_by_id('twotabsearchtextbox')\n",
    "search_laptop.send_keys(\"Laptop\")\n",
    "#clicking submit button using selenium deriver\n",
    "button_1 = driver.find_element_by_id('nav-search-submit-button')\n",
    "button_1.click()\n",
    "driver.implicitly_wait(3)\n",
    "driver.find_element_by_xpath(\"//*[@id='p_n_feature_thirteen_browse-bin/12598163031']/span/a/div/label/i\").click()\n",
    "driver.find_element_by_xpath(\"//*[@id='p_n_feature_thirteen_browse-bin/16757432031']/span/a/div/label/i\").click()"
   ]
  },
  {
   "cell_type": "code",
   "execution_count": 21,
   "metadata": {},
   "outputs": [],
   "source": [
    "laptop_title = []\n",
    "laptop_price = []\n",
    "\n",
    "\n",
    "\n",
    "title = driver.find_elements_by_xpath(\"//span[@class='a-size-medium a-color-base a-text-normal']\")\n",
    "    \n",
    "\n",
    "for i in title:\n",
    "    laptop_title.append(i.text)\n",
    "\n",
    "cost = driver.find_elements_by_class_name(\"a-price-whole\")\n",
    "    \n",
    "\n",
    "for i in cost:\n",
    "    laptop_price.append(i.text)"
   ]
  },
  {
   "cell_type": "code",
   "execution_count": 22,
   "metadata": {},
   "outputs": [],
   "source": [
    "Ratings = []\n",
    "\n",
    "#locating Ratings\n",
    "\n",
    "urls=driver.find_elements_by_xpath(\"//a[@class='a-link-normal a-text-normal']\")         #collecting urls of all the laptop\n",
    "\n",
    "UR=[]\n",
    "\n",
    "for i in urls:\n",
    "\n",
    "    UR.append(i.get_attribute('href'))#getting the url of first 10 laptops\n",
    "\n",
    "for url in UR:#loop for every laptop in the list\n",
    "\n",
    "    driver.get(url)\n",
    "\n",
    "    try:                  #exception handling for nosuchelementexception                                                    #click the rating link found\n",
    "\n",
    "        rating=driver.find_element_by_xpath(\"//span[@class='a-size-base a-nowrap']//span\")#locating the rating\n",
    "\n",
    "        Ratings.append(rating.text)#appending the ratings in Ratings list\n",
    "\n",
    "        \n",
    "\n",
    "    except:\n",
    "\n",
    "        Ratings.append(\"NO rating\")#appending the No rating if no rating is there"
   ]
  },
  {
   "cell_type": "code",
   "execution_count": 23,
   "metadata": {},
   "outputs": [],
   "source": [
    "\n",
    "# creating dataframe and assigning lists to columns\n",
    "df10 = pd.DataFrame({})\n",
    "df10['Laptop_Name'] = laptop_title[0:10]\n",
    "df10['Laptop_Price'] = laptop_price[0:10]\n",
    "df10['Ratings'] =  Ratings[0:10]"
   ]
  },
  {
   "cell_type": "code",
   "execution_count": 24,
   "metadata": {},
   "outputs": [
    {
     "data": {
      "text/html": [
       "<div>\n",
       "<style scoped>\n",
       "    .dataframe tbody tr th:only-of-type {\n",
       "        vertical-align: middle;\n",
       "    }\n",
       "\n",
       "    .dataframe tbody tr th {\n",
       "        vertical-align: top;\n",
       "    }\n",
       "\n",
       "    .dataframe thead th {\n",
       "        text-align: right;\n",
       "    }\n",
       "</style>\n",
       "<table border=\"1\" class=\"dataframe\">\n",
       "  <thead>\n",
       "    <tr style=\"text-align: right;\">\n",
       "      <th></th>\n",
       "      <th>Laptop_Name</th>\n",
       "      <th>Laptop_Price</th>\n",
       "      <th>Ratings</th>\n",
       "    </tr>\n",
       "  </thead>\n",
       "  <tbody>\n",
       "    <tr>\n",
       "      <th>0</th>\n",
       "      <td>HP Envy 11th Gen Core i7 Processor 13.3-inch (...</td>\n",
       "      <td>99,990</td>\n",
       "      <td>4 out of 5</td>\n",
       "    </tr>\n",
       "    <tr>\n",
       "      <th>1</th>\n",
       "      <td>Acer Swift 5 14\" (35.56cms) Full HD IPS Displa...</td>\n",
       "      <td>94,365</td>\n",
       "      <td>3.9 out of 5</td>\n",
       "    </tr>\n",
       "    <tr>\n",
       "      <th>2</th>\n",
       "      <td>MSI GF65 Thin, Intel i7-10750H, 15.6\" FHD (39....</td>\n",
       "      <td>81,990</td>\n",
       "      <td>3.8 out of 5</td>\n",
       "    </tr>\n",
       "    <tr>\n",
       "      <th>3</th>\n",
       "      <td>HP Pavilion (2021) Thin &amp; Light 11th Gen Core ...</td>\n",
       "      <td>84,990</td>\n",
       "      <td>4.3 out of 5</td>\n",
       "    </tr>\n",
       "    <tr>\n",
       "      <th>4</th>\n",
       "      <td>Life Digital Laptop 15.6-inch (39.62 cms) (Int...</td>\n",
       "      <td>26,990</td>\n",
       "      <td>3.9 out of 5</td>\n",
       "    </tr>\n",
       "    <tr>\n",
       "      <th>5</th>\n",
       "      <td>Mi Notebook Horizon Edition 14 Intel Core i7-1...</td>\n",
       "      <td>59,999</td>\n",
       "      <td>4.4 out of 5</td>\n",
       "    </tr>\n",
       "    <tr>\n",
       "      <th>6</th>\n",
       "      <td>Life Digital Laptop 15.6-inch (39.62 cms) (Int...</td>\n",
       "      <td>34,990</td>\n",
       "      <td>3.1 out of 5</td>\n",
       "    </tr>\n",
       "    <tr>\n",
       "      <th>7</th>\n",
       "      <td>HP 14 Thin &amp; Light 14\" (35.56cms) FHD Laptop (...</td>\n",
       "      <td>85,000</td>\n",
       "      <td>4.6 out of 5</td>\n",
       "    </tr>\n",
       "    <tr>\n",
       "      <th>8</th>\n",
       "      <td>Dell 14 (2021) i7-1165G7 2in1 Touch Screen Lap...</td>\n",
       "      <td>93,990</td>\n",
       "      <td>4.3 out of 5</td>\n",
       "    </tr>\n",
       "    <tr>\n",
       "      <th>9</th>\n",
       "      <td>ASUS TUF Gaming F15 (2020), 15.6-inch (39.62 c...</td>\n",
       "      <td>71,990</td>\n",
       "      <td>5 out of 5</td>\n",
       "    </tr>\n",
       "  </tbody>\n",
       "</table>\n",
       "</div>"
      ],
      "text/plain": [
       "                                         Laptop_Name Laptop_Price  \\\n",
       "0  HP Envy 11th Gen Core i7 Processor 13.3-inch (...       99,990   \n",
       "1  Acer Swift 5 14\" (35.56cms) Full HD IPS Displa...       94,365   \n",
       "2  MSI GF65 Thin, Intel i7-10750H, 15.6\" FHD (39....       81,990   \n",
       "3  HP Pavilion (2021) Thin & Light 11th Gen Core ...       84,990   \n",
       "4  Life Digital Laptop 15.6-inch (39.62 cms) (Int...       26,990   \n",
       "5  Mi Notebook Horizon Edition 14 Intel Core i7-1...       59,999   \n",
       "6  Life Digital Laptop 15.6-inch (39.62 cms) (Int...       34,990   \n",
       "7  HP 14 Thin & Light 14\" (35.56cms) FHD Laptop (...       85,000   \n",
       "8  Dell 14 (2021) i7-1165G7 2in1 Touch Screen Lap...       93,990   \n",
       "9  ASUS TUF Gaming F15 (2020), 15.6-inch (39.62 c...       71,990   \n",
       "\n",
       "        Ratings  \n",
       "0    4 out of 5  \n",
       "1  3.9 out of 5  \n",
       "2  3.8 out of 5  \n",
       "3  4.3 out of 5  \n",
       "4  3.9 out of 5  \n",
       "5  4.4 out of 5  \n",
       "6  3.1 out of 5  \n",
       "7  4.6 out of 5  \n",
       "8  4.3 out of 5  \n",
       "9    5 out of 5  "
      ]
     },
     "execution_count": 24,
     "metadata": {},
     "output_type": "execute_result"
    }
   ],
   "source": [
    "df10\n"
   ]
  },
  {
   "cell_type": "code",
   "execution_count": null,
   "metadata": {},
   "outputs": [],
   "source": []
  }
 ],
 "metadata": {
  "kernelspec": {
   "display_name": "Python 3",
   "language": "python",
   "name": "python3"
  },
  "language_info": {
   "codemirror_mode": {
    "name": "ipython",
    "version": 3
   },
   "file_extension": ".py",
   "mimetype": "text/x-python",
   "name": "python",
   "nbconvert_exporter": "python",
   "pygments_lexer": "ipython3",
   "version": "3.8.5"
  }
 },
 "nbformat": 4,
 "nbformat_minor": 4
}
