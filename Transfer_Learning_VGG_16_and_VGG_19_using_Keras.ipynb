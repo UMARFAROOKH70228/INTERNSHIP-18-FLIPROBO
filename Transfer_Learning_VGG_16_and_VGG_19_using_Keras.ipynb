{
 "cells": [
  {
   "cell_type": "code",
   "execution_count": 1,
   "metadata": {
    "id": "F06JGi2RykAF"
   },
   "outputs": [],
   "source": [
    "from tensorflow.compat.v1 import ConfigProto\n",
    "from tensorflow.compat.v1 import InteractiveSession\n",
    "\n",
    "config = ConfigProto()\n",
    "config.gpu_options.per_process_gpu_memory_fraction = 0.5\n",
    "config.gpu_options.allow_growth = True\n",
    "session = InteractiveSession(config=config)"
   ]
  },
  {
   "cell_type": "code",
   "execution_count": 2,
   "metadata": {
    "id": "YaGNotS-ykDM"
   },
   "outputs": [],
   "source": [
    "# import the libraries as shown below\n",
    "\n",
    "from tensorflow.keras.layers import Input, Lambda, Dense, Flatten\n",
    "from tensorflow.keras.models import Model\n",
    "from tensorflow.keras.applications.resnet50 import ResNet50\n",
    "#from keras.applications.vgg16 import VGG16\n",
    "from tensorflow.keras.applications.resnet50 import preprocess_input\n",
    "from tensorflow.keras.preprocessing import image\n",
    "from tensorflow.keras.preprocessing.image import ImageDataGenerator,load_img\n",
    "from tensorflow.keras.models import Sequential\n",
    "import numpy as np\n",
    "from glob import glob\n",
    "#import matplotlib.pyplot as plt"
   ]
  },
  {
   "cell_type": "code",
   "execution_count": 3,
   "metadata": {
    "id": "rVCU-GAIBZ5N"
   },
   "outputs": [],
   "source": [
    "# re-size all the images to this\n",
    "IMAGE_SIZE = [224, 224]\n",
    "\n",
    "train_path = '/content/drive/MyDrive/Dataset/Fliprobo image classification/Images/Train'\n",
    "valid_path = '/content/drive/MyDrive/Dataset/Fliprobo image classification/Images/Test'"
   ]
  },
  {
   "cell_type": "code",
   "execution_count": 4,
   "metadata": {
    "colab": {
     "base_uri": "https://localhost:8080/"
    },
    "id": "WbQXgYuzBolW",
    "outputId": "73570c0e-719e-4d36-fa81-bdf801183aed"
   },
   "outputs": [
    {
     "name": "stdout",
     "output_type": "stream",
     "text": [
      "Downloading data from https://storage.googleapis.com/tensorflow/keras-applications/resnet/resnet50_weights_tf_dim_ordering_tf_kernels_notop.h5\n",
      "94773248/94765736 [==============================] - 1s 0us/step\n",
      "94781440/94765736 [==============================] - 1s 0us/step\n"
     ]
    }
   ],
   "source": [
    "# Import the Vgg 16 library as shown below and add preprocessing layer to the front of VGG\n",
    "# Here we will be using imagenet weights\n",
    "\n",
    "resnet = ResNet50(input_shape=IMAGE_SIZE + [3], weights='imagenet', include_top=False)"
   ]
  },
  {
   "cell_type": "code",
   "execution_count": 5,
   "metadata": {
    "id": "skm5SUJjBopK"
   },
   "outputs": [],
   "source": [
    "# don't train existing weights\n",
    "for layer in resnet.layers:\n",
    "    layer.trainable = False"
   ]
  },
  {
   "cell_type": "code",
   "execution_count": 6,
   "metadata": {
    "id": "WfPQRYcxBwkn"
   },
   "outputs": [],
   "source": [
    "  # useful for getting number of output classes\n",
    "folders = glob('/content/drive/MyDrive/Dataset/Fliprobo image classification/Images/Train/*')"
   ]
  },
  {
   "cell_type": "code",
   "execution_count": 7,
   "metadata": {
    "id": "GWZ-a1ZZBwoI"
   },
   "outputs": [],
   "source": [
    "# our layers - you can add more if you want\n",
    "x = Flatten()(resnet.output)"
   ]
  },
  {
   "cell_type": "code",
   "execution_count": 8,
   "metadata": {
    "id": "YP2IkiOQBwqb"
   },
   "outputs": [],
   "source": [
    "prediction = Dense(len(folders), activation='softmax')(x)\n",
    "\n",
    "# create a model object\n",
    "model = Model(inputs=resnet.input, outputs=prediction)"
   ]
  },
  {
   "cell_type": "code",
   "execution_count": 9,
   "metadata": {
    "colab": {
     "base_uri": "https://localhost:8080/"
    },
    "id": "Qkj7ymMnBwtr",
    "outputId": "4a2ad6db-abe6-42b4-d586-42ff74bf3ac7"
   },
   "outputs": [
    {
     "name": "stdout",
     "output_type": "stream",
     "text": [
      "Model: \"model\"\n",
      "__________________________________________________________________________________________________\n",
      " Layer (type)                   Output Shape         Param #     Connected to                     \n",
      "==================================================================================================\n",
      " input_1 (InputLayer)           [(None, 224, 224, 3  0           []                               \n",
      "                                )]                                                                \n",
      "                                                                                                  \n",
      " conv1_pad (ZeroPadding2D)      (None, 230, 230, 3)  0           ['input_1[0][0]']                \n",
      "                                                                                                  \n",
      " conv1_conv (Conv2D)            (None, 112, 112, 64  9472        ['conv1_pad[0][0]']              \n",
      "                                )                                                                 \n",
      "                                                                                                  \n",
      " conv1_bn (BatchNormalization)  (None, 112, 112, 64  256         ['conv1_conv[0][0]']             \n",
      "                                )                                                                 \n",
      "                                                                                                  \n",
      " conv1_relu (Activation)        (None, 112, 112, 64  0           ['conv1_bn[0][0]']               \n",
      "                                )                                                                 \n",
      "                                                                                                  \n",
      " pool1_pad (ZeroPadding2D)      (None, 114, 114, 64  0           ['conv1_relu[0][0]']             \n",
      "                                )                                                                 \n",
      "                                                                                                  \n",
      " pool1_pool (MaxPooling2D)      (None, 56, 56, 64)   0           ['pool1_pad[0][0]']              \n",
      "                                                                                                  \n",
      " conv2_block1_1_conv (Conv2D)   (None, 56, 56, 64)   4160        ['pool1_pool[0][0]']             \n",
      "                                                                                                  \n",
      " conv2_block1_1_bn (BatchNormal  (None, 56, 56, 64)  256         ['conv2_block1_1_conv[0][0]']    \n",
      " ization)                                                                                         \n",
      "                                                                                                  \n",
      " conv2_block1_1_relu (Activatio  (None, 56, 56, 64)  0           ['conv2_block1_1_bn[0][0]']      \n",
      " n)                                                                                               \n",
      "                                                                                                  \n",
      " conv2_block1_2_conv (Conv2D)   (None, 56, 56, 64)   36928       ['conv2_block1_1_relu[0][0]']    \n",
      "                                                                                                  \n",
      " conv2_block1_2_bn (BatchNormal  (None, 56, 56, 64)  256         ['conv2_block1_2_conv[0][0]']    \n",
      " ization)                                                                                         \n",
      "                                                                                                  \n",
      " conv2_block1_2_relu (Activatio  (None, 56, 56, 64)  0           ['conv2_block1_2_bn[0][0]']      \n",
      " n)                                                                                               \n",
      "                                                                                                  \n",
      " conv2_block1_0_conv (Conv2D)   (None, 56, 56, 256)  16640       ['pool1_pool[0][0]']             \n",
      "                                                                                                  \n",
      " conv2_block1_3_conv (Conv2D)   (None, 56, 56, 256)  16640       ['conv2_block1_2_relu[0][0]']    \n",
      "                                                                                                  \n",
      " conv2_block1_0_bn (BatchNormal  (None, 56, 56, 256)  1024       ['conv2_block1_0_conv[0][0]']    \n",
      " ization)                                                                                         \n",
      "                                                                                                  \n",
      " conv2_block1_3_bn (BatchNormal  (None, 56, 56, 256)  1024       ['conv2_block1_3_conv[0][0]']    \n",
      " ization)                                                                                         \n",
      "                                                                                                  \n",
      " conv2_block1_add (Add)         (None, 56, 56, 256)  0           ['conv2_block1_0_bn[0][0]',      \n",
      "                                                                  'conv2_block1_3_bn[0][0]']      \n",
      "                                                                                                  \n",
      " conv2_block1_out (Activation)  (None, 56, 56, 256)  0           ['conv2_block1_add[0][0]']       \n",
      "                                                                                                  \n",
      " conv2_block2_1_conv (Conv2D)   (None, 56, 56, 64)   16448       ['conv2_block1_out[0][0]']       \n",
      "                                                                                                  \n",
      " conv2_block2_1_bn (BatchNormal  (None, 56, 56, 64)  256         ['conv2_block2_1_conv[0][0]']    \n",
      " ization)                                                                                         \n",
      "                                                                                                  \n",
      " conv2_block2_1_relu (Activatio  (None, 56, 56, 64)  0           ['conv2_block2_1_bn[0][0]']      \n",
      " n)                                                                                               \n",
      "                                                                                                  \n",
      " conv2_block2_2_conv (Conv2D)   (None, 56, 56, 64)   36928       ['conv2_block2_1_relu[0][0]']    \n",
      "                                                                                                  \n",
      " conv2_block2_2_bn (BatchNormal  (None, 56, 56, 64)  256         ['conv2_block2_2_conv[0][0]']    \n",
      " ization)                                                                                         \n",
      "                                                                                                  \n",
      " conv2_block2_2_relu (Activatio  (None, 56, 56, 64)  0           ['conv2_block2_2_bn[0][0]']      \n",
      " n)                                                                                               \n",
      "                                                                                                  \n",
      " conv2_block2_3_conv (Conv2D)   (None, 56, 56, 256)  16640       ['conv2_block2_2_relu[0][0]']    \n",
      "                                                                                                  \n",
      " conv2_block2_3_bn (BatchNormal  (None, 56, 56, 256)  1024       ['conv2_block2_3_conv[0][0]']    \n",
      " ization)                                                                                         \n",
      "                                                                                                  \n",
      " conv2_block2_add (Add)         (None, 56, 56, 256)  0           ['conv2_block1_out[0][0]',       \n",
      "                                                                  'conv2_block2_3_bn[0][0]']      \n",
      "                                                                                                  \n",
      " conv2_block2_out (Activation)  (None, 56, 56, 256)  0           ['conv2_block2_add[0][0]']       \n",
      "                                                                                                  \n",
      " conv2_block3_1_conv (Conv2D)   (None, 56, 56, 64)   16448       ['conv2_block2_out[0][0]']       \n",
      "                                                                                                  \n",
      " conv2_block3_1_bn (BatchNormal  (None, 56, 56, 64)  256         ['conv2_block3_1_conv[0][0]']    \n",
      " ization)                                                                                         \n",
      "                                                                                                  \n",
      " conv2_block3_1_relu (Activatio  (None, 56, 56, 64)  0           ['conv2_block3_1_bn[0][0]']      \n",
      " n)                                                                                               \n",
      "                                                                                                  \n",
      " conv2_block3_2_conv (Conv2D)   (None, 56, 56, 64)   36928       ['conv2_block3_1_relu[0][0]']    \n",
      "                                                                                                  \n",
      " conv2_block3_2_bn (BatchNormal  (None, 56, 56, 64)  256         ['conv2_block3_2_conv[0][0]']    \n",
      " ization)                                                                                         \n",
      "                                                                                                  \n",
      " conv2_block3_2_relu (Activatio  (None, 56, 56, 64)  0           ['conv2_block3_2_bn[0][0]']      \n",
      " n)                                                                                               \n",
      "                                                                                                  \n",
      " conv2_block3_3_conv (Conv2D)   (None, 56, 56, 256)  16640       ['conv2_block3_2_relu[0][0]']    \n",
      "                                                                                                  \n",
      " conv2_block3_3_bn (BatchNormal  (None, 56, 56, 256)  1024       ['conv2_block3_3_conv[0][0]']    \n",
      " ization)                                                                                         \n",
      "                                                                                                  \n",
      " conv2_block3_add (Add)         (None, 56, 56, 256)  0           ['conv2_block2_out[0][0]',       \n",
      "                                                                  'conv2_block3_3_bn[0][0]']      \n",
      "                                                                                                  \n",
      " conv2_block3_out (Activation)  (None, 56, 56, 256)  0           ['conv2_block3_add[0][0]']       \n",
      "                                                                                                  \n",
      " conv3_block1_1_conv (Conv2D)   (None, 28, 28, 128)  32896       ['conv2_block3_out[0][0]']       \n",
      "                                                                                                  \n",
      " conv3_block1_1_bn (BatchNormal  (None, 28, 28, 128)  512        ['conv3_block1_1_conv[0][0]']    \n",
      " ization)                                                                                         \n",
      "                                                                                                  \n",
      " conv3_block1_1_relu (Activatio  (None, 28, 28, 128)  0          ['conv3_block1_1_bn[0][0]']      \n",
      " n)                                                                                               \n",
      "                                                                                                  \n",
      " conv3_block1_2_conv (Conv2D)   (None, 28, 28, 128)  147584      ['conv3_block1_1_relu[0][0]']    \n",
      "                                                                                                  \n",
      " conv3_block1_2_bn (BatchNormal  (None, 28, 28, 128)  512        ['conv3_block1_2_conv[0][0]']    \n",
      " ization)                                                                                         \n",
      "                                                                                                  \n",
      " conv3_block1_2_relu (Activatio  (None, 28, 28, 128)  0          ['conv3_block1_2_bn[0][0]']      \n",
      " n)                                                                                               \n",
      "                                                                                                  \n",
      " conv3_block1_0_conv (Conv2D)   (None, 28, 28, 512)  131584      ['conv2_block3_out[0][0]']       \n",
      "                                                                                                  \n",
      " conv3_block1_3_conv (Conv2D)   (None, 28, 28, 512)  66048       ['conv3_block1_2_relu[0][0]']    \n",
      "                                                                                                  \n",
      " conv3_block1_0_bn (BatchNormal  (None, 28, 28, 512)  2048       ['conv3_block1_0_conv[0][0]']    \n",
      " ization)                                                                                         \n",
      "                                                                                                  \n",
      " conv3_block1_3_bn (BatchNormal  (None, 28, 28, 512)  2048       ['conv3_block1_3_conv[0][0]']    \n",
      " ization)                                                                                         \n",
      "                                                                                                  \n",
      " conv3_block1_add (Add)         (None, 28, 28, 512)  0           ['conv3_block1_0_bn[0][0]',      \n",
      "                                                                  'conv3_block1_3_bn[0][0]']      \n",
      "                                                                                                  \n",
      " conv3_block1_out (Activation)  (None, 28, 28, 512)  0           ['conv3_block1_add[0][0]']       \n",
      "                                                                                                  \n",
      " conv3_block2_1_conv (Conv2D)   (None, 28, 28, 128)  65664       ['conv3_block1_out[0][0]']       \n",
      "                                                                                                  \n",
      " conv3_block2_1_bn (BatchNormal  (None, 28, 28, 128)  512        ['conv3_block2_1_conv[0][0]']    \n",
      " ization)                                                                                         \n",
      "                                                                                                  \n",
      " conv3_block2_1_relu (Activatio  (None, 28, 28, 128)  0          ['conv3_block2_1_bn[0][0]']      \n",
      " n)                                                                                               \n",
      "                                                                                                  \n",
      " conv3_block2_2_conv (Conv2D)   (None, 28, 28, 128)  147584      ['conv3_block2_1_relu[0][0]']    \n",
      "                                                                                                  \n",
      " conv3_block2_2_bn (BatchNormal  (None, 28, 28, 128)  512        ['conv3_block2_2_conv[0][0]']    \n",
      " ization)                                                                                         \n",
      "                                                                                                  \n",
      " conv3_block2_2_relu (Activatio  (None, 28, 28, 128)  0          ['conv3_block2_2_bn[0][0]']      \n",
      " n)                                                                                               \n",
      "                                                                                                  \n",
      " conv3_block2_3_conv (Conv2D)   (None, 28, 28, 512)  66048       ['conv3_block2_2_relu[0][0]']    \n",
      "                                                                                                  \n",
      " conv3_block2_3_bn (BatchNormal  (None, 28, 28, 512)  2048       ['conv3_block2_3_conv[0][0]']    \n",
      " ization)                                                                                         \n",
      "                                                                                                  \n",
      " conv3_block2_add (Add)         (None, 28, 28, 512)  0           ['conv3_block1_out[0][0]',       \n",
      "                                                                  'conv3_block2_3_bn[0][0]']      \n",
      "                                                                                                  \n",
      " conv3_block2_out (Activation)  (None, 28, 28, 512)  0           ['conv3_block2_add[0][0]']       \n",
      "                                                                                                  \n",
      " conv3_block3_1_conv (Conv2D)   (None, 28, 28, 128)  65664       ['conv3_block2_out[0][0]']       \n",
      "                                                                                                  \n",
      " conv3_block3_1_bn (BatchNormal  (None, 28, 28, 128)  512        ['conv3_block3_1_conv[0][0]']    \n",
      " ization)                                                                                         \n",
      "                                                                                                  \n",
      " conv3_block3_1_relu (Activatio  (None, 28, 28, 128)  0          ['conv3_block3_1_bn[0][0]']      \n",
      " n)                                                                                               \n",
      "                                                                                                  \n",
      " conv3_block3_2_conv (Conv2D)   (None, 28, 28, 128)  147584      ['conv3_block3_1_relu[0][0]']    \n",
      "                                                                                                  \n",
      " conv3_block3_2_bn (BatchNormal  (None, 28, 28, 128)  512        ['conv3_block3_2_conv[0][0]']    \n",
      " ization)                                                                                         \n",
      "                                                                                                  \n",
      " conv3_block3_2_relu (Activatio  (None, 28, 28, 128)  0          ['conv3_block3_2_bn[0][0]']      \n",
      " n)                                                                                               \n",
      "                                                                                                  \n",
      " conv3_block3_3_conv (Conv2D)   (None, 28, 28, 512)  66048       ['conv3_block3_2_relu[0][0]']    \n",
      "                                                                                                  \n",
      " conv3_block3_3_bn (BatchNormal  (None, 28, 28, 512)  2048       ['conv3_block3_3_conv[0][0]']    \n",
      " ization)                                                                                         \n",
      "                                                                                                  \n",
      " conv3_block3_add (Add)         (None, 28, 28, 512)  0           ['conv3_block2_out[0][0]',       \n",
      "                                                                  'conv3_block3_3_bn[0][0]']      \n",
      "                                                                                                  \n",
      " conv3_block3_out (Activation)  (None, 28, 28, 512)  0           ['conv3_block3_add[0][0]']       \n",
      "                                                                                                  \n",
      " conv3_block4_1_conv (Conv2D)   (None, 28, 28, 128)  65664       ['conv3_block3_out[0][0]']       \n",
      "                                                                                                  \n",
      " conv3_block4_1_bn (BatchNormal  (None, 28, 28, 128)  512        ['conv3_block4_1_conv[0][0]']    \n",
      " ization)                                                                                         \n",
      "                                                                                                  \n",
      " conv3_block4_1_relu (Activatio  (None, 28, 28, 128)  0          ['conv3_block4_1_bn[0][0]']      \n",
      " n)                                                                                               \n",
      "                                                                                                  \n",
      " conv3_block4_2_conv (Conv2D)   (None, 28, 28, 128)  147584      ['conv3_block4_1_relu[0][0]']    \n",
      "                                                                                                  \n",
      " conv3_block4_2_bn (BatchNormal  (None, 28, 28, 128)  512        ['conv3_block4_2_conv[0][0]']    \n",
      " ization)                                                                                         \n",
      "                                                                                                  \n",
      " conv3_block4_2_relu (Activatio  (None, 28, 28, 128)  0          ['conv3_block4_2_bn[0][0]']      \n",
      " n)                                                                                               \n",
      "                                                                                                  \n",
      " conv3_block4_3_conv (Conv2D)   (None, 28, 28, 512)  66048       ['conv3_block4_2_relu[0][0]']    \n",
      "                                                                                                  \n",
      " conv3_block4_3_bn (BatchNormal  (None, 28, 28, 512)  2048       ['conv3_block4_3_conv[0][0]']    \n",
      " ization)                                                                                         \n",
      "                                                                                                  \n",
      " conv3_block4_add (Add)         (None, 28, 28, 512)  0           ['conv3_block3_out[0][0]',       \n",
      "                                                                  'conv3_block4_3_bn[0][0]']      \n",
      "                                                                                                  \n",
      " conv3_block4_out (Activation)  (None, 28, 28, 512)  0           ['conv3_block4_add[0][0]']       \n",
      "                                                                                                  \n",
      " conv4_block1_1_conv (Conv2D)   (None, 14, 14, 256)  131328      ['conv3_block4_out[0][0]']       \n",
      "                                                                                                  \n",
      " conv4_block1_1_bn (BatchNormal  (None, 14, 14, 256)  1024       ['conv4_block1_1_conv[0][0]']    \n",
      " ization)                                                                                         \n",
      "                                                                                                  \n",
      " conv4_block1_1_relu (Activatio  (None, 14, 14, 256)  0          ['conv4_block1_1_bn[0][0]']      \n",
      " n)                                                                                               \n",
      "                                                                                                  \n",
      " conv4_block1_2_conv (Conv2D)   (None, 14, 14, 256)  590080      ['conv4_block1_1_relu[0][0]']    \n",
      "                                                                                                  \n",
      " conv4_block1_2_bn (BatchNormal  (None, 14, 14, 256)  1024       ['conv4_block1_2_conv[0][0]']    \n",
      " ization)                                                                                         \n",
      "                                                                                                  \n",
      " conv4_block1_2_relu (Activatio  (None, 14, 14, 256)  0          ['conv4_block1_2_bn[0][0]']      \n",
      " n)                                                                                               \n",
      "                                                                                                  \n",
      " conv4_block1_0_conv (Conv2D)   (None, 14, 14, 1024  525312      ['conv3_block4_out[0][0]']       \n",
      "                                )                                                                 \n",
      "                                                                                                  \n",
      " conv4_block1_3_conv (Conv2D)   (None, 14, 14, 1024  263168      ['conv4_block1_2_relu[0][0]']    \n",
      "                                )                                                                 \n",
      "                                                                                                  \n",
      " conv4_block1_0_bn (BatchNormal  (None, 14, 14, 1024  4096       ['conv4_block1_0_conv[0][0]']    \n",
      " ization)                       )                                                                 \n",
      "                                                                                                  \n",
      " conv4_block1_3_bn (BatchNormal  (None, 14, 14, 1024  4096       ['conv4_block1_3_conv[0][0]']    \n",
      " ization)                       )                                                                 \n",
      "                                                                                                  \n",
      " conv4_block1_add (Add)         (None, 14, 14, 1024  0           ['conv4_block1_0_bn[0][0]',      \n",
      "                                )                                 'conv4_block1_3_bn[0][0]']      \n",
      "                                                                                                  \n",
      " conv4_block1_out (Activation)  (None, 14, 14, 1024  0           ['conv4_block1_add[0][0]']       \n",
      "                                )                                                                 \n",
      "                                                                                                  \n",
      " conv4_block2_1_conv (Conv2D)   (None, 14, 14, 256)  262400      ['conv4_block1_out[0][0]']       \n",
      "                                                                                                  \n",
      " conv4_block2_1_bn (BatchNormal  (None, 14, 14, 256)  1024       ['conv4_block2_1_conv[0][0]']    \n",
      " ization)                                                                                         \n",
      "                                                                                                  \n",
      " conv4_block2_1_relu (Activatio  (None, 14, 14, 256)  0          ['conv4_block2_1_bn[0][0]']      \n",
      " n)                                                                                               \n",
      "                                                                                                  \n",
      " conv4_block2_2_conv (Conv2D)   (None, 14, 14, 256)  590080      ['conv4_block2_1_relu[0][0]']    \n",
      "                                                                                                  \n",
      " conv4_block2_2_bn (BatchNormal  (None, 14, 14, 256)  1024       ['conv4_block2_2_conv[0][0]']    \n",
      " ization)                                                                                         \n",
      "                                                                                                  \n",
      " conv4_block2_2_relu (Activatio  (None, 14, 14, 256)  0          ['conv4_block2_2_bn[0][0]']      \n",
      " n)                                                                                               \n",
      "                                                                                                  \n",
      " conv4_block2_3_conv (Conv2D)   (None, 14, 14, 1024  263168      ['conv4_block2_2_relu[0][0]']    \n",
      "                                )                                                                 \n",
      "                                                                                                  \n",
      " conv4_block2_3_bn (BatchNormal  (None, 14, 14, 1024  4096       ['conv4_block2_3_conv[0][0]']    \n",
      " ization)                       )                                                                 \n",
      "                                                                                                  \n",
      " conv4_block2_add (Add)         (None, 14, 14, 1024  0           ['conv4_block1_out[0][0]',       \n",
      "                                )                                 'conv4_block2_3_bn[0][0]']      \n",
      "                                                                                                  \n",
      " conv4_block2_out (Activation)  (None, 14, 14, 1024  0           ['conv4_block2_add[0][0]']       \n",
      "                                )                                                                 \n",
      "                                                                                                  \n",
      " conv4_block3_1_conv (Conv2D)   (None, 14, 14, 256)  262400      ['conv4_block2_out[0][0]']       \n",
      "                                                                                                  \n",
      " conv4_block3_1_bn (BatchNormal  (None, 14, 14, 256)  1024       ['conv4_block3_1_conv[0][0]']    \n",
      " ization)                                                                                         \n",
      "                                                                                                  \n",
      " conv4_block3_1_relu (Activatio  (None, 14, 14, 256)  0          ['conv4_block3_1_bn[0][0]']      \n",
      " n)                                                                                               \n",
      "                                                                                                  \n",
      " conv4_block3_2_conv (Conv2D)   (None, 14, 14, 256)  590080      ['conv4_block3_1_relu[0][0]']    \n",
      "                                                                                                  \n",
      " conv4_block3_2_bn (BatchNormal  (None, 14, 14, 256)  1024       ['conv4_block3_2_conv[0][0]']    \n",
      " ization)                                                                                         \n",
      "                                                                                                  \n",
      " conv4_block3_2_relu (Activatio  (None, 14, 14, 256)  0          ['conv4_block3_2_bn[0][0]']      \n",
      " n)                                                                                               \n",
      "                                                                                                  \n",
      " conv4_block3_3_conv (Conv2D)   (None, 14, 14, 1024  263168      ['conv4_block3_2_relu[0][0]']    \n",
      "                                )                                                                 \n",
      "                                                                                                  \n",
      " conv4_block3_3_bn (BatchNormal  (None, 14, 14, 1024  4096       ['conv4_block3_3_conv[0][0]']    \n",
      " ization)                       )                                                                 \n",
      "                                                                                                  \n",
      " conv4_block3_add (Add)         (None, 14, 14, 1024  0           ['conv4_block2_out[0][0]',       \n",
      "                                )                                 'conv4_block3_3_bn[0][0]']      \n",
      "                                                                                                  \n",
      " conv4_block3_out (Activation)  (None, 14, 14, 1024  0           ['conv4_block3_add[0][0]']       \n",
      "                                )                                                                 \n",
      "                                                                                                  \n",
      " conv4_block4_1_conv (Conv2D)   (None, 14, 14, 256)  262400      ['conv4_block3_out[0][0]']       \n",
      "                                                                                                  \n",
      " conv4_block4_1_bn (BatchNormal  (None, 14, 14, 256)  1024       ['conv4_block4_1_conv[0][0]']    \n",
      " ization)                                                                                         \n",
      "                                                                                                  \n",
      " conv4_block4_1_relu (Activatio  (None, 14, 14, 256)  0          ['conv4_block4_1_bn[0][0]']      \n",
      " n)                                                                                               \n",
      "                                                                                                  \n",
      " conv4_block4_2_conv (Conv2D)   (None, 14, 14, 256)  590080      ['conv4_block4_1_relu[0][0]']    \n",
      "                                                                                                  \n",
      " conv4_block4_2_bn (BatchNormal  (None, 14, 14, 256)  1024       ['conv4_block4_2_conv[0][0]']    \n",
      " ization)                                                                                         \n",
      "                                                                                                  \n",
      " conv4_block4_2_relu (Activatio  (None, 14, 14, 256)  0          ['conv4_block4_2_bn[0][0]']      \n",
      " n)                                                                                               \n",
      "                                                                                                  \n",
      " conv4_block4_3_conv (Conv2D)   (None, 14, 14, 1024  263168      ['conv4_block4_2_relu[0][0]']    \n",
      "                                )                                                                 \n",
      "                                                                                                  \n",
      " conv4_block4_3_bn (BatchNormal  (None, 14, 14, 1024  4096       ['conv4_block4_3_conv[0][0]']    \n",
      " ization)                       )                                                                 \n",
      "                                                                                                  \n",
      " conv4_block4_add (Add)         (None, 14, 14, 1024  0           ['conv4_block3_out[0][0]',       \n",
      "                                )                                 'conv4_block4_3_bn[0][0]']      \n",
      "                                                                                                  \n",
      " conv4_block4_out (Activation)  (None, 14, 14, 1024  0           ['conv4_block4_add[0][0]']       \n",
      "                                )                                                                 \n",
      "                                                                                                  \n",
      " conv4_block5_1_conv (Conv2D)   (None, 14, 14, 256)  262400      ['conv4_block4_out[0][0]']       \n",
      "                                                                                                  \n",
      " conv4_block5_1_bn (BatchNormal  (None, 14, 14, 256)  1024       ['conv4_block5_1_conv[0][0]']    \n",
      " ization)                                                                                         \n",
      "                                                                                                  \n",
      " conv4_block5_1_relu (Activatio  (None, 14, 14, 256)  0          ['conv4_block5_1_bn[0][0]']      \n",
      " n)                                                                                               \n",
      "                                                                                                  \n",
      " conv4_block5_2_conv (Conv2D)   (None, 14, 14, 256)  590080      ['conv4_block5_1_relu[0][0]']    \n",
      "                                                                                                  \n",
      " conv4_block5_2_bn (BatchNormal  (None, 14, 14, 256)  1024       ['conv4_block5_2_conv[0][0]']    \n",
      " ization)                                                                                         \n",
      "                                                                                                  \n",
      " conv4_block5_2_relu (Activatio  (None, 14, 14, 256)  0          ['conv4_block5_2_bn[0][0]']      \n",
      " n)                                                                                               \n",
      "                                                                                                  \n",
      " conv4_block5_3_conv (Conv2D)   (None, 14, 14, 1024  263168      ['conv4_block5_2_relu[0][0]']    \n",
      "                                )                                                                 \n",
      "                                                                                                  \n",
      " conv4_block5_3_bn (BatchNormal  (None, 14, 14, 1024  4096       ['conv4_block5_3_conv[0][0]']    \n",
      " ization)                       )                                                                 \n",
      "                                                                                                  \n",
      " conv4_block5_add (Add)         (None, 14, 14, 1024  0           ['conv4_block4_out[0][0]',       \n",
      "                                )                                 'conv4_block5_3_bn[0][0]']      \n",
      "                                                                                                  \n",
      " conv4_block5_out (Activation)  (None, 14, 14, 1024  0           ['conv4_block5_add[0][0]']       \n",
      "                                )                                                                 \n",
      "                                                                                                  \n",
      " conv4_block6_1_conv (Conv2D)   (None, 14, 14, 256)  262400      ['conv4_block5_out[0][0]']       \n",
      "                                                                                                  \n",
      " conv4_block6_1_bn (BatchNormal  (None, 14, 14, 256)  1024       ['conv4_block6_1_conv[0][0]']    \n",
      " ization)                                                                                         \n",
      "                                                                                                  \n",
      " conv4_block6_1_relu (Activatio  (None, 14, 14, 256)  0          ['conv4_block6_1_bn[0][0]']      \n",
      " n)                                                                                               \n",
      "                                                                                                  \n",
      " conv4_block6_2_conv (Conv2D)   (None, 14, 14, 256)  590080      ['conv4_block6_1_relu[0][0]']    \n",
      "                                                                                                  \n",
      " conv4_block6_2_bn (BatchNormal  (None, 14, 14, 256)  1024       ['conv4_block6_2_conv[0][0]']    \n",
      " ization)                                                                                         \n",
      "                                                                                                  \n",
      " conv4_block6_2_relu (Activatio  (None, 14, 14, 256)  0          ['conv4_block6_2_bn[0][0]']      \n",
      " n)                                                                                               \n",
      "                                                                                                  \n",
      " conv4_block6_3_conv (Conv2D)   (None, 14, 14, 1024  263168      ['conv4_block6_2_relu[0][0]']    \n",
      "                                )                                                                 \n",
      "                                                                                                  \n",
      " conv4_block6_3_bn (BatchNormal  (None, 14, 14, 1024  4096       ['conv4_block6_3_conv[0][0]']    \n",
      " ization)                       )                                                                 \n",
      "                                                                                                  \n",
      " conv4_block6_add (Add)         (None, 14, 14, 1024  0           ['conv4_block5_out[0][0]',       \n",
      "                                )                                 'conv4_block6_3_bn[0][0]']      \n",
      "                                                                                                  \n",
      " conv4_block6_out (Activation)  (None, 14, 14, 1024  0           ['conv4_block6_add[0][0]']       \n",
      "                                )                                                                 \n",
      "                                                                                                  \n",
      " conv5_block1_1_conv (Conv2D)   (None, 7, 7, 512)    524800      ['conv4_block6_out[0][0]']       \n",
      "                                                                                                  \n",
      " conv5_block1_1_bn (BatchNormal  (None, 7, 7, 512)   2048        ['conv5_block1_1_conv[0][0]']    \n",
      " ization)                                                                                         \n",
      "                                                                                                  \n",
      " conv5_block1_1_relu (Activatio  (None, 7, 7, 512)   0           ['conv5_block1_1_bn[0][0]']      \n",
      " n)                                                                                               \n",
      "                                                                                                  \n",
      " conv5_block1_2_conv (Conv2D)   (None, 7, 7, 512)    2359808     ['conv5_block1_1_relu[0][0]']    \n",
      "                                                                                                  \n",
      " conv5_block1_2_bn (BatchNormal  (None, 7, 7, 512)   2048        ['conv5_block1_2_conv[0][0]']    \n",
      " ization)                                                                                         \n",
      "                                                                                                  \n",
      " conv5_block1_2_relu (Activatio  (None, 7, 7, 512)   0           ['conv5_block1_2_bn[0][0]']      \n",
      " n)                                                                                               \n",
      "                                                                                                  \n",
      " conv5_block1_0_conv (Conv2D)   (None, 7, 7, 2048)   2099200     ['conv4_block6_out[0][0]']       \n",
      "                                                                                                  \n",
      " conv5_block1_3_conv (Conv2D)   (None, 7, 7, 2048)   1050624     ['conv5_block1_2_relu[0][0]']    \n",
      "                                                                                                  \n",
      " conv5_block1_0_bn (BatchNormal  (None, 7, 7, 2048)  8192        ['conv5_block1_0_conv[0][0]']    \n",
      " ization)                                                                                         \n",
      "                                                                                                  \n",
      " conv5_block1_3_bn (BatchNormal  (None, 7, 7, 2048)  8192        ['conv5_block1_3_conv[0][0]']    \n",
      " ization)                                                                                         \n",
      "                                                                                                  \n",
      " conv5_block1_add (Add)         (None, 7, 7, 2048)   0           ['conv5_block1_0_bn[0][0]',      \n",
      "                                                                  'conv5_block1_3_bn[0][0]']      \n",
      "                                                                                                  \n",
      " conv5_block1_out (Activation)  (None, 7, 7, 2048)   0           ['conv5_block1_add[0][0]']       \n",
      "                                                                                                  \n",
      " conv5_block2_1_conv (Conv2D)   (None, 7, 7, 512)    1049088     ['conv5_block1_out[0][0]']       \n",
      "                                                                                                  \n",
      " conv5_block2_1_bn (BatchNormal  (None, 7, 7, 512)   2048        ['conv5_block2_1_conv[0][0]']    \n",
      " ization)                                                                                         \n",
      "                                                                                                  \n",
      " conv5_block2_1_relu (Activatio  (None, 7, 7, 512)   0           ['conv5_block2_1_bn[0][0]']      \n",
      " n)                                                                                               \n",
      "                                                                                                  \n",
      " conv5_block2_2_conv (Conv2D)   (None, 7, 7, 512)    2359808     ['conv5_block2_1_relu[0][0]']    \n",
      "                                                                                                  \n",
      " conv5_block2_2_bn (BatchNormal  (None, 7, 7, 512)   2048        ['conv5_block2_2_conv[0][0]']    \n",
      " ization)                                                                                         \n",
      "                                                                                                  \n",
      " conv5_block2_2_relu (Activatio  (None, 7, 7, 512)   0           ['conv5_block2_2_bn[0][0]']      \n",
      " n)                                                                                               \n",
      "                                                                                                  \n",
      " conv5_block2_3_conv (Conv2D)   (None, 7, 7, 2048)   1050624     ['conv5_block2_2_relu[0][0]']    \n",
      "                                                                                                  \n",
      " conv5_block2_3_bn (BatchNormal  (None, 7, 7, 2048)  8192        ['conv5_block2_3_conv[0][0]']    \n",
      " ization)                                                                                         \n",
      "                                                                                                  \n",
      " conv5_block2_add (Add)         (None, 7, 7, 2048)   0           ['conv5_block1_out[0][0]',       \n",
      "                                                                  'conv5_block2_3_bn[0][0]']      \n",
      "                                                                                                  \n",
      " conv5_block2_out (Activation)  (None, 7, 7, 2048)   0           ['conv5_block2_add[0][0]']       \n",
      "                                                                                                  \n",
      " conv5_block3_1_conv (Conv2D)   (None, 7, 7, 512)    1049088     ['conv5_block2_out[0][0]']       \n",
      "                                                                                                  \n",
      " conv5_block3_1_bn (BatchNormal  (None, 7, 7, 512)   2048        ['conv5_block3_1_conv[0][0]']    \n",
      " ization)                                                                                         \n",
      "                                                                                                  \n",
      " conv5_block3_1_relu (Activatio  (None, 7, 7, 512)   0           ['conv5_block3_1_bn[0][0]']      \n",
      " n)                                                                                               \n",
      "                                                                                                  \n",
      " conv5_block3_2_conv (Conv2D)   (None, 7, 7, 512)    2359808     ['conv5_block3_1_relu[0][0]']    \n",
      "                                                                                                  \n",
      " conv5_block3_2_bn (BatchNormal  (None, 7, 7, 512)   2048        ['conv5_block3_2_conv[0][0]']    \n",
      " ization)                                                                                         \n",
      "                                                                                                  \n",
      " conv5_block3_2_relu (Activatio  (None, 7, 7, 512)   0           ['conv5_block3_2_bn[0][0]']      \n",
      " n)                                                                                               \n",
      "                                                                                                  \n",
      " conv5_block3_3_conv (Conv2D)   (None, 7, 7, 2048)   1050624     ['conv5_block3_2_relu[0][0]']    \n",
      "                                                                                                  \n",
      " conv5_block3_3_bn (BatchNormal  (None, 7, 7, 2048)  8192        ['conv5_block3_3_conv[0][0]']    \n",
      " ization)                                                                                         \n",
      "                                                                                                  \n",
      " conv5_block3_add (Add)         (None, 7, 7, 2048)   0           ['conv5_block2_out[0][0]',       \n",
      "                                                                  'conv5_block3_3_bn[0][0]']      \n",
      "                                                                                                  \n",
      " conv5_block3_out (Activation)  (None, 7, 7, 2048)   0           ['conv5_block3_add[0][0]']       \n",
      "                                                                                                  \n",
      " flatten (Flatten)              (None, 100352)       0           ['conv5_block3_out[0][0]']       \n",
      "                                                                                                  \n",
      " dense (Dense)                  (None, 3)            301059      ['flatten[0][0]']                \n",
      "                                                                                                  \n",
      "==================================================================================================\n",
      "Total params: 23,888,771\n",
      "Trainable params: 301,059\n",
      "Non-trainable params: 23,587,712\n",
      "__________________________________________________________________________________________________\n"
     ]
    }
   ],
   "source": [
    "# view the structure of the model\n",
    "model.summary()"
   ]
  },
  {
   "cell_type": "code",
   "execution_count": 10,
   "metadata": {
    "id": "B_vJQ3-tCDTd"
   },
   "outputs": [],
   "source": [
    "# tell the model what cost and optimization method to use\n",
    "model.compile(\n",
    "  loss='categorical_crossentropy',\n",
    "  optimizer='adam',\n",
    "  metrics=['accuracy']\n",
    ")"
   ]
  },
  {
   "cell_type": "code",
   "execution_count": 11,
   "metadata": {
    "id": "hNZP_Xv-CDWA"
   },
   "outputs": [],
   "source": [
    "# Use the Image Data Generator to import the images from the dataset\n",
    "from tensorflow.keras.preprocessing.image import ImageDataGenerator\n",
    "\n",
    "train_datagen = ImageDataGenerator(rescale = 1./255,\n",
    "                                   shear_range = 0.2,\n",
    "                                   zoom_range = 0.2,\n",
    "                                   horizontal_flip = True)\n",
    "\n",
    "test_datagen = ImageDataGenerator(rescale = 1./255)"
   ]
  },
  {
   "cell_type": "code",
   "execution_count": 12,
   "metadata": {
    "colab": {
     "base_uri": "https://localhost:8080/"
    },
    "id": "XBpHwCuqCDZU",
    "outputId": "6025c660-4f6a-4599-9dd6-5e920f13db44"
   },
   "outputs": [
    {
     "name": "stdout",
     "output_type": "stream",
     "text": [
      "Found 924 images belonging to 3 classes.\n"
     ]
    }
   ],
   "source": [
    "# Make sure you provide the same target size as initialied for the image size\n",
    "training_set = train_datagen.flow_from_directory('/content/drive/MyDrive/Dataset/Fliprobo image classification/Images/Train',\n",
    "                                                 target_size = (224, 224),\n",
    "                                                 batch_size = 32,\n",
    "                                                 class_mode = 'categorical')"
   ]
  },
  {
   "cell_type": "code",
   "execution_count": 13,
   "metadata": {
    "colab": {
     "base_uri": "https://localhost:8080/"
    },
    "id": "RoszK3MHCaT1",
    "outputId": "1d42e490-8748-4969-ffa4-941704d580dd"
   },
   "outputs": [
    {
     "name": "stdout",
     "output_type": "stream",
     "text": [
      "Found 276 images belonging to 3 classes.\n"
     ]
    }
   ],
   "source": [
    "test_set = test_datagen.flow_from_directory('/content/drive/MyDrive/Dataset/Fliprobo image classification/Images/Test',\n",
    "                                            target_size = (224, 224),\n",
    "                                            batch_size = 32,\n",
    "                                            class_mode = 'categorical')"
   ]
  },
  {
   "cell_type": "code",
   "execution_count": 14,
   "metadata": {
    "colab": {
     "base_uri": "https://localhost:8080/"
    },
    "id": "VBBWq2PqCaWN",
    "outputId": "c9d23125-7aed-4d82-9655-63ab4efc04a1"
   },
   "outputs": [
    {
     "name": "stderr",
     "output_type": "stream",
     "text": [
      "/usr/local/lib/python3.7/dist-packages/ipykernel_launcher.py:8: UserWarning: `Model.fit_generator` is deprecated and will be removed in a future version. Please use `Model.fit`, which supports generators.\n",
      "  \n"
     ]
    },
    {
     "name": "stdout",
     "output_type": "stream",
     "text": [
      "Epoch 1/50\n",
      "29/29 [==============================] - 593s 20s/step - loss: 2.4652 - accuracy: 0.5530 - val_loss: 0.4744 - val_accuracy: 0.8188\n",
      "Epoch 2/50\n",
      "29/29 [==============================] - 17s 570ms/step - loss: 0.4157 - accuracy: 0.8604 - val_loss: 0.6180 - val_accuracy: 0.7645\n",
      "Epoch 3/50\n",
      "29/29 [==============================] - 17s 570ms/step - loss: 0.2832 - accuracy: 0.8853 - val_loss: 0.2393 - val_accuracy: 0.8949\n",
      "Epoch 4/50\n",
      "29/29 [==============================] - 17s 570ms/step - loss: 0.2305 - accuracy: 0.9145 - val_loss: 0.3327 - val_accuracy: 0.8442\n",
      "Epoch 5/50\n",
      "29/29 [==============================] - 17s 570ms/step - loss: 0.2200 - accuracy: 0.9134 - val_loss: 0.3542 - val_accuracy: 0.8587\n",
      "Epoch 6/50\n",
      "29/29 [==============================] - 16s 565ms/step - loss: 0.1679 - accuracy: 0.9340 - val_loss: 0.2376 - val_accuracy: 0.9130\n",
      "Epoch 7/50\n",
      "29/29 [==============================] - 17s 568ms/step - loss: 0.2014 - accuracy: 0.9242 - val_loss: 0.4144 - val_accuracy: 0.8406\n",
      "Epoch 8/50\n",
      "29/29 [==============================] - 17s 570ms/step - loss: 0.1835 - accuracy: 0.9264 - val_loss: 0.2478 - val_accuracy: 0.9022\n",
      "Epoch 9/50\n",
      "29/29 [==============================] - 17s 574ms/step - loss: 0.1459 - accuracy: 0.9502 - val_loss: 0.2868 - val_accuracy: 0.9022\n",
      "Epoch 10/50\n",
      "29/29 [==============================] - 17s 568ms/step - loss: 0.2575 - accuracy: 0.9048 - val_loss: 0.2514 - val_accuracy: 0.9058\n",
      "Epoch 11/50\n",
      "29/29 [==============================] - 17s 567ms/step - loss: 0.1699 - accuracy: 0.9383 - val_loss: 0.2370 - val_accuracy: 0.9239\n",
      "Epoch 12/50\n",
      "29/29 [==============================] - 17s 571ms/step - loss: 0.1943 - accuracy: 0.9275 - val_loss: 0.2338 - val_accuracy: 0.9167\n",
      "Epoch 13/50\n",
      "29/29 [==============================] - 17s 579ms/step - loss: 0.1681 - accuracy: 0.9416 - val_loss: 0.2798 - val_accuracy: 0.8913\n",
      "Epoch 14/50\n",
      "29/29 [==============================] - 17s 577ms/step - loss: 0.1189 - accuracy: 0.9556 - val_loss: 0.2510 - val_accuracy: 0.8986\n",
      "Epoch 15/50\n",
      "29/29 [==============================] - 17s 573ms/step - loss: 0.1012 - accuracy: 0.9610 - val_loss: 0.2254 - val_accuracy: 0.9239\n",
      "Epoch 16/50\n",
      "29/29 [==============================] - 17s 570ms/step - loss: 0.0969 - accuracy: 0.9729 - val_loss: 0.3379 - val_accuracy: 0.8913\n",
      "Epoch 17/50\n",
      "29/29 [==============================] - 17s 575ms/step - loss: 0.1546 - accuracy: 0.9448 - val_loss: 0.2745 - val_accuracy: 0.9130\n",
      "Epoch 18/50\n",
      "29/29 [==============================] - 17s 572ms/step - loss: 0.1351 - accuracy: 0.9578 - val_loss: 0.2280 - val_accuracy: 0.9275\n",
      "Epoch 19/50\n",
      "29/29 [==============================] - 17s 575ms/step - loss: 0.1119 - accuracy: 0.9545 - val_loss: 0.4998 - val_accuracy: 0.8514\n",
      "Epoch 20/50\n",
      "29/29 [==============================] - 17s 566ms/step - loss: 0.1459 - accuracy: 0.9383 - val_loss: 0.2267 - val_accuracy: 0.9167\n",
      "Epoch 21/50\n",
      "29/29 [==============================] - 16s 565ms/step - loss: 0.1355 - accuracy: 0.9459 - val_loss: 0.3527 - val_accuracy: 0.8804\n",
      "Epoch 22/50\n",
      "29/29 [==============================] - 16s 562ms/step - loss: 0.1776 - accuracy: 0.9426 - val_loss: 0.5326 - val_accuracy: 0.8587\n",
      "Epoch 23/50\n",
      "29/29 [==============================] - 17s 567ms/step - loss: 0.1272 - accuracy: 0.9556 - val_loss: 0.2321 - val_accuracy: 0.9167\n",
      "Epoch 24/50\n",
      "29/29 [==============================] - 17s 566ms/step - loss: 0.0681 - accuracy: 0.9784 - val_loss: 0.2618 - val_accuracy: 0.9058\n",
      "Epoch 25/50\n",
      "29/29 [==============================] - 17s 566ms/step - loss: 0.0707 - accuracy: 0.9729 - val_loss: 0.2236 - val_accuracy: 0.9203\n",
      "Epoch 26/50\n",
      "29/29 [==============================] - 17s 569ms/step - loss: 0.0805 - accuracy: 0.9665 - val_loss: 0.2165 - val_accuracy: 0.9239\n",
      "Epoch 27/50\n",
      "29/29 [==============================] - 16s 564ms/step - loss: 0.2022 - accuracy: 0.9297 - val_loss: 0.2896 - val_accuracy: 0.9058\n",
      "Epoch 28/50\n",
      "29/29 [==============================] - 16s 561ms/step - loss: 0.1019 - accuracy: 0.9665 - val_loss: 0.2501 - val_accuracy: 0.9203\n",
      "Epoch 29/50\n",
      "29/29 [==============================] - 16s 564ms/step - loss: 0.1176 - accuracy: 0.9600 - val_loss: 0.4191 - val_accuracy: 0.8804\n",
      "Epoch 30/50\n",
      "29/29 [==============================] - 16s 564ms/step - loss: 0.1334 - accuracy: 0.9502 - val_loss: 0.5639 - val_accuracy: 0.8659\n",
      "Epoch 31/50\n",
      "29/29 [==============================] - 17s 567ms/step - loss: 0.1890 - accuracy: 0.9416 - val_loss: 0.2906 - val_accuracy: 0.9022\n",
      "Epoch 32/50\n",
      "29/29 [==============================] - 16s 566ms/step - loss: 0.1838 - accuracy: 0.9459 - val_loss: 0.2472 - val_accuracy: 0.9167\n",
      "Epoch 33/50\n",
      "29/29 [==============================] - 16s 564ms/step - loss: 0.0662 - accuracy: 0.9762 - val_loss: 0.6574 - val_accuracy: 0.8514\n",
      "Epoch 34/50\n",
      "29/29 [==============================] - 17s 568ms/step - loss: 0.1179 - accuracy: 0.9643 - val_loss: 0.3477 - val_accuracy: 0.8877\n",
      "Epoch 35/50\n",
      "29/29 [==============================] - 17s 568ms/step - loss: 0.0815 - accuracy: 0.9708 - val_loss: 0.2449 - val_accuracy: 0.9239\n",
      "Epoch 36/50\n",
      "29/29 [==============================] - 17s 569ms/step - loss: 0.0764 - accuracy: 0.9719 - val_loss: 0.5370 - val_accuracy: 0.8514\n",
      "Epoch 37/50\n",
      "29/29 [==============================] - 16s 563ms/step - loss: 0.0530 - accuracy: 0.9848 - val_loss: 0.2651 - val_accuracy: 0.9058\n",
      "Epoch 38/50\n",
      "29/29 [==============================] - 16s 563ms/step - loss: 0.0570 - accuracy: 0.9805 - val_loss: 0.2250 - val_accuracy: 0.9239\n",
      "Epoch 39/50\n",
      "29/29 [==============================] - 16s 566ms/step - loss: 0.0878 - accuracy: 0.9675 - val_loss: 0.2640 - val_accuracy: 0.9094\n",
      "Epoch 40/50\n",
      "29/29 [==============================] - 16s 562ms/step - loss: 0.1177 - accuracy: 0.9600 - val_loss: 1.2943 - val_accuracy: 0.7645\n",
      "Epoch 41/50\n",
      "29/29 [==============================] - 16s 563ms/step - loss: 0.1056 - accuracy: 0.9578 - val_loss: 0.3149 - val_accuracy: 0.9167\n",
      "Epoch 42/50\n",
      "29/29 [==============================] - 16s 563ms/step - loss: 0.0936 - accuracy: 0.9697 - val_loss: 0.2277 - val_accuracy: 0.9384\n",
      "Epoch 43/50\n",
      "29/29 [==============================] - 16s 565ms/step - loss: 0.0839 - accuracy: 0.9708 - val_loss: 0.2185 - val_accuracy: 0.9312\n",
      "Epoch 44/50\n",
      "29/29 [==============================] - 16s 563ms/step - loss: 0.0434 - accuracy: 0.9870 - val_loss: 0.2498 - val_accuracy: 0.9239\n",
      "Epoch 45/50\n",
      "29/29 [==============================] - 16s 562ms/step - loss: 0.1681 - accuracy: 0.9513 - val_loss: 0.6090 - val_accuracy: 0.8696\n",
      "Epoch 46/50\n",
      "29/29 [==============================] - 16s 562ms/step - loss: 0.1922 - accuracy: 0.9361 - val_loss: 0.2579 - val_accuracy: 0.9275\n",
      "Epoch 47/50\n",
      "29/29 [==============================] - 16s 563ms/step - loss: 0.0915 - accuracy: 0.9708 - val_loss: 0.9415 - val_accuracy: 0.8261\n",
      "Epoch 48/50\n",
      "29/29 [==============================] - 16s 562ms/step - loss: 0.1153 - accuracy: 0.9632 - val_loss: 0.4633 - val_accuracy: 0.8841\n",
      "Epoch 49/50\n",
      "29/29 [==============================] - 16s 560ms/step - loss: 0.0775 - accuracy: 0.9697 - val_loss: 0.2787 - val_accuracy: 0.9130\n",
      "Epoch 50/50\n",
      "29/29 [==============================] - 16s 562ms/step - loss: 0.0580 - accuracy: 0.9838 - val_loss: 0.4147 - val_accuracy: 0.8877\n"
     ]
    }
   ],
   "source": [
    "# fit the model\n",
    "# Run the cell. It will take some time to execute\n",
    "r = model.fit_generator(\n",
    "  training_set,\n",
    "  validation_data=test_set,\n",
    "  epochs=50,\n",
    "  steps_per_epoch=len(training_set),\n",
    "  validation_steps=len(test_set)\n",
    ")"
   ]
  },
  {
   "cell_type": "code",
   "execution_count": 15,
   "metadata": {
    "id": "xaMXWMCiHDbh"
   },
   "outputs": [],
   "source": [
    "import matplotlib.pyplot as plt\n"
   ]
  },
  {
   "cell_type": "code",
   "execution_count": 16,
   "metadata": {
    "colab": {
     "base_uri": "https://localhost:8080/",
     "height": 530
    },
    "id": "Be3qh97bCaZB",
    "outputId": "aa3b285e-df9a-4650-ca83-dfbcdd63c37e"
   },
   "outputs": [
    {
     "data": {
      "image/png": "[encoded data removed]",
      "text/plain": [
       "<Figure size 432x288 with 1 Axes>"
      ]
     },
     "metadata": {
      "needs_background": "light"
     },
     "output_type": "display_data"
    },
    {
     "data": {
      "image/png": "[encoded data removed]",
      "text/plain": [
       "<Figure size 432x288 with 1 Axes>"
      ]
     },
     "metadata": {
      "needs_background": "light"
     },
     "output_type": "display_data"
    },
    {
     "data": {
      "text/plain": [
       "<Figure size 432x288 with 0 Axes>"
      ]
     },
     "metadata": {},
     "output_type": "display_data"
    }
   ],
   "source": [
    "# plot the loss\n",
    "plt.plot(r.history['loss'], label='train loss')\n",
    "plt.plot(r.history['val_loss'], label='val loss')\n",
    "plt.legend()\n",
    "plt.show()\n",
    "plt.savefig('LossVal_loss')\n",
    "\n",
    "# plot the accuracy\n",
    "plt.plot(r.history['accuracy'], label='train acc')\n",
    "plt.plot(r.history['val_accuracy'], label='val acc')\n",
    "plt.legend()\n",
    "plt.show()\n",
    "plt.savefig('AccVal_acc')"
   ]
  },
  {
   "cell_type": "code",
   "execution_count": 17,
   "metadata": {
    "colab": {
     "base_uri": "https://localhost:8080/"
    },
    "id": "66J1cBaQE0TN",
    "outputId": "a17ffc48-205d-4403-fa4f-83a7f2a0ea6c"
   },
   "outputs": [
    {
     "name": "stderr",
     "output_type": "stream",
     "text": [
      "/usr/local/lib/python3.7/dist-packages/keras/engine/functional.py:1410: CustomMaskWarning: Custom mask layers require a config and must override get_config. When loading, the custom mask layer must be passed to the custom_objects argument.\n",
      "  layer_config = serialize_layer_fn(layer)\n"
     ]
    }
   ],
   "source": [
    "# save it as a h5 file\n",
    "\n",
    "\n",
    "from tensorflow.keras.models import load_model\n",
    "\n",
    "model.save('model_resnet50.h5')"
   ]
  },
  {
   "cell_type": "code",
   "execution_count": 18,
   "metadata": {
    "id": "Ul1wy8UaE0WQ"
   },
   "outputs": [],
   "source": [
    "y_pred = model.predict(test_set)"
   ]
  },
  {
   "cell_type": "code",
   "execution_count": 19,
   "metadata": {
    "colab": {
     "base_uri": "https://localhost:8080/"
    },
    "id": "SrR5raztE73k",
    "outputId": "aa3f5a2d-bba7-4d5e-8c30-4b330c432fdc"
   },
   "outputs": [
    {
     "data": {
      "text/plain": [
       "array([[7.73446227e-05, 2.85100075e-04, 9.99637485e-01],\n",
       "       [1.33269833e-13, 1.00000000e+00, 1.27243904e-09],\n",
       "       [1.28484908e-06, 9.99998689e-01, 5.09960785e-09],\n",
       "       [1.75331252e-06, 9.98313308e-01, 1.68494449e-03],\n",
       "       [1.00000000e+00, 1.73676958e-11, 2.06307089e-11],\n",
       "       [5.10786208e-07, 9.81878102e-01, 1.81213599e-02],\n",
       "       [3.69343134e-08, 4.28057774e-07, 9.99999523e-01],\n",
       "       [9.97748648e-05, 9.99889135e-01, 1.10643159e-05],\n",
       "       [1.18716606e-07, 9.99999881e-01, 1.70797668e-10],\n",
       "       [1.00000000e+00, 7.14619874e-09, 5.42109456e-12],\n",
       "       [3.22056359e-09, 4.17129797e-07, 9.99999523e-01],\n",
       "       [1.39721905e-14, 9.99793351e-01, 2.06674551e-04],\n",
       "       [1.93021682e-04, 3.07862094e-04, 9.99499083e-01],\n",
       "       [5.26830844e-14, 2.87682989e-10, 1.00000000e+00],\n",
       "       [2.21397590e-06, 9.99996066e-01, 1.69879365e-06],\n",
       "       [4.42484360e-09, 7.47124612e-01, 2.52875447e-01],\n",
       "       [4.09957712e-09, 2.45651961e-07, 9.99999762e-01],\n",
       "       [2.27561458e-07, 6.60838850e-05, 9.99933720e-01],\n",
       "       [5.48775779e-06, 9.99992847e-01, 1.68034376e-06],\n",
       "       [1.89454763e-09, 3.56166154e-08, 1.00000000e+00],\n",
       "       [1.72458570e-07, 9.99469817e-01, 5.30072022e-04],\n",
       "       [8.37876613e-08, 9.99312639e-01, 6.87235442e-04],\n",
       "       [4.17075571e-05, 2.49749675e-01, 7.50208616e-01],\n",
       "       [4.72120051e-11, 2.64210737e-11, 1.00000000e+00],\n",
       "       [5.91318217e-10, 1.00000000e+00, 4.24922710e-08],\n",
       "       [1.85580298e-04, 9.99718606e-01, 9.58624732e-05],\n",
       "       [7.82688517e-07, 9.98924434e-01, 1.07473228e-03],\n",
       "       [1.00000000e+00, 1.06213850e-10, 9.26178231e-12],\n",
       "       [1.10129386e-05, 9.24040735e-01, 7.59482160e-02],\n",
       "       [8.51007931e-10, 3.07037347e-08, 1.00000000e+00],\n",
       "       [4.80241402e-11, 1.85390309e-06, 9.99998093e-01],\n",
       "       [5.60793240e-15, 1.00000000e+00, 7.06100378e-09],\n",
       "       [1.00000000e+00, 1.51719917e-08, 3.38368480e-08],\n",
       "       [6.24769460e-03, 9.93589759e-01, 1.62472686e-04],\n",
       "       [9.99999881e-01, 1.69896623e-07, 4.49106352e-09],\n",
       "       [1.15181284e-03, 9.79460359e-01, 1.93877257e-02],\n",
       "       [1.70266940e-05, 9.90322530e-01, 9.66043863e-03],\n",
       "       [4.05774564e-01, 8.30640271e-03, 5.85919082e-01],\n",
       "       [5.48864398e-10, 1.00000000e+00, 1.73053589e-08],\n",
       "       [7.73698484e-05, 9.99922633e-01, 3.10127639e-08],\n",
       "       [1.05141268e-07, 2.68098738e-05, 9.99973059e-01],\n",
       "       [4.61897859e-03, 9.88217175e-01, 7.16382824e-03],\n",
       "       [9.99992728e-01, 7.13539839e-06, 6.97233347e-08],\n",
       "       [3.93099338e-03, 9.91651833e-01, 4.41724434e-03],\n",
       "       [9.23204624e-08, 2.64625672e-08, 9.99999881e-01],\n",
       "       [3.46538180e-11, 5.65419489e-10, 1.00000000e+00],\n",
       "       [8.68786856e-08, 3.13089572e-07, 9.99999642e-01],\n",
       "       [6.99343516e-08, 2.55814884e-05, 9.99974370e-01],\n",
       "       [1.08577723e-07, 4.75256325e-04, 9.99524593e-01],\n",
       "       [4.21819281e-11, 9.99154687e-01, 8.45303002e-04],\n",
       "       [8.68377805e-01, 3.95755693e-02, 9.20465887e-02],\n",
       "       [3.66352879e-06, 9.99935508e-01, 6.07865513e-05],\n",
       "       [3.70204339e-06, 9.99978542e-01, 1.77273560e-05],\n",
       "       [3.70571413e-03, 3.72317445e-04, 9.95921969e-01],\n",
       "       [9.95830119e-01, 1.83320639e-03, 2.33678636e-03],\n",
       "       [3.14287945e-07, 5.01916697e-03, 9.94980514e-01],\n",
       "       [1.79266091e-09, 2.90443097e-07, 9.99999762e-01],\n",
       "       [3.01384802e-08, 9.37930764e-08, 9.99999881e-01],\n",
       "       [5.14765816e-07, 6.49437368e-01, 3.50562066e-01],\n",
       "       [4.20957193e-11, 1.00000000e+00, 1.20858523e-09],\n",
       "       [1.30091387e-08, 1.00000000e+00, 2.30855104e-08],\n",
       "       [5.81419783e-07, 9.99958992e-01, 4.04034945e-05],\n",
       "       [4.88453060e-02, 9.50010538e-01, 1.14413444e-03],\n",
       "       [5.26801023e-06, 2.11734179e-04, 9.99782979e-01],\n",
       "       [2.35349162e-05, 9.94682014e-01, 5.29449759e-03],\n",
       "       [1.14251142e-08, 3.34922515e-05, 9.99966502e-01],\n",
       "       [2.64147762e-04, 9.99735177e-01, 7.54066150e-07],\n",
       "       [1.63890263e-07, 9.98731911e-01, 1.26794516e-03],\n",
       "       [4.58902828e-02, 9.53837752e-01, 2.71949131e-04],\n",
       "       [2.17031047e-01, 7.13624120e-01, 6.93448335e-02],\n",
       "       [9.99999881e-01, 1.19435441e-07, 7.40760838e-12],\n",
       "       [2.59859434e-07, 7.25418658e-06, 9.99992490e-01],\n",
       "       [3.29889463e-06, 6.40803191e-04, 9.99355853e-01],\n",
       "       [3.35932714e-12, 1.08571339e-05, 9.99989152e-01],\n",
       "       [1.38437317e-10, 1.00000000e+00, 1.81878903e-08],\n",
       "       [1.50397565e-04, 8.88191581e-01, 1.11658052e-01],\n",
       "       [6.00670180e-09, 9.96353507e-01, 3.64654837e-03],\n",
       "       [1.12268040e-07, 9.99999881e-01, 3.31226713e-09],\n",
       "       [2.71692134e-05, 9.07100499e-01, 9.28723812e-02],\n",
       "       [7.47212070e-08, 9.99994516e-01, 5.36075504e-06],\n",
       "       [3.59398496e-06, 9.99996305e-01, 6.33520756e-08],\n",
       "       [1.00000000e+00, 1.71234566e-16, 1.86284978e-17],\n",
       "       [5.18453938e-08, 3.76543961e-02, 9.62345541e-01],\n",
       "       [2.57152493e-07, 1.41989149e-05, 9.99985576e-01],\n",
       "       [3.48094022e-06, 9.98834908e-01, 1.16164656e-03],\n",
       "       [9.99999881e-01, 1.01927611e-07, 4.07668672e-08],\n",
       "       [3.63064004e-07, 9.99996185e-01, 3.49972174e-06],\n",
       "       [1.21463563e-05, 9.99969602e-01, 1.82885069e-05],\n",
       "       [1.00000000e+00, 1.68741334e-12, 1.12220136e-10],\n",
       "       [9.99986291e-01, 1.36729677e-05, 1.89023464e-08],\n",
       "       [4.11425158e-03, 1.88302100e-02, 9.77055550e-01],\n",
       "       [1.38439163e-10, 4.29368929e-10, 1.00000000e+00],\n",
       "       [3.73925291e-09, 9.99996901e-01, 3.05386470e-06],\n",
       "       [9.99999762e-01, 8.88692231e-09, 2.81998837e-07],\n",
       "       [4.24096106e-06, 6.05523019e-06, 9.99989748e-01],\n",
       "       [9.59671021e-01, 4.03284244e-02, 5.77470701e-07],\n",
       "       [7.25752831e-01, 6.58249948e-03, 2.67664701e-01],\n",
       "       [1.79089715e-10, 8.84629758e-10, 1.00000000e+00],\n",
       "       [9.38935336e-05, 9.07868445e-02, 9.09119248e-01],\n",
       "       [1.27526782e-05, 5.73815584e-01, 4.26171660e-01],\n",
       "       [2.44106309e-06, 9.99778330e-01, 2.19263951e-04],\n",
       "       [3.63962860e-09, 9.99970317e-01, 2.96333219e-05],\n",
       "       [1.14930424e-06, 9.99929070e-01, 6.97553187e-05],\n",
       "       [1.00000000e+00, 3.68793225e-21, 2.44600113e-16],\n",
       "       [1.50023681e-07, 1.01040259e-05, 9.99989748e-01],\n",
       "       [1.00000000e+00, 3.28688097e-12, 1.42076582e-08],\n",
       "       [6.40728837e-03, 9.93575394e-01, 1.72605287e-05],\n",
       "       [3.50324735e-05, 7.61577860e-02, 9.23807204e-01],\n",
       "       [2.05581365e-08, 9.99974608e-01, 2.54316528e-05],\n",
       "       [5.48150865e-07, 1.00922830e-06, 9.99998450e-01],\n",
       "       [1.56094202e-07, 2.13945464e-06, 9.99997735e-01],\n",
       "       [8.67005251e-03, 2.00473750e-03, 9.89325166e-01],\n",
       "       [5.92226768e-10, 7.57804202e-08, 9.99999881e-01],\n",
       "       [1.00000000e+00, 6.37976748e-20, 3.42575462e-14],\n",
       "       [6.07210637e-08, 9.44894493e-01, 5.51053546e-02],\n",
       "       [1.82500751e-10, 6.24126972e-09, 1.00000000e+00],\n",
       "       [4.19091748e-06, 8.70101849e-06, 9.99987125e-01],\n",
       "       [9.99995351e-01, 4.00268982e-06, 6.03560181e-07],\n",
       "       [9.99979377e-01, 2.45148840e-06, 1.81441992e-05],\n",
       "       [9.99997735e-01, 4.22123270e-09, 2.28579961e-06],\n",
       "       [1.30508954e-06, 9.99941111e-01, 5.75674094e-05],\n",
       "       [2.13877036e-04, 6.22154403e-06, 9.99779880e-01],\n",
       "       [3.22220162e-09, 9.99994993e-01, 4.99880616e-06],\n",
       "       [2.26080443e-09, 1.49975214e-08, 1.00000000e+00],\n",
       "       [1.00000000e+00, 5.16383936e-10, 2.47222381e-13],\n",
       "       [9.99997258e-01, 2.78567791e-06, 1.10370610e-08],\n",
       "       [2.97396764e-06, 4.18012460e-05, 9.99955177e-01],\n",
       "       [6.96117786e-09, 1.56034417e-07, 9.99999881e-01],\n",
       "       [1.00000000e+00, 1.85846663e-21, 1.36587896e-15],\n",
       "       [9.99997973e-01, 1.75685273e-06, 2.68891512e-07],\n",
       "       [1.00000000e+00, 8.51224993e-11, 1.54280408e-11],\n",
       "       [4.73509954e-06, 9.99994874e-01, 3.10663467e-07],\n",
       "       [1.00000000e+00, 2.24219171e-10, 3.22724865e-13],\n",
       "       [3.47141385e-01, 3.50220323e-01, 3.02638322e-01],\n",
       "       [3.69540900e-02, 1.50082251e-02, 9.48037684e-01],\n",
       "       [5.73523266e-07, 9.99824822e-01, 1.74612302e-04],\n",
       "       [2.60060801e-07, 9.99993563e-01, 6.16403349e-06],\n",
       "       [1.81572916e-11, 3.33727490e-11, 1.00000000e+00],\n",
       "       [1.00000000e+00, 1.09013635e-13, 2.17602679e-14],\n",
       "       [9.99983907e-01, 1.59374085e-05, 1.51022334e-07],\n",
       "       [6.35254516e-09, 1.55418832e-06, 9.99998450e-01],\n",
       "       [8.02877054e-09, 9.99984264e-01, 1.57593258e-05],\n",
       "       [4.48415444e-10, 3.96226163e-09, 1.00000000e+00],\n",
       "       [1.54663965e-07, 9.99994874e-01, 5.06288370e-06],\n",
       "       [9.55532364e-09, 2.77754673e-08, 1.00000000e+00],\n",
       "       [7.36899466e-08, 9.99999523e-01, 3.16091501e-07],\n",
       "       [6.14458827e-07, 4.11544107e-02, 9.58845019e-01],\n",
       "       [1.13780829e-09, 7.42849071e-09, 1.00000000e+00],\n",
       "       [9.84044163e-07, 9.99992728e-01, 6.33689569e-06],\n",
       "       [1.42292321e-01, 8.31449151e-01, 2.62585189e-02],\n",
       "       [2.18060379e-12, 9.97999370e-01, 2.00060476e-03],\n",
       "       [1.05279389e-06, 9.62543726e-01, 3.74552235e-02],\n",
       "       [2.12930609e-03, 2.00360751e-04, 9.97670352e-01],\n",
       "       [8.39646191e-07, 6.74732089e-01, 3.25267076e-01],\n",
       "       [1.08644007e-12, 2.94669115e-11, 1.00000000e+00],\n",
       "       [5.23010595e-03, 1.85462064e-03, 9.92915273e-01],\n",
       "       [3.90871469e-09, 9.99543071e-01, 4.56913083e-04],\n",
       "       [5.13493414e-10, 9.93773028e-08, 9.99999881e-01],\n",
       "       [1.08128631e-07, 4.39799749e-07, 9.99999404e-01],\n",
       "       [1.00000000e+00, 6.54365184e-09, 2.42241661e-15],\n",
       "       [9.99593675e-01, 4.06216219e-04, 1.10886866e-07],\n",
       "       [8.22706383e-08, 1.74568608e-08, 9.99999881e-01],\n",
       "       [6.05174500e-06, 3.72879331e-05, 9.99956608e-01],\n",
       "       [6.12171702e-10, 9.99738753e-01, 2.61233683e-04],\n",
       "       [9.99993682e-01, 6.19386901e-06, 7.32137408e-08],\n",
       "       [9.76478219e-01, 1.31400826e-03, 2.22077593e-02],\n",
       "       [9.99999642e-01, 4.52161153e-08, 3.70404422e-07],\n",
       "       [6.87669977e-10, 1.19303795e-05, 9.99988079e-01],\n",
       "       [8.15665757e-08, 2.05828158e-07, 9.99999762e-01],\n",
       "       [4.70974865e-12, 9.99999881e-01, 9.90129010e-08],\n",
       "       [1.85385084e-04, 2.30636360e-05, 9.99791563e-01],\n",
       "       [1.25645438e-10, 9.99985456e-01, 1.45911572e-05],\n",
       "       [2.13892832e-08, 2.45066275e-07, 9.99999762e-01],\n",
       "       [1.76544563e-04, 1.02771999e-04, 9.99720633e-01],\n",
       "       [4.95666654e-06, 9.99843478e-01, 1.51526168e-04],\n",
       "       [2.30224192e-04, 3.29199642e-01, 6.70570135e-01],\n",
       "       [4.01079615e-06, 4.51008927e-05, 9.99950886e-01],\n",
       "       [1.53909673e-06, 6.83323201e-03, 9.93165195e-01],\n",
       "       [3.05973309e-08, 6.04118853e-08, 9.99999881e-01],\n",
       "       [1.00000000e+00, 1.18213120e-10, 6.73691147e-09],\n",
       "       [9.99716938e-01, 1.11394453e-04, 1.71626714e-04],\n",
       "       [7.49757756e-11, 9.99960065e-01, 3.99671844e-05],\n",
       "       [1.00000000e+00, 3.86567471e-12, 9.94639158e-13],\n",
       "       [1.01257314e-08, 1.16087170e-03, 9.98839080e-01],\n",
       "       [9.99999166e-01, 3.64098351e-09, 7.88979548e-07],\n",
       "       [3.92550504e-07, 5.11402914e-06, 9.99994516e-01],\n",
       "       [1.00000000e+00, 2.78416049e-12, 1.57537861e-09],\n",
       "       [1.55572070e-05, 6.13131851e-06, 9.99978304e-01],\n",
       "       [5.03614778e-03, 9.93405342e-01, 1.55843887e-03],\n",
       "       [7.23618882e-07, 9.99995112e-01, 4.16986131e-06],\n",
       "       [1.14845365e-01, 1.57666218e-04, 8.84996951e-01],\n",
       "       [1.26553117e-04, 9.98769820e-01, 1.10355474e-03],\n",
       "       [1.00000000e+00, 7.00027059e-09, 2.91818696e-12],\n",
       "       [2.08983437e-07, 9.99999166e-01, 5.70185591e-07],\n",
       "       [8.67261171e-01, 2.84994654e-02, 1.04239397e-01],\n",
       "       [3.20387480e-04, 4.66392189e-02, 9.53040361e-01],\n",
       "       [1.95191916e-08, 6.05231708e-06, 9.99993920e-01],\n",
       "       [4.02445473e-11, 1.21767407e-09, 1.00000000e+00],\n",
       "       [3.14491224e-08, 9.75732565e-01, 2.42674500e-02],\n",
       "       [2.80566514e-04, 5.97525597e-01, 4.02193844e-01],\n",
       "       [1.07367455e-07, 1.08708313e-07, 9.99999762e-01],\n",
       "       [1.10220458e-06, 9.99998689e-01, 1.85125671e-07],\n",
       "       [5.20129824e-08, 1.17273444e-07, 9.99999881e-01],\n",
       "       [2.17926996e-07, 1.79660549e-06, 9.99997973e-01],\n",
       "       [4.60757008e-07, 9.56986189e-01, 4.30133604e-02],\n",
       "       [5.37542633e-07, 7.41908980e-06, 9.99992013e-01],\n",
       "       [2.34463826e-07, 9.99956131e-01, 4.36809714e-05],\n",
       "       [7.80705079e-07, 9.99911308e-01, 8.78749488e-05],\n",
       "       [1.25335669e-06, 4.37132120e-01, 5.62866569e-01],\n",
       "       [3.59624663e-10, 1.93784017e-10, 1.00000000e+00],\n",
       "       [3.65325690e-13, 2.38491199e-10, 1.00000000e+00],\n",
       "       [2.43477197e-03, 9.81105149e-01, 1.64600518e-02],\n",
       "       [2.56825203e-12, 1.07478015e-09, 1.00000000e+00],\n",
       "       [1.00000000e+00, 4.22639371e-15, 1.82236619e-15],\n",
       "       [3.03666252e-06, 2.99748137e-07, 9.99996662e-01],\n",
       "       [2.10669825e-07, 4.81181262e-10, 9.99999762e-01],\n",
       "       [2.18146624e-06, 6.92643784e-03, 9.93071377e-01],\n",
       "       [1.41228520e-04, 9.89411652e-01, 1.04471799e-02],\n",
       "       [4.03830597e-07, 9.99999642e-01, 2.76206649e-08],\n",
       "       [4.22131210e-12, 5.23918752e-05, 9.99947548e-01],\n",
       "       [5.92128254e-06, 8.99743199e-01, 1.00250863e-01],\n",
       "       [2.59357313e-09, 6.78308387e-09, 1.00000000e+00],\n",
       "       [1.72463585e-10, 1.49154417e-07, 9.99999881e-01],\n",
       "       [2.74002844e-07, 4.02611524e-01, 5.97388208e-01],\n",
       "       [4.39391807e-02, 3.61662954e-01, 5.94397902e-01],\n",
       "       [1.00000000e+00, 1.31894695e-09, 5.21061493e-11],\n",
       "       [1.32391587e-01, 2.07686037e-01, 6.59922361e-01],\n",
       "       [4.13730902e-07, 9.04329360e-01, 9.56702307e-02],\n",
       "       [9.77956773e-08, 4.59296371e-06, 9.99995351e-01],\n",
       "       [4.09539330e-12, 7.39183798e-02, 9.26081598e-01],\n",
       "       [2.91991819e-06, 9.99996781e-01, 3.80744666e-07],\n",
       "       [1.30950377e-06, 6.27388290e-05, 9.99935985e-01],\n",
       "       [6.41254246e-07, 1.57705955e-07, 9.99999166e-01],\n",
       "       [1.36713607e-09, 9.99902248e-01, 9.77974414e-05],\n",
       "       [3.90363493e-05, 1.23215868e-04, 9.99837756e-01],\n",
       "       [1.00000000e+00, 4.58994745e-15, 1.15433206e-12],\n",
       "       [3.25415639e-10, 3.15312136e-05, 9.99968410e-01],\n",
       "       [9.99999046e-01, 7.22421248e-07, 2.06225479e-07],\n",
       "       [1.27041586e-10, 9.99561369e-01, 4.38652321e-04],\n",
       "       [1.00000000e+00, 1.23544908e-09, 3.36833317e-12],\n",
       "       [1.17217496e-06, 1.69382820e-05, 9.99981880e-01],\n",
       "       [3.89417380e-07, 1.88987760e-04, 9.99810636e-01],\n",
       "       [1.85095374e-07, 9.98302937e-01, 1.69683318e-03],\n",
       "       [8.04877974e-13, 9.93768811e-01, 6.23122044e-03],\n",
       "       [1.06608335e-04, 5.38452685e-01, 4.61440712e-01],\n",
       "       [6.74953526e-07, 9.99032497e-01, 9.66789492e-04],\n",
       "       [5.81265369e-04, 1.43661425e-01, 8.55757296e-01],\n",
       "       [4.61093396e-06, 2.42605583e-05, 9.99971151e-01],\n",
       "       [4.73234057e-03, 3.58095586e-01, 6.37172043e-01],\n",
       "       [3.79983350e-10, 4.37864230e-07, 9.99999523e-01],\n",
       "       [1.00000000e+00, 2.12506923e-09, 2.44490289e-10],\n",
       "       [7.87375409e-09, 5.44468737e-09, 1.00000000e+00],\n",
       "       [5.61776687e-07, 9.99375641e-01, 6.23842352e-04],\n",
       "       [4.16535471e-07, 2.22776562e-01, 7.77222991e-01],\n",
       "       [1.73242165e-06, 9.99991298e-01, 6.85582745e-06],\n",
       "       [3.36614292e-08, 9.99853015e-01, 1.46918697e-04],\n",
       "       [3.20894713e-07, 9.99997616e-01, 2.00867385e-06],\n",
       "       [5.86576571e-05, 1.06249128e-04, 9.99835014e-01],\n",
       "       [3.91489547e-03, 1.24808890e-03, 9.94837046e-01],\n",
       "       [5.28255795e-09, 4.11081714e-07, 9.99999642e-01],\n",
       "       [4.98940895e-14, 1.65681535e-09, 1.00000000e+00],\n",
       "       [6.13299315e-04, 7.69132078e-01, 2.30254620e-01],\n",
       "       [2.84273716e-09, 1.18382911e-06, 9.99998808e-01],\n",
       "       [4.44258660e-01, 5.55172920e-01, 5.68411895e-04],\n",
       "       [9.99998331e-01, 1.69356292e-06, 2.28413136e-10],\n",
       "       [6.99788652e-05, 9.99910951e-01, 1.90599876e-05],\n",
       "       [5.31996321e-03, 9.94183004e-01, 4.97114437e-04],\n",
       "       [8.93168295e-09, 1.53426313e-07, 9.99999881e-01],\n",
       "       [4.80796089e-12, 9.99539614e-01, 4.60429466e-04],\n",
       "       [4.11643875e-09, 9.99999642e-01, 3.80848888e-07],\n",
       "       [1.00000000e+00, 0.00000000e+00, 2.26494138e-26],\n",
       "       [1.36944538e-04, 1.08253246e-03, 9.98780549e-01],\n",
       "       [1.24481247e-07, 2.76430228e-06, 9.99997139e-01],\n",
       "       [6.58474091e-05, 9.99799311e-01, 1.34881077e-04],\n",
       "       [7.30579226e-12, 5.86623116e-07, 9.99999404e-01],\n",
       "       [2.21390306e-09, 9.99999881e-01, 6.68387514e-08]], dtype=float32)"
      ]
     },
     "execution_count": 19,
     "metadata": {},
     "output_type": "execute_result"
    }
   ],
   "source": [
    "y_pred"
   ]
  },
  {
   "cell_type": "code",
   "execution_count": 20,
   "metadata": {
    "id": "RxjHiTLRFADM"
   },
   "outputs": [],
   "source": [
    "import numpy as np\n",
    "y_pred = np.argmax(y_pred, axis=1)"
   ]
  },
  {
   "cell_type": "code",
   "execution_count": 21,
   "metadata": {
    "colab": {
     "base_uri": "https://localhost:8080/"
    },
    "id": "WQHmT8y3FAGG",
    "outputId": "a3096e90-7ca1-44fd-8794-a128da84aae5"
   },
   "outputs": [
    {
     "data": {
      "text/plain": [
       "array([2, 1, 1, 1, 0, 1, 2, 1, 1, 0, 2, 1, 2, 2, 1, 1, 2, 2, 1, 2, 1, 1,\n",
       "       2, 2, 1, 1, 1, 0, 1, 2, 2, 1, 0, 1, 0, 1, 1, 2, 1, 1, 2, 1, 0, 1,\n",
       "       2, 2, 2, 2, 2, 1, 0, 1, 1, 2, 0, 2, 2, 2, 1, 1, 1, 1, 1, 2, 1, 2,\n",
       "       1, 1, 1, 1, 0, 2, 2, 2, 1, 1, 1, 1, 1, 1, 1, 0, 2, 2, 1, 0, 1, 1,\n",
       "       0, 0, 2, 2, 1, 0, 2, 0, 0, 2, 2, 1, 1, 1, 1, 0, 2, 0, 1, 2, 1, 2,\n",
       "       2, 2, 2, 0, 1, 2, 2, 0, 0, 0, 1, 2, 1, 2, 0, 0, 2, 2, 0, 0, 0, 1,\n",
       "       0, 1, 2, 1, 1, 2, 0, 0, 2, 1, 2, 1, 2, 1, 2, 2, 1, 1, 1, 1, 2, 1,\n",
       "       2, 2, 1, 2, 2, 0, 0, 2, 2, 1, 0, 0, 0, 2, 2, 1, 2, 1, 2, 2, 1, 2,\n",
       "       2, 2, 2, 0, 0, 1, 0, 2, 0, 2, 0, 2, 1, 1, 2, 1, 0, 1, 0, 2, 2, 2,\n",
       "       1, 1, 2, 1, 2, 2, 1, 2, 1, 1, 2, 2, 2, 1, 2, 0, 2, 2, 2, 1, 1, 2,\n",
       "       1, 2, 2, 2, 2, 0, 2, 1, 2, 2, 1, 2, 2, 1, 2, 0, 2, 0, 1, 0, 2, 2,\n",
       "       1, 1, 1, 1, 2, 2, 2, 2, 0, 2, 1, 2, 1, 1, 1, 2, 2, 2, 2, 1, 2, 1,\n",
       "       0, 1, 1, 2, 1, 1, 0, 2, 2, 1, 2, 1])"
      ]
     },
     "execution_count": 21,
     "metadata": {},
     "output_type": "execute_result"
    }
   ],
   "source": [
    "y_pred"
   ]
  },
  {
   "cell_type": "code",
   "execution_count": 22,
   "metadata": {
    "id": "haiiXHjLFH8e"
   },
   "outputs": [],
   "source": [
    "from tensorflow.keras.models import load_model\n",
    "from tensorflow.keras.preprocessing import image"
   ]
  },
  {
   "cell_type": "code",
   "execution_count": 23,
   "metadata": {
    "id": "TGPUXHbBFfHh"
   },
   "outputs": [],
   "source": [
    "model=load_model('model_resnet50.h5')"
   ]
  },
  {
   "cell_type": "code",
   "execution_count": 24,
   "metadata": {
    "id": "9WYp46KQFfNa"
   },
   "outputs": [],
   "source": [
    "img=image.load_img('/content/drive/MyDrive/Dataset/Fliprobo image classification/Images/Test/Saree/51YxR1jlkyL._AC_UL320_.jpg',target_size=(224,224))"
   ]
  },
  {
   "cell_type": "code",
   "execution_count": 25,
   "metadata": {
    "colab": {
     "base_uri": "https://localhost:8080/"
    },
    "id": "KoNevNWeFxFS",
    "outputId": "4e96d34e-cf3a-462b-c0bd-f918712cc1ef"
   },
   "outputs": [
    {
     "data": {
      "text/plain": [
       "array([[[255., 255., 255.],\n",
       "        [255., 255., 255.],\n",
       "        [255., 255., 255.],\n",
       "        ...,\n",
       "        [255., 255., 255.],\n",
       "        [255., 255., 255.],\n",
       "        [255., 255., 255.]],\n",
       "\n",
       "       [[255., 255., 255.],\n",
       "        [255., 255., 255.],\n",
       "        [255., 255., 255.],\n",
       "        ...,\n",
       "        [255., 255., 255.],\n",
       "        [255., 255., 255.],\n",
       "        [255., 255., 255.]],\n",
       "\n",
       "       [[255., 255., 255.],\n",
       "        [255., 255., 255.],\n",
       "        [255., 255., 255.],\n",
       "        ...,\n",
       "        [255., 255., 255.],\n",
       "        [255., 255., 255.],\n",
       "        [255., 255., 255.]],\n",
       "\n",
       "       ...,\n",
       "\n",
       "       [[255., 255., 255.],\n",
       "        [255., 255., 255.],\n",
       "        [255., 255., 255.],\n",
       "        ...,\n",
       "        [255., 255., 255.],\n",
       "        [255., 255., 255.],\n",
       "        [255., 255., 255.]],\n",
       "\n",
       "       [[255., 255., 255.],\n",
       "        [255., 255., 255.],\n",
       "        [255., 255., 255.],\n",
       "        ...,\n",
       "        [255., 255., 255.],\n",
       "        [255., 255., 255.],\n",
       "        [255., 255., 255.]],\n",
       "\n",
       "       [[255., 255., 255.],\n",
       "        [255., 255., 255.],\n",
       "        [255., 255., 255.],\n",
       "        ...,\n",
       "        [255., 255., 255.],\n",
       "        [255., 255., 255.],\n",
       "        [255., 255., 255.]]], dtype=float32)"
      ]
     },
     "execution_count": 25,
     "metadata": {},
     "output_type": "execute_result"
    }
   ],
   "source": [
    "x=image.img_to_array(img)\n",
    "x"
   ]
  },
  {
   "cell_type": "code",
   "execution_count": 26,
   "metadata": {
    "colab": {
     "base_uri": "https://localhost:8080/"
    },
    "id": "0BAFrmmoFxHe",
    "outputId": "a0ad98aa-8c6f-4bcd-e2f4-ae55e43d3a04"
   },
   "outputs": [
    {
     "data": {
      "text/plain": [
       "(224, 224, 3)"
      ]
     },
     "execution_count": 26,
     "metadata": {},
     "output_type": "execute_result"
    }
   ],
   "source": [
    "x.shape"
   ]
  },
  {
   "cell_type": "code",
   "execution_count": 27,
   "metadata": {
    "id": "Ec-l7HnpFxLu"
   },
   "outputs": [],
   "source": [
    "x=x/255"
   ]
  },
  {
   "cell_type": "code",
   "execution_count": 28,
   "metadata": {
    "colab": {
     "base_uri": "https://localhost:8080/"
    },
    "id": "0_2QsOP5F6iF",
    "outputId": "ce48b9c9-2f6d-4e62-c4fc-99d97c2c62b3"
   },
   "outputs": [
    {
     "data": {
      "text/plain": [
       "(1, 224, 224, 3)"
      ]
     },
     "execution_count": 28,
     "metadata": {},
     "output_type": "execute_result"
    }
   ],
   "source": [
    "import numpy as np\n",
    "x=np.expand_dims(x,axis=0)\n",
    "img_data=preprocess_input(x)\n",
    "img_data.shape"
   ]
  },
  {
   "cell_type": "code",
   "execution_count": 29,
   "metadata": {
    "colab": {
     "base_uri": "https://localhost:8080/"
    },
    "id": "78yhzYwNF6mD",
    "outputId": "71e785d4-339e-4427-aee0-cef7349a6dc6"
   },
   "outputs": [
    {
     "data": {
      "text/plain": [
       "array([[0.00363997, 0.85019946, 0.14616059]], dtype=float32)"
      ]
     },
     "execution_count": 29,
     "metadata": {},
     "output_type": "execute_result"
    }
   ],
   "source": [
    "model.predict(img_data)"
   ]
  },
  {
   "cell_type": "code",
   "execution_count": 30,
   "metadata": {
    "id": "xXkVFKqxGAYq"
   },
   "outputs": [],
   "source": [
    "a=np.argmax(model.predict(img_data), axis=1)"
   ]
  },
  {
   "cell_type": "code",
   "execution_count": 31,
   "metadata": {
    "colab": {
     "base_uri": "https://localhost:8080/"
    },
    "id": "P0MKbGqYGAay",
    "outputId": "194472d2-397f-4495-f233-c2b545f43add"
   },
   "outputs": [
    {
     "data": {
      "text/plain": [
       "array([ True])"
      ]
     },
     "execution_count": 31,
     "metadata": {},
     "output_type": "execute_result"
    }
   ],
   "source": [
    "a==1"
   ]
  },
  {
   "cell_type": "code",
   "execution_count": 31,
   "metadata": {
    "id": "wotGlFGLGAex"
   },
   "outputs": [],
   "source": []
  }
 ],
 "metadata": {
  "accelerator": "GPU",
  "colab": {
   "collapsed_sections": [],
   "name": "Transfer Learning VGG 16 and VGG 19 using Keras.ipynb",
   "provenance": []
  },
  "kernelspec": {
   "display_name": "Python 3",
   "language": "python",
   "name": "python3"
  },
  "language_info": {
   "codemirror_mode": {
    "name": "ipython",
    "version": 3
   },
   "file_extension": ".py",
   "mimetype": "text/x-python",
   "name": "python",
   "nbconvert_exporter": "python",
   "pygments_lexer": "ipython3",
   "version": "3.8.5"
  }
 },
 "nbformat": 4,
 "nbformat_minor": 1
}
